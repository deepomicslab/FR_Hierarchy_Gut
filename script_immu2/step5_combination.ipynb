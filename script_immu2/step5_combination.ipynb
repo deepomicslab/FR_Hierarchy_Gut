{
 "cells": [
  {
   "cell_type": "code",
   "execution_count": 1,
   "metadata": {},
   "outputs": [],
   "source": [
    "# this is the pipeline of phenotype analysis\n",
    "import sys\n",
    "import os\n",
    "import pandas as pd\n",
    "import json\n",
    "sys.path.append('..')\n",
    "import abd_profile"
   ]
  },
  {
   "cell_type": "code",
   "execution_count": 2,
   "metadata": {},
   "outputs": [],
   "source": [
    "sig_dir = '../result/immu/SE_sig'\n",
    "se_dir = '../result/immu/SE'\n",
    "outdir = '../result/immu/combine'\n",
    "if not os.path.exists(outdir):\n",
    "    os.makedirs(outdir)\n",
    "sig_sp_dict = json.load(open(os.path.join(sig_dir,'cluster_sp.json')))\n",
    "se_sp_dict = json.load(open(os.path.join(se_dir,'cluster_sp.json')))\n",
    "sig_sp_dict['sig1'] = sig_sp_dict['sig1'].split(',')\n",
    "sig_sp_dict['sig2'] = sig_sp_dict['sig2'].split(',')\n",
    "se_sp_dict['supercluster_S3'] = se_sp_dict['supercluster_S3'].split(',')\n",
    "se_sp_dict['cluster_S1-C20'] = se_sp_dict['cluster_S1-C20'].split(',')\n",
    "\n",
    "# load num of sig\n",
    "sig_sps = json.load(open(os.path.join(sig_dir,'existed_sp.json')))\n",
    "se_sps = json.load(open(os.path.join(se_dir,'existed_sp.json')))\n"
   ]
  },
  {
   "cell_type": "code",
   "execution_count": 3,
   "metadata": {},
   "outputs": [
    {
     "name": "stdout",
     "output_type": "stream",
     "text": [
      "set()\n",
      "set()\n",
      "set()\n",
      "6\n"
     ]
    }
   ],
   "source": [
    "print(set(sig_sp_dict['sig1']).intersection(set(se_sp_dict['supercluster_S3'])))\n",
    "print(set(sig_sp_dict['sig2']).intersection(set(se_sp_dict['supercluster_S3'])))\n",
    "print(set(sig_sp_dict['sig1']).intersection(set(se_sp_dict['cluster_S1-C20'])))\n",
    "print(len(set(sig_sp_dict['sig2']).intersection(set(se_sp_dict['cluster_S1-C20']))))"
   ]
  },
  {
   "cell_type": "code",
   "execution_count": 4,
   "metadata": {},
   "outputs": [],
   "source": [
    "new_sp_dict = {}\n",
    "new_sp_dict['pos'] = list(set(sig_sp_dict['sig2']).union(set(se_sp_dict['cluster_S1-C20'])))\n",
    "new_sp_dict['neg'] = list(set(sig_sp_dict['sig1']).union(set(se_sp_dict['supercluster_S3'])))\n",
    "\n",
    "sample_sps = {'pos':{}, 'neg':{}}\n",
    "# neg\n",
    "for sample in sig_sps['sig1'].keys():\n",
    "    sp_list_sig = sig_sps['sig1'][sample].split(',')\n",
    "    sp_list_se = se_sps['supercluster_S3'][sample].split(',')\n",
    "    all_sp = list(set(sp_list_sig).union(set(sp_list_se)))\n",
    "    sample_sps['neg'][sample] = all_sp\n",
    "\n",
    "# pos \n",
    "for sample in sig_sps['sig2'].keys():\n",
    "    sp_list_sig = sig_sps['sig2'][sample].split(',')\n",
    "    sp_list_se = se_sps['cluster_S1-C20'][sample].split(',')\n",
    "    all_sp = list(set(sp_list_sig).union(set(sp_list_se)))\n",
    "    sample_sps['pos'][sample] = all_sp\n"
   ]
  },
  {
   "cell_type": "code",
   "execution_count": 5,
   "metadata": {},
   "outputs": [],
   "source": [
    "\n",
    "score_df = pd.DataFrame(index= sample_sps['pos'].keys(), columns=['score'])\n",
    "for sample in sample_sps['pos'].keys():\n",
    "    pos = len(set(sample_sps['pos'][sample]).intersection(set(new_sp_dict['pos'])))/len(new_sp_dict['pos'])\n",
    "    neg = len(set(sample_sps['neg'][sample]).intersection(set(new_sp_dict['neg'])))/len(new_sp_dict['neg'])\n",
    "    score_df.loc[sample, 'score'] = (pos - neg +1)/2\n",
    "score_df.to_csv(os.path.join(outdir, 'score_disc.tsv'), sep='\\t')"
   ]
  },
  {
   "cell_type": "code",
   "execution_count": 6,
   "metadata": {},
   "outputs": [
    {
     "name": "stdout",
     "output_type": "stream",
     "text": [
      "0.65625 42 64\n",
      "0.2948717948717949 23 78\n",
      "28 60 0.3181818181818182\n",
      "0.12173913043478261 0.2608695652173913\n",
      "0.21304347826086956 0.04782608695652174\n",
      "0.5887096774193549\n",
      "0.36792452830188677\n",
      "124\n",
      "106\n"
     ]
    }
   ],
   "source": [
    "# Cohort OS Sample_id TOPOB01 OS12\n",
    "DS1 = pd.read_csv('../data/immu/DS1_oncology_clinical_data.csv', header=0)\n",
    "DS1 = DS1[DS1['Cohort']=='Disc']\n",
    "DS1.set_index('Sample_id', inplace=True)\n",
    "DS1.dropna(subset=['OS12'], inplace=True)\n",
    "DS1['Sample_id'] = DS1.index\n",
    "\n",
    "pred_disc = pd.read_csv(os.path.join(outdir, 'score_disc.tsv'), sep='\\t', header=0, index_col=0)\n",
    "DS1['TOPOB01'] = pred_disc.loc[DS1.index, 'score']\n",
    "DS1.to_csv(os.path.join(outdir, 'pred_disc.tsv'), sep='\\t', index=False)\n",
    "DS1.loc[DS1[DS1['TOPOB01'] < 0.499].index, 'TOPOB01'] = 0\n",
    "DS1.loc[DS1[DS1['TOPOB01'] >= 0.643].index, 'TOPOB01'] = 1\n",
    "pred_DS1 = DS1[(DS1['TOPOB01'] == 0) | (DS1['TOPOB01'] == 1)]\n",
    "pred_DS1.to_csv(os.path.join(outdir, 'pred_binary_disc.tsv'), sep='\\t', index=False)\n",
    "print(len(pred_DS1[((pred_DS1['OS12']=='NR')&(pred_DS1['TOPOB01'] == 0))])/len(pred_DS1[pred_DS1['TOPOB01'] == 0]), len(pred_DS1[((pred_DS1['OS12']=='NR')&(pred_DS1['TOPOB01'] == 0))]), len(pred_DS1[pred_DS1['TOPOB01'] == 0]))\n",
    "print(len(pred_DS1[((pred_DS1['OS12']=='NR')&(pred_DS1['TOPOB01'] == 1))])/len(pred_DS1[pred_DS1['TOPOB01'] == 1]), len(pred_DS1[((pred_DS1['OS12']=='NR')&(pred_DS1['TOPOB01'] == 1))]), len(pred_DS1[pred_DS1['TOPOB01'] == 1]))\n",
    "\n",
    "# NR [64] < 0.50 < gray_zone [88] < 0.64 < R [78]\n",
    "# auc = 0.680\n",
    "\n",
    "# add akk\n",
    "normal_n = 0\n",
    "abnormal_n = 0\n",
    "zero_n = 0\n",
    "for sample in DS1.index:\n",
    "    if DS1.loc[sample, 'TOPOB01'] < 1 and DS1.loc[sample, 'TOPOB01'] > 0:\n",
    "        if DS1.loc[sample, 'AKK_TRICHO'] == 'Low':\n",
    "            DS1.loc[sample, 'TOPOB01'] = 1\n",
    "            normal_n += 1\n",
    "        else:\n",
    "            DS1.loc[sample, 'TOPOB01'] = 0\n",
    "            if DS1.loc[sample, 'AKK_TRICHO'] == 'Zero':\n",
    "                zero_n += 1\n",
    "            abnormal_n += 1\n",
    "DS1.to_csv(os.path.join(outdir, 'pred_disc_akk.tsv'), sep='\\t', index=False)\n",
    "print(normal_n, abnormal_n, normal_n/(normal_n+abnormal_n))\n",
    "print(normal_n/230, abnormal_n/230)\n",
    "print(zero_n/230, (abnormal_n-zero_n)/230)\n",
    "print(len(DS1[((DS1['OS12']=='NR')&(DS1['TOPOB01'] == 0))])/len(DS1[DS1['TOPOB01'] == 0]))\n",
    "print(len(DS1[((DS1['OS12']=='NR')&(DS1['TOPOB01'] == 1))])/len(DS1[DS1['TOPOB01'] == 1]))\n",
    "print(len(DS1[DS1['TOPOB01'] == 0]))\n",
    "print(len(DS1[DS1['TOPOB01'] == 1]))\n",
    "# auc = 0.61"
   ]
  },
  {
   "cell_type": "code",
   "execution_count": 7,
   "metadata": {},
   "outputs": [
    {
     "name": "stdout",
     "output_type": "stream",
     "text": [
      "pos 32\n",
      "neg 36\n"
     ]
    }
   ],
   "source": [
    "for c,  slist in new_sp_dict.items():\n",
    "    print(c, len(slist))"
   ]
  },
  {
   "cell_type": "code",
   "execution_count": 8,
   "metadata": {},
   "outputs": [],
   "source": [
    "# time points\n",
    "time_df = pd.read_csv('../data/immu/DS5_longitudinal_clinical_data.csv', header=0)\n",
    "time_df.dropna(how='any', inplace=True)"
   ]
  },
  {
   "cell_type": "code",
   "execution_count": 9,
   "metadata": {},
   "outputs": [
    {
     "data": {
      "text/html": [
       "<div>\n",
       "<style scoped>\n",
       "    .dataframe tbody tr th:only-of-type {\n",
       "        vertical-align: middle;\n",
       "    }\n",
       "\n",
       "    .dataframe tbody tr th {\n",
       "        vertical-align: top;\n",
       "    }\n",
       "\n",
       "    .dataframe thead th {\n",
       "        text-align: right;\n",
       "    }\n",
       "</style>\n",
       "<table border=\"1\" class=\"dataframe\">\n",
       "  <thead>\n",
       "    <tr style=\"text-align: right;\">\n",
       "      <th></th>\n",
       "      <th>Patient_id</th>\n",
       "      <th>Sample_id_V0</th>\n",
       "      <th>AKK_TRICHO_V0</th>\n",
       "      <th>Sample_id_V3</th>\n",
       "      <th>AKK_TRICHO_V3</th>\n",
       "    </tr>\n",
       "  </thead>\n",
       "  <tbody>\n",
       "  </tbody>\n",
       "</table>\n",
       "</div>"
      ],
      "text/plain": [
       "Empty DataFrame\n",
       "Columns: [Patient_id, Sample_id_V0, AKK_TRICHO_V0, Sample_id_V3, AKK_TRICHO_V3]\n",
       "Index: []"
      ]
     },
     "execution_count": 9,
     "metadata": {},
     "output_type": "execute_result"
    }
   ],
   "source": [
    "time_df[(time_df['Sample_id_V0'].isin(pred_disc.index)) & (time_df['Sample_id_V3'].isin(pred_disc.index))]"
   ]
  },
  {
   "cell_type": "code",
   "execution_count": 10,
   "metadata": {},
   "outputs": [
    {
     "data": {
      "text/plain": [
       "['C26490',\n",
       " 'C26505',\n",
       " 'LUM2_001',\n",
       " 'LUM2_002',\n",
       " 'LUM2_003',\n",
       " 'LUM2_004',\n",
       " 'LUM2_005',\n",
       " 'LUM2_006',\n",
       " 'LUM2_007',\n",
       " 'LUM2_008',\n",
       " 'LUM2_009',\n",
       " 'LUM2_010',\n",
       " 'LUM2_011',\n",
       " 'LUM2_013',\n",
       " 'LUM2_015',\n",
       " 'LUM2_017',\n",
       " 'LUM2_018',\n",
       " 'LUM2_019',\n",
       " 'LUM2_020',\n",
       " 'LUM2_021',\n",
       " 'LUM2_022',\n",
       " 'LUM2_023',\n",
       " 'LUM2_024',\n",
       " 'LUM2_025',\n",
       " 'LUM2_026',\n",
       " 'LUM2_027',\n",
       " 'LUM2_028',\n",
       " 'LUM2_029',\n",
       " 'LUM2_030',\n",
       " 'LUM2_031',\n",
       " 'LUM2_032',\n",
       " 'LUM2_033',\n",
       " 'LUM2_034',\n",
       " 'LUM2_035',\n",
       " 'LUM2_036',\n",
       " 'LUM2_037',\n",
       " 'LUM2_038',\n",
       " 'LUM2_039',\n",
       " 'LUM2_040',\n",
       " 'LUM2_041',\n",
       " 'LUM2_042',\n",
       " 'LUM2_043',\n",
       " 'LUM2_044',\n",
       " 'LUM2_046',\n",
       " 'LUM2_047',\n",
       " 'LUM2_049',\n",
       " 'LUM2_050',\n",
       " 'LUM2_051',\n",
       " 'LUM2_052',\n",
       " 'LUM2_053',\n",
       " 'LUM2_054',\n",
       " 'LUM2_055',\n",
       " 'LUM2_056',\n",
       " 'LUM2_057',\n",
       " 'LUM2_058',\n",
       " 'LUM2_059',\n",
       " 'LUM2_060',\n",
       " 'LUM2_061',\n",
       " 'LUM2_062',\n",
       " 'LUM2_063',\n",
       " 'LUM2_064',\n",
       " 'LUM2_065',\n",
       " 'LUM2_066',\n",
       " 'LUM2_067',\n",
       " 'LUM2_068',\n",
       " 'LUM2_069',\n",
       " 'LUM2_070',\n",
       " 'LUM2_071',\n",
       " 'LUM2_072',\n",
       " 'LUM2_073',\n",
       " 'LUM2_074',\n",
       " 'LUM2_075',\n",
       " 'LUM2_076',\n",
       " 'LUM2_077',\n",
       " 'LUM2_078',\n",
       " 'LUM2_079',\n",
       " 'LUM2_080',\n",
       " 'LUM2_081',\n",
       " 'LUM2_082',\n",
       " 'LUM2_083',\n",
       " 'LUM2_084',\n",
       " 'LUM2_086',\n",
       " 'LUM2_088',\n",
       " 'LUM2_090',\n",
       " 'LUM2_091',\n",
       " 'LUM2_092',\n",
       " 'LUM2_093',\n",
       " 'LUM2_094',\n",
       " 'LUM2_095',\n",
       " 'LUM2_096',\n",
       " 'LUM2_097',\n",
       " 'LUM3_080',\n",
       " 'LUM3_101',\n",
       " 'LUM3_116',\n",
       " 'LUM3_150',\n",
       " 'LUM3_152',\n",
       " 'LUM3_161',\n",
       " 'LUM3_194',\n",
       " 'LUM3_200',\n",
       " 'LUM3_204',\n",
       " 'LUM3_205',\n",
       " 'LUM3_221',\n",
       " 'LUM3_236',\n",
       " 'LUM3_243',\n",
       " 'LUM3_245',\n",
       " 'LUM3_246',\n",
       " 'LUM3_247',\n",
       " 'LUM3_249',\n",
       " 'LUM3_252',\n",
       " 'LUM3_253',\n",
       " 'LUM3_254',\n",
       " 'LUM3_256',\n",
       " 'LUM3_257',\n",
       " 'LUM3_258',\n",
       " 'LUM3_259',\n",
       " 'LUM3_262',\n",
       " 'LUM3_263',\n",
       " 'LUM3_266',\n",
       " 'LUM3_267',\n",
       " 'LUM3_268',\n",
       " 'LUM3_275',\n",
       " 'LUM3_329',\n",
       " 'LUM3_331',\n",
       " 'LUM3_340',\n",
       " 'LUM3_341',\n",
       " 'LUM3_350',\n",
       " 'LUM3_357',\n",
       " 'LUM3_358',\n",
       " 'LUM3_359',\n",
       " 'LUM3_360',\n",
       " 'LUM3_361',\n",
       " 'LUM3_362',\n",
       " 'LUM3_363',\n",
       " 'LUM3_365',\n",
       " 'LUM3_397',\n",
       " 'LUM3_398',\n",
       " 'LUM3_401',\n",
       " 'LUM3_405',\n",
       " 'LUM3_411',\n",
       " 'LUM_03',\n",
       " 'LUM_09',\n",
       " 'LUM_101',\n",
       " 'LUM_104',\n",
       " 'LUM_11',\n",
       " 'LUM_113',\n",
       " 'LUM_12',\n",
       " 'LUM_120',\n",
       " 'LUM_122',\n",
       " 'LUM_125',\n",
       " 'LUM_132',\n",
       " 'LUM_136',\n",
       " 'LUM_14',\n",
       " 'LUM_15',\n",
       " 'LUM_16',\n",
       " 'LUM_19',\n",
       " 'LUM_215',\n",
       " 'LUM_216',\n",
       " 'LUM_217',\n",
       " 'LUM_218',\n",
       " 'LUM_22',\n",
       " 'LUM_221',\n",
       " 'LUM_249',\n",
       " 'LUM_250',\n",
       " 'LUM_251',\n",
       " 'LUM_252',\n",
       " 'LUM_253',\n",
       " 'LUM_254',\n",
       " 'LUM_255',\n",
       " 'LUM_256',\n",
       " 'LUM_257',\n",
       " 'LUM_258',\n",
       " 'LUM_259',\n",
       " 'LUM_26',\n",
       " 'LUM_260',\n",
       " 'LUM_261',\n",
       " 'LUM_262',\n",
       " 'LUM_263',\n",
       " 'LUM_264',\n",
       " 'LUM_265',\n",
       " 'LUM_266',\n",
       " 'LUM_267',\n",
       " 'LUM_268',\n",
       " 'LUM_269',\n",
       " 'LUM_270',\n",
       " 'LUM_271',\n",
       " 'LUM_272',\n",
       " 'LUM_273',\n",
       " 'LUM_274',\n",
       " 'LUM_275',\n",
       " 'LUM_276',\n",
       " 'LUM_277',\n",
       " 'LUM_278',\n",
       " 'LUM_279',\n",
       " 'LUM_280',\n",
       " 'LUM_281',\n",
       " 'LUM_282',\n",
       " 'LUM_283',\n",
       " 'LUM_292',\n",
       " 'LUM_293',\n",
       " 'LUM_296',\n",
       " 'LUM_298',\n",
       " 'LUM_299',\n",
       " 'LUM_300',\n",
       " 'LUM_301',\n",
       " 'LUM_302',\n",
       " 'LUM_303',\n",
       " 'LUM_304',\n",
       " 'LUM_305',\n",
       " 'LUM_306',\n",
       " 'LUM_339',\n",
       " 'LUM_34',\n",
       " 'LUM_341',\n",
       " 'LUM_35',\n",
       " 'LUM_36',\n",
       " 'LUM_43',\n",
       " 'LUM_48',\n",
       " 'LUM_51',\n",
       " 'LUM_52',\n",
       " 'LUM_65',\n",
       " 'LUM_79',\n",
       " 'LUM_81',\n",
       " 'LUM_83',\n",
       " 'LUM_84',\n",
       " 'LUM_90',\n",
       " 'LUM_98',\n",
       " 'PD1p_001',\n",
       " 'PD1p_004',\n",
       " 'PD1p_006',\n",
       " 'PD1p_008',\n",
       " 'PD1p_011',\n",
       " 'PD1p_012',\n",
       " 'PD1p_014',\n",
       " 'PD1p_015',\n",
       " 'PD1p_018',\n",
       " 'PD1p_020',\n",
       " 'PD1p_023',\n",
       " 'PD1p_025',\n",
       " 'PD1p_027',\n",
       " 'PD1p_028',\n",
       " 'PD1p_030',\n",
       " 'PD1p_033',\n",
       " 'PD1p_035',\n",
       " 'PD1p_040',\n",
       " 'PD1p_048',\n",
       " 'PD1p_049']"
      ]
     },
     "execution_count": 10,
     "metadata": {},
     "output_type": "execute_result"
    }
   ],
   "source": [
    "sorted(pred_disc.index)"
   ]
  },
  {
   "cell_type": "code",
   "execution_count": 11,
   "metadata": {},
   "outputs": [
    {
     "data": {
      "text/html": [
       "<div>\n",
       "<style scoped>\n",
       "    .dataframe tbody tr th:only-of-type {\n",
       "        vertical-align: middle;\n",
       "    }\n",
       "\n",
       "    .dataframe tbody tr th {\n",
       "        vertical-align: top;\n",
       "    }\n",
       "\n",
       "    .dataframe thead th {\n",
       "        text-align: right;\n",
       "    }\n",
       "</style>\n",
       "<table border=\"1\" class=\"dataframe\">\n",
       "  <thead>\n",
       "    <tr style=\"text-align: right;\">\n",
       "      <th></th>\n",
       "      <th>Patient_id</th>\n",
       "      <th>Sample_id_V0</th>\n",
       "      <th>AKK_TRICHO_V0</th>\n",
       "      <th>Sample_id_V3</th>\n",
       "      <th>AKK_TRICHO_V3</th>\n",
       "    </tr>\n",
       "  </thead>\n",
       "  <tbody>\n",
       "    <tr>\n",
       "      <th>0</th>\n",
       "      <td>10039</td>\n",
       "      <td>LUM_216</td>\n",
       "      <td>Low</td>\n",
       "      <td>LUM3_380</td>\n",
       "      <td>Low</td>\n",
       "    </tr>\n",
       "    <tr>\n",
       "      <th>1</th>\n",
       "      <td>10040</td>\n",
       "      <td>LUM_217</td>\n",
       "      <td>Zero</td>\n",
       "      <td>LUM3_373</td>\n",
       "      <td>Zero</td>\n",
       "    </tr>\n",
       "    <tr>\n",
       "      <th>3</th>\n",
       "      <td>10046</td>\n",
       "      <td>LUM_251</td>\n",
       "      <td>Low</td>\n",
       "      <td>LUM3_386</td>\n",
       "      <td>High</td>\n",
       "    </tr>\n",
       "    <tr>\n",
       "      <th>8</th>\n",
       "      <td>10055</td>\n",
       "      <td>LUM_339</td>\n",
       "      <td>Low</td>\n",
       "      <td>LUM3_166</td>\n",
       "      <td>High</td>\n",
       "    </tr>\n",
       "    <tr>\n",
       "      <th>9</th>\n",
       "      <td>10061</td>\n",
       "      <td>LUM_262</td>\n",
       "      <td>Zero</td>\n",
       "      <td>LUM3_390</td>\n",
       "      <td>Zero</td>\n",
       "    </tr>\n",
       "    <tr>\n",
       "      <th>10</th>\n",
       "      <td>10062</td>\n",
       "      <td>LUM2_004</td>\n",
       "      <td>Zero</td>\n",
       "      <td>LUM3_060</td>\n",
       "      <td>Zero</td>\n",
       "    </tr>\n",
       "    <tr>\n",
       "      <th>12</th>\n",
       "      <td>10084</td>\n",
       "      <td>LUM2_040</td>\n",
       "      <td>Low</td>\n",
       "      <td>LUM3_087</td>\n",
       "      <td>Low</td>\n",
       "    </tr>\n",
       "    <tr>\n",
       "      <th>20</th>\n",
       "      <td>10143</td>\n",
       "      <td>LUM3_236</td>\n",
       "      <td>Zero</td>\n",
       "      <td>LUM3_335</td>\n",
       "      <td>Zero</td>\n",
       "    </tr>\n",
       "    <tr>\n",
       "      <th>23</th>\n",
       "      <td>10152</td>\n",
       "      <td>LUM3_340</td>\n",
       "      <td>Low</td>\n",
       "      <td>LUM3_367</td>\n",
       "      <td>Low</td>\n",
       "    </tr>\n",
       "    <tr>\n",
       "      <th>35</th>\n",
       "      <td>20013</td>\n",
       "      <td>LUM_104</td>\n",
       "      <td>Zero</td>\n",
       "      <td>LUM3_371</td>\n",
       "      <td>Zero</td>\n",
       "    </tr>\n",
       "    <tr>\n",
       "      <th>37</th>\n",
       "      <td>20020</td>\n",
       "      <td>LUM_273</td>\n",
       "      <td>Low</td>\n",
       "      <td>LUM3_388</td>\n",
       "      <td>Zero</td>\n",
       "    </tr>\n",
       "    <tr>\n",
       "      <th>45</th>\n",
       "      <td>70010</td>\n",
       "      <td>LUM2_013</td>\n",
       "      <td>Low</td>\n",
       "      <td>LUM3_063</td>\n",
       "      <td>Low</td>\n",
       "    </tr>\n",
       "  </tbody>\n",
       "</table>\n",
       "</div>"
      ],
      "text/plain": [
       "    Patient_id Sample_id_V0 AKK_TRICHO_V0 Sample_id_V3 AKK_TRICHO_V3\n",
       "0        10039      LUM_216           Low     LUM3_380           Low\n",
       "1        10040      LUM_217          Zero     LUM3_373          Zero\n",
       "3        10046      LUM_251           Low     LUM3_386          High\n",
       "8        10055      LUM_339           Low     LUM3_166          High\n",
       "9        10061      LUM_262          Zero     LUM3_390          Zero\n",
       "10       10062     LUM2_004          Zero     LUM3_060          Zero\n",
       "12       10084     LUM2_040           Low     LUM3_087           Low\n",
       "20       10143     LUM3_236          Zero     LUM3_335          Zero\n",
       "23       10152     LUM3_340           Low     LUM3_367           Low\n",
       "35       20013      LUM_104          Zero     LUM3_371          Zero\n",
       "37       20020      LUM_273           Low     LUM3_388          Zero\n",
       "45       70010     LUM2_013           Low     LUM3_063           Low"
      ]
     },
     "execution_count": 11,
     "metadata": {},
     "output_type": "execute_result"
    }
   ],
   "source": [
    "time_df[(time_df['Sample_id_V0'].isin(pred_disc.index))]"
   ]
  },
  {
   "cell_type": "code",
   "execution_count": 12,
   "metadata": {},
   "outputs": [
    {
     "data": {
      "text/html": [
       "<div>\n",
       "<style scoped>\n",
       "    .dataframe tbody tr th:only-of-type {\n",
       "        vertical-align: middle;\n",
       "    }\n",
       "\n",
       "    .dataframe tbody tr th {\n",
       "        vertical-align: top;\n",
       "    }\n",
       "\n",
       "    .dataframe thead th {\n",
       "        text-align: right;\n",
       "    }\n",
       "</style>\n",
       "<table border=\"1\" class=\"dataframe\">\n",
       "  <thead>\n",
       "    <tr style=\"text-align: right;\">\n",
       "      <th></th>\n",
       "      <th>Patient_id</th>\n",
       "      <th>Sample_id_V0</th>\n",
       "      <th>AKK_TRICHO_V0</th>\n",
       "      <th>Sample_id_V3</th>\n",
       "      <th>AKK_TRICHO_V3</th>\n",
       "    </tr>\n",
       "  </thead>\n",
       "  <tbody>\n",
       "  </tbody>\n",
       "</table>\n",
       "</div>"
      ],
      "text/plain": [
       "Empty DataFrame\n",
       "Columns: [Patient_id, Sample_id_V0, AKK_TRICHO_V0, Sample_id_V3, AKK_TRICHO_V3]\n",
       "Index: []"
      ]
     },
     "execution_count": 12,
     "metadata": {},
     "output_type": "execute_result"
    }
   ],
   "source": [
    "time_df[(time_df['Sample_id_V3'].isin(pred_disc.index))]"
   ]
  },
  {
   "cell_type": "code",
   "execution_count": 13,
   "metadata": {},
   "outputs": [
    {
     "data": {
      "text/plain": [
       "set()"
      ]
     },
     "execution_count": 13,
     "metadata": {},
     "output_type": "execute_result"
    }
   ],
   "source": [
    "set(sorted(time_df['Sample_id_V3'])).intersection(sorted(pred_disc.index))"
   ]
  },
  {
   "cell_type": "code",
   "execution_count": 14,
   "metadata": {},
   "outputs": [],
   "source": [
    "abd_path = '../data/immu/merged_species.txt'\n",
    "d_df = pd.read_csv('../data/sp_d.tsv', sep='\\t', header=0, index_col=0)\n",
    "raw_profile = abd_profile.input_profile(abd_path, transfer=True)\n",
    "raw_profile = raw_profile[list(set(d_df.index).intersection(set(raw_profile.columns)))]"
   ]
  },
  {
   "cell_type": "code",
   "execution_count": 15,
   "metadata": {},
   "outputs": [
    {
     "data": {
      "text/plain": [
       "Index(['LUM3_251', 'LUM3_252', 'LUM3_253', 'LUM3_254', 'LUM3_255', 'LUM3_256',\n",
       "       'LUM3_257', 'LUM3_258', 'IMM_008', 'IMM_158',\n",
       "       ...\n",
       "       'LUM3_242', 'LUM3_243', 'LUM3_244', 'LUM3_245', 'LUM3_246', 'LUM3_247',\n",
       "       'LUM3_248', 'IMM_156', 'LUM3_249', 'LUM3_250'],\n",
       "      dtype='object', length=499)"
      ]
     },
     "execution_count": 15,
     "metadata": {},
     "output_type": "execute_result"
    }
   ],
   "source": [
    "raw_profile.index"
   ]
  },
  {
   "cell_type": "code",
   "execution_count": 16,
   "metadata": {},
   "outputs": [
    {
     "data": {
      "text/html": [
       "<div>\n",
       "<style scoped>\n",
       "    .dataframe tbody tr th:only-of-type {\n",
       "        vertical-align: middle;\n",
       "    }\n",
       "\n",
       "    .dataframe tbody tr th {\n",
       "        vertical-align: top;\n",
       "    }\n",
       "\n",
       "    .dataframe thead th {\n",
       "        text-align: right;\n",
       "    }\n",
       "</style>\n",
       "<table border=\"1\" class=\"dataframe\">\n",
       "  <thead>\n",
       "    <tr style=\"text-align: right;\">\n",
       "      <th></th>\n",
       "      <th>Patient_id</th>\n",
       "      <th>Sample_id_V0</th>\n",
       "      <th>AKK_TRICHO_V0</th>\n",
       "      <th>Sample_id_V3</th>\n",
       "      <th>AKK_TRICHO_V3</th>\n",
       "    </tr>\n",
       "  </thead>\n",
       "  <tbody>\n",
       "  </tbody>\n",
       "</table>\n",
       "</div>"
      ],
      "text/plain": [
       "Empty DataFrame\n",
       "Columns: [Patient_id, Sample_id_V0, AKK_TRICHO_V0, Sample_id_V3, AKK_TRICHO_V3]\n",
       "Index: []"
      ]
     },
     "execution_count": 16,
     "metadata": {},
     "output_type": "execute_result"
    }
   ],
   "source": [
    "time_df[(time_df['Sample_id_V0'].isin(pred_disc.index)) & (time_df['Sample_id_V3'].isin(raw_profile.index))]"
   ]
  },
  {
   "cell_type": "code",
   "execution_count": 17,
   "metadata": {},
   "outputs": [
    {
     "data": {
      "text/html": [
       "<div>\n",
       "<style scoped>\n",
       "    .dataframe tbody tr th:only-of-type {\n",
       "        vertical-align: middle;\n",
       "    }\n",
       "\n",
       "    .dataframe tbody tr th {\n",
       "        vertical-align: top;\n",
       "    }\n",
       "\n",
       "    .dataframe thead th {\n",
       "        text-align: right;\n",
       "    }\n",
       "</style>\n",
       "<table border=\"1\" class=\"dataframe\">\n",
       "  <thead>\n",
       "    <tr style=\"text-align: right;\">\n",
       "      <th></th>\n",
       "      <th>Patient_id</th>\n",
       "      <th>Sample_id_V0</th>\n",
       "      <th>AKK_TRICHO_V0</th>\n",
       "      <th>Sample_id_V3</th>\n",
       "      <th>AKK_TRICHO_V3</th>\n",
       "    </tr>\n",
       "  </thead>\n",
       "  <tbody>\n",
       "  </tbody>\n",
       "</table>\n",
       "</div>"
      ],
      "text/plain": [
       "Empty DataFrame\n",
       "Columns: [Patient_id, Sample_id_V0, AKK_TRICHO_V0, Sample_id_V3, AKK_TRICHO_V3]\n",
       "Index: []"
      ]
     },
     "execution_count": 17,
     "metadata": {},
     "output_type": "execute_result"
    }
   ],
   "source": [
    "time_df[time_df['Sample_id_V3'].isin(raw_profile.index)]"
   ]
  },
  {
   "cell_type": "code",
   "execution_count": 18,
   "metadata": {},
   "outputs": [],
   "source": [
    "tmp_list = []\n",
    "for x in raw_profile.index:\n",
    "    if x.startswith('LUM3_'):\n",
    "        tmp_list.append(x)"
   ]
  },
  {
   "cell_type": "code",
   "execution_count": 19,
   "metadata": {},
   "outputs": [
    {
     "data": {
      "text/plain": [
       "['LUM3_060',\n",
       " 'LUM3_063',\n",
       " 'LUM3_087',\n",
       " 'LUM3_107',\n",
       " 'LUM3_115',\n",
       " 'LUM3_122',\n",
       " 'LUM3_166',\n",
       " 'LUM3_214',\n",
       " 'LUM3_231',\n",
       " 'LUM3_320',\n",
       " 'LUM3_335',\n",
       " 'LUM3_345',\n",
       " 'LUM3_354',\n",
       " 'LUM3_367',\n",
       " 'LUM3_371',\n",
       " 'LUM3_373',\n",
       " 'LUM3_380',\n",
       " 'LUM3_386',\n",
       " 'LUM3_388',\n",
       " 'LUM3_390',\n",
       " 'LUM3_480',\n",
       " 'LUM3_518',\n",
       " 'LUM3_521',\n",
       " 'LUM3_522',\n",
       " 'LUM3_528',\n",
       " 'LUM3_529',\n",
       " 'LUM3_633',\n",
       " 'LUM3_640',\n",
       " 'LUM3_642',\n",
       " 'LUM3_714',\n",
       " 'LUM3_934',\n",
       " 'LUM3_941']"
      ]
     },
     "execution_count": 19,
     "metadata": {},
     "output_type": "execute_result"
    }
   ],
   "source": [
    "sorted(time_df['Sample_id_V3'])"
   ]
  },
  {
   "cell_type": "code",
   "execution_count": 20,
   "metadata": {},
   "outputs": [
    {
     "data": {
      "text/plain": [
       "set()"
      ]
     },
     "execution_count": 20,
     "metadata": {},
     "output_type": "execute_result"
    }
   ],
   "source": [
    "set(tmp_list).intersection(set(time_df['Sample_id_V3']))"
   ]
  },
  {
   "cell_type": "code",
   "execution_count": 21,
   "metadata": {},
   "outputs": [
    {
     "name": "stdout",
     "output_type": "stream",
     "text": [
      "LUM_251 LUM3_251\n",
      "LUM_252 LUM3_252\n",
      "LUM_253 LUM3_253\n",
      "LUM_254 LUM3_254\n",
      "LUM_255 LUM3_255\n",
      "LUM_256 LUM3_256\n",
      "LUM_257 LUM3_257\n",
      "LUM_258 LUM3_258\n",
      "LUM_259 LUM3_259\n",
      "LUM_260 LUM3_260\n",
      "LUM_261 LUM3_261\n",
      "LUM_262 LUM3_262\n",
      "LUM_263 LUM3_263\n",
      "LUM_264 LUM3_264\n",
      "LUM_265 LUM3_265\n",
      "LUM_266 LUM3_266\n",
      "LUM_267 LUM3_267\n",
      "LUM_268 LUM3_268\n",
      "LUM_269 LUM3_269\n",
      "LUM_270 LUM3_270\n",
      "LUM_271 LUM3_271\n",
      "LUM_274 LUM3_274\n",
      "LUM_275 LUM3_275\n",
      "LUM_278 LUM3_278\n",
      "LUM_282 LUM3_282\n",
      "LUM_283 LUM3_283\n",
      "LUM_120 LUM3_120\n",
      "LUM_125 LUM3_125\n",
      "LUM_221 LUM3_221\n",
      "LUM_341 LUM3_341\n",
      "LUM_101 LUM3_101\n",
      "LUM_249 LUM3_249\n",
      "LUM_250 LUM3_250\n"
     ]
    }
   ],
   "source": [
    "tmp_list21 = []\n",
    "tmp_list22 = []\n",
    "for idx in raw_profile.index:\n",
    "    if idx.startswith('LUM3_'):\n",
    "        prev = idx.replace('LUM3_', 'LUM_')\n",
    "        if prev in raw_profile.index:\n",
    "            print(prev, idx)\n",
    "            tmp_list21.append(prev)\n",
    "            tmp_list22.append(idx)"
   ]
  },
  {
   "cell_type": "code",
   "execution_count": 23,
   "metadata": {},
   "outputs": [
    {
     "data": {
      "text/plain": [
       "33"
      ]
     },
     "execution_count": 23,
     "metadata": {},
     "output_type": "execute_result"
    }
   ],
   "source": [
    "len(tmp_list21)"
   ]
  },
  {
   "cell_type": "code",
   "execution_count": 26,
   "metadata": {},
   "outputs": [],
   "source": [
    "DS1 = pd.read_csv('../data/immu/DS1_oncology_clinical_data.csv', header=0)\n",
    "taken_df = DS1[DS1['Sample_id'].isin(tmp_list21+tmp_list22)].dropna(subset=['OS12'])"
   ]
  },
  {
   "cell_type": "code",
   "execution_count": 30,
   "metadata": {},
   "outputs": [
    {
     "data": {
      "text/plain": [
       "{'LUM3_278'}"
      ]
     },
     "execution_count": 30,
     "metadata": {},
     "output_type": "execute_result"
    }
   ],
   "source": [
    "set(tmp_list21+tmp_list22).difference(set(taken_df['Sample_id']))"
   ]
  },
  {
   "cell_type": "code",
   "execution_count": 31,
   "metadata": {},
   "outputs": [],
   "source": [
    "tmp_list22.remove('LUM3_278')"
   ]
  },
  {
   "cell_type": "code",
   "execution_count": 32,
   "metadata": {},
   "outputs": [],
   "source": [
    "tmp_list21.remove('LUM_278')"
   ]
  },
  {
   "cell_type": "code",
   "execution_count": 34,
   "metadata": {},
   "outputs": [
    {
     "data": {
      "text/plain": [
       "32"
      ]
     },
     "execution_count": 34,
     "metadata": {},
     "output_type": "execute_result"
    }
   ],
   "source": [
    "len(tmp_list21)"
   ]
  },
  {
   "cell_type": "code",
   "execution_count": 36,
   "metadata": {},
   "outputs": [
    {
     "data": {
      "text/plain": [
       "'LUM_251,LUM_252,LUM_253,LUM_254,LUM_255,LUM_256,LUM_257,LUM_258,LUM_259,LUM_260,LUM_261,LUM_262,LUM_263,LUM_264,LUM_265,LUM_266,LUM_267,LUM_268,LUM_269,LUM_270,LUM_271,LUM_274,LUM_275,LUM_282,LUM_283,LUM_120,LUM_125,LUM_221,LUM_341,LUM_101,LUM_249,LUM_250'"
      ]
     },
     "execution_count": 36,
     "metadata": {},
     "output_type": "execute_result"
    }
   ],
   "source": [
    "','.join(tmp_list21)"
   ]
  },
  {
   "cell_type": "code",
   "execution_count": null,
   "metadata": {},
   "outputs": [],
   "source": []
  }
 ],
 "metadata": {
  "kernelspec": {
   "display_name": "base",
   "language": "python",
   "name": "python3"
  },
  "language_info": {
   "codemirror_mode": {
    "name": "ipython",
    "version": 3
   },
   "file_extension": ".py",
   "mimetype": "text/x-python",
   "name": "python",
   "nbconvert_exporter": "python",
   "pygments_lexer": "ipython3",
   "version": "3.8.5"
  }
 },
 "nbformat": 4,
 "nbformat_minor": 2
}
