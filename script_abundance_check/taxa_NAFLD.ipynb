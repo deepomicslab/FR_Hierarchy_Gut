{
 "cells": [
  {
   "cell_type": "code",
   "execution_count": 1,
   "metadata": {},
   "outputs": [],
   "source": [
    "# compute taxanomy abundance difference\n",
    "import sys\n",
    "sys.path.append('..')\n",
    "import abd_profile\n",
    "import os\n",
    "import pandas as pd\n",
    "import copy\n",
    "import numpy as np\n",
    "from statsmodels.stats.multitest import fdrcorrection as fdr\n",
    "from scipy.stats import mannwhitneyu"
   ]
  },
  {
   "cell_type": "code",
   "execution_count": 2,
   "metadata": {},
   "outputs": [],
   "source": [
    "def compare(pheno_profiles, p_cutoff):    \n",
    "    pheno_list = list(pheno_profiles.keys())\n",
    "    disease = ''\n",
    "    for pheno in pheno_list:\n",
    "        if pheno != 'Normal':\n",
    "            disease = pheno\n",
    "    p_df = pd.DataFrame(columns=['p', 'mean(case)', 'mean(control)', 'var(case)', 'var(control)', 'fc(case/control)', 'diff(case-control)', 'abs', 'non_zero(control)', 'non_zero(case)', 'non_zero%(control)', 'non_zero%(case)'], index=list(pheno_profiles[disease].columns))\n",
    "\n",
    "    # check each taxon\n",
    "    for sp in pheno_profiles[disease].columns:\n",
    "        disease_v = list(pheno_profiles[disease][sp])\n",
    "        control_v = list(pheno_profiles['Normal'][sp])\n",
    "        p_df.loc[sp, 'mean(case)'] = np.mean(disease_v)\n",
    "        p_df.loc[sp, 'mean(control)'] = np.mean(control_v)\n",
    "        p_df.loc[sp, 'var(case)'] = np.var(disease_v)\n",
    "        p_df.loc[sp, 'var(control)'] = np.var(control_v)\n",
    "        p_df.loc[sp, 'diff(case-control)'] = p_df.loc[sp, 'mean(case)'] - p_df.loc[sp, 'mean(control)']\n",
    "        p_df.loc[sp, 'fc(case/control)'] = p_df.loc[sp, 'mean(case)']/p_df.loc[sp, 'mean(control)']\n",
    "        p_df.loc[sp, 'non_zero(case)'] = len(disease_v) - disease_v.count(0)\n",
    "        p_df.loc[sp, 'non_zero(control)'] = len(control_v) - control_v.count(0)\n",
    "        p_df.loc[sp, 'non_zero%(case)'] = p_df.loc[sp, 'non_zero(case)']/len(disease_v)\n",
    "        p_df.loc[sp, 'non_zero%(control)'] = p_df.loc[sp, 'non_zero(control)']/len(control_v)\n",
    "        t, p = mannwhitneyu(disease_v, control_v)\n",
    "        p_df.loc[sp, 'p'] = p\n",
    "    p_adj = fdr(p_df['p'], p_cutoff)[1]\n",
    "    p_df['p_adj'] = p_adj\n",
    "    p_df['abs'] = abs(p_df['diff(case-control)'])\n",
    "    return p_df\n"
   ]
  },
  {
   "cell_type": "code",
   "execution_count": 3,
   "metadata": {},
   "outputs": [],
   "source": [
    "outdir = '../result/taxa_abd_check_NAFLD'\n",
    "p_cutoff = 0.05\n",
    "\n",
    "if not os.path.exists(outdir):\n",
    "    os.makedirs(outdir)\n",
    "\n",
    "ori_profile = abd_profile.input_profile('../data/NAFLD/abd.tsv' , transfer=True)\n",
    "metadata = pd.read_csv('../data/NAFLD/NASH_forward_63_map.txt', sep = '\\t', header=0, index_col=0)\n",
    "cluster_labels = list(set(metadata['DiseaseStatus']))\n",
    "label_dict = {}\n",
    "cluster_profiles = {}\n",
    "phenos = ['NASH', 'Normal']\n",
    "for pheno in phenos:\n",
    "    idx_list = list(metadata[metadata['DiseaseStatus'] == pheno].index)\n",
    "    cluster_profiles[pheno] = copy.deepcopy(ori_profile.loc[idx_list, :])  \n",
    "\n",
    "p_df = compare(cluster_profiles, p_cutoff)  \n",
    "p_df.to_csv(os.path.join(outdir, 'p_values.tsv'), sep='\\t')      "
   ]
  }
 ],
 "metadata": {
  "kernelspec": {
   "display_name": "base",
   "language": "python",
   "name": "python3"
  },
  "language_info": {
   "codemirror_mode": {
    "name": "ipython",
    "version": 3
   },
   "file_extension": ".py",
   "mimetype": "text/x-python",
   "name": "python",
   "nbconvert_exporter": "python",
   "pygments_lexer": "ipython3",
   "version": "3.8.5"
  }
 },
 "nbformat": 4,
 "nbformat_minor": 2
}
