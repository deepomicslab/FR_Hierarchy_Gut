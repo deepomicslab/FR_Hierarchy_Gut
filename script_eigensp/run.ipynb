{
 "cells": [
  {
   "cell_type": "code",
   "execution_count": 1,
   "metadata": {},
   "outputs": [],
   "source": [
    "import os\n",
    "\n",
    "tmp1 = 'python run_eigenspecies_together_COHORT.py --pheno {} --prefix {} --idir {} --odir {} --cluster {}'\n",
    "tmp2 = 'python run_numeric_eigen_COHORT.py --pheno {} --prefix {} --idir {} --odir {}'"
   ]
  },
  {
   "cell_type": "code",
   "execution_count": 2,
   "metadata": {},
   "outputs": [],
   "source": [
    "indir = '../data'\n",
    "cluster = '../result/GCN_fix_tree/leaves_cluster.tsv'\n",
    "outdir = '../result/eigen_sp'\n",
    "if not os.path.exists(outdir):\n",
    "    os.makedirs(outdir)\n",
    "plist = ['ACVD',\n",
    " 'BD',\n",
    " 'CRC',\n",
    " 'IBD',\n",
    " 'IGT',\n",
    " 'CFS',\n",
    " 'STH',\n",
    " 'T2D',\n",
    " 'adenoma',\n",
    " 'asthma',\n",
    " 'carcinoma_surgery_history',\n",
    " 'hypertension',\n",
    " 'migraine',\n",
    " 'schizofrenia']\n",
    "\n",
    "for pheno in plist:\n",
    "    pheno_dir = os.path.join(indir, pheno)\n",
    "    for prefix in os.listdir(pheno_dir):\n",
    "        od = os.path.join(outdir, pheno)\n",
    "        if not os.path.exists(od):\n",
    "            os.makedirs(od)\n",
    "        cmd1 = tmp1.format(pheno, prefix, indir, outdir, cluster)\n",
    "        e = os.system(cmd1)\n",
    "        #print(e, cmd1)\n",
    "\n",
    "\n"
   ]
  },
  {
   "cell_type": "code",
   "execution_count": 3,
   "metadata": {},
   "outputs": [],
   "source": [
    "for pheno in plist:\n",
    "    pheno_dir = os.path.join(indir, pheno)\n",
    "    for prefix in os.listdir(pheno_dir):\n",
    "        cmd2 = tmp2.format(pheno, prefix, indir, outdir)\n",
    "        e = os.system(cmd2)\n",
    "        #print(e, cmd2)"
   ]
  },
  {
   "cell_type": "code",
   "execution_count": null,
   "metadata": {},
   "outputs": [],
   "source": []
  }
 ],
 "metadata": {
  "kernelspec": {
   "display_name": "meta_fr_win",
   "language": "python",
   "name": "python3"
  },
  "language_info": {
   "codemirror_mode": {
    "name": "ipython",
    "version": 3
   },
   "file_extension": ".py",
   "mimetype": "text/x-python",
   "name": "python",
   "nbconvert_exporter": "python",
   "pygments_lexer": "ipython3",
   "version": "3.8.20"
  }
 },
 "nbformat": 4,
 "nbformat_minor": 2
}
