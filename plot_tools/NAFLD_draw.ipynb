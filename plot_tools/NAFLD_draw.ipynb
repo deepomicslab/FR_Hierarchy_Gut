{
 "cells": [
  {
   "cell_type": "markdown",
   "metadata": {},
   "source": [
    "This script following step0_NAFLD.ipynb plots personalized networks"
   ]
  },
  {
   "cell_type": "code",
   "execution_count": 1,
   "metadata": {},
   "outputs": [],
   "source": [
    "# This script following step0_NAFLD.ipynb plots personalized networks\n",
    "import sys\n",
    "sys.path.append('../network')\n",
    "import network\n",
    "import warnings\n",
    "import pandas as pd\n",
    "import os\n",
    "import copy\n",
    "import svg_draw as sd\n",
    "from reportlab.graphics import renderPDF, renderPM\n",
    "from svglib.svglib import svg2rlg\n",
    "warnings.filterwarnings('ignore')"
   ]
  },
  {
   "cell_type": "code",
   "execution_count": 2,
   "metadata": {},
   "outputs": [
    {
     "name": "stdout",
     "output_type": "stream",
     "text": [
      "Desulfovibrionaceae 1\n",
      "Bifidobacteriaceae 1\n",
      "Porphyromonadaceae 2\n",
      "Campylobacteraceae 1\n",
      "Streptococcaceae 1\n",
      "Bacteroidaceae 21\n",
      "Burkholderiaceae 1\n",
      "Enterobacteriaceae 1\n",
      "Veillonellaceae 1\n",
      "Rikenellaceae 3\n",
      "Tannerellaceae 2\n",
      "Lachnospiraceae 30\n",
      "Peptostreptococcaceae 2\n",
      "Leuconostocaceae 2\n",
      "Ruminococcaceae 18\n",
      "Family XIII 1\n",
      "Family XI 7\n",
      "Prevotellaceae 1\n",
      "Marinifilaceae 1\n"
     ]
    }
   ],
   "source": [
    "taxonomy = pd.read_csv('../data/NAFLD/taxonomy.tsv', header=0, sep='\\t')\n",
    "taxonomy = taxonomy.set_index('Abb.')\n",
    "\n",
    "for c in set(taxonomy['Family']):\n",
    "    print(c, len(taxonomy[taxonomy['Family']==c]))\n",
    "\n",
    "colors = {'Bacteroidaceae': '#85D696', \n",
    "          'Lachnospiraceae': '#FFC68A', \n",
    "          'Ruminococcaceae': '#999FDB', \n",
    "          'Family XI': '#CC99DB', \n",
    "          'other': '#AAAAAA'}\n",
    "\n",
    "colors_reverse = {}\n",
    "colors_dict = {}\n",
    "phy_dict = {}\n",
    "for phy, color in colors.items():\n",
    "    colors_dict[color] = 0\n",
    "    colors_reverse[color] = phy\n",
    "    phy_dict[phy] = []\n",
    "total_num = taxonomy.shape[0]\n",
    "\n",
    "for sp in taxonomy.index:\n",
    "    phy = taxonomy.loc[sp, 'Family']\n",
    "    #print(phy, sp)\n",
    "    if phy not in colors.keys():\n",
    "        phy = 'other'\n",
    "    colors_dict[colors[phy]] += 1\n",
    "    phy_dict[phy].append(sp)\n",
    "\n",
    "rnode = 5\n",
    "width, origin, polar_df = network.assign_pos(total_num, rnode, margin=0)"
   ]
  },
  {
   "cell_type": "code",
   "execution_count": 3,
   "metadata": {},
   "outputs": [],
   "source": [
    "def complete_df(layout, phy_dict, colors_reverse):\n",
    "    col_order = ['id', 'theta', 'r', 'color', 'fam']\n",
    "    for idx in layout.index:\n",
    "        color = layout.loc[idx, 'color'] \n",
    "        phy = colors_reverse[color]\n",
    "        #print(color, phy)\n",
    "        layout.loc[idx, 'id'] = phy_dict[phy].pop()\n",
    "        layout.loc[idx, 'fam'] = phy\n",
    "    return layout[col_order]"
   ]
  },
  {
   "cell_type": "code",
   "execution_count": 4,
   "metadata": {},
   "outputs": [
    {
     "name": "stdout",
     "output_type": "stream",
     "text": [
      "width = 210\n",
      "origin = 105.0,105.0\n",
      "r = 5\n"
     ]
    }
   ],
   "source": [
    "layout = network.sector_layout(colors_dict, polar_df)\n",
    "complete_df(layout, copy.deepcopy(phy_dict), colors_reverse).to_csv(\"NAFLD_layout.tsv\", sep='\\t', index=None)\n",
    "print(\"width = {}\\norigin = {},{}\\nr = {}\".format(width, origin[0], origin[1], rnode))\n"
   ]
  },
  {
   "cell_type": "code",
   "execution_count": 5,
   "metadata": {},
   "outputs": [],
   "source": [
    "def draw_network(fr, keystone_df, layout_df, max_edge_width = 2, max_r = 8, min_width = 1, cutoff=0.9):\n",
    "    origin = (110, 110)\n",
    "    common_taxon = list(set(fr.index).intersection(set(layout_df.index)))\n",
    "    fr = fr.loc[common_taxon, common_taxon]\n",
    "    layer0_df = keystone_df[keystone_df['layer'] == 0]\n",
    "    keystone_cluster = list(keystone_df[(keystone_df['layer'] == 1) & (keystone_df['is_keystone']==True)]['leaves'])[0].split(',')\n",
    "    keystone_cluster = [x.split('s__')[-1] for x in keystone_cluster]\n",
    "    circles = ''\n",
    "    keystone = ''\n",
    "    pr_scores = layer0_df['PR_score']\n",
    "    pr_max = max(pr_scores)\n",
    "    pr_range = pr_max\n",
    "    xy_df = pd.DataFrame()\n",
    "    for idx in common_taxon:\n",
    "        theta = layout_df.loc[idx, 'theta']\n",
    "        r = layout_df.loc[idx, 'r']\n",
    "        color = layout_df.loc[idx, 'color']\n",
    "        x, y = network.convert(theta, r, origin)\n",
    "        xy_df.loc[idx, 'x'] = x\n",
    "        xy_df.loc[idx, 'y'] = y\n",
    "        pr = layer0_df.loc[idx, 'PR_score']\n",
    "        if idx in keystone_cluster:\n",
    "            stroke = 'black'\n",
    "            swidth = 2\n",
    "        else:\n",
    "            stroke = 'black'\n",
    "            swidth = 1\n",
    "        if layer0_df.loc[idx, 'is_keystone'] == True:\n",
    "            keystone = idx\n",
    "            circle = sd.draw_circle(x, y, swidth=swidth, stroke=stroke, r=max_r, fill=\"red\", id=idx, style=True)\n",
    "        else:\n",
    "            r = max_r*pr/pr_range\n",
    "            circle = sd.draw_circle(x, y, swidth=swidth, stroke=stroke, r=r, fill=color, id=idx, style=True)\n",
    "        circles +=  circle\n",
    "    \n",
    "    paths = \"\"\n",
    "    ntaxon = fr.shape[0]\n",
    "    taxon = list(fr.index)\n",
    "    for i in range(ntaxon):\n",
    "        taxa1 = taxon[i]\n",
    "        x1 = xy_df.loc[taxa1, 'x']\n",
    "        y1 = xy_df.loc[taxa1, 'y']\n",
    "        for j in range(i+1, ntaxon):\n",
    "            taxa2 = taxon[j]\n",
    "            fr_value = fr.loc[taxa1, taxa2]\n",
    "            if fr_value > 0.9:\n",
    "                x2 = xy_df.loc[taxa2, 'x']\n",
    "                y2 = xy_df.loc[taxa2, 'y']\n",
    "                id = \"{}_{}\".format(taxa1, taxa2)\n",
    "                x3, y3 = network.compute_convex((x1, y1), (x2, y2))\n",
    "                edge_width = max_edge_width*(fr_value-cutoff)/(1-cutoff)\n",
    "                if taxa1 == keystone or taxa2 == keystone:\n",
    "                    path = sd.draw_curve(x1, y1, x3, y3, x2, y2, stroke='red', swidth=edge_width, id=id, style=True)\n",
    "                else:\n",
    "                    path = sd.draw_curve(x1, y1, x3, y3, x2, y2, swidth=edge_width, id=id, style=True)\n",
    "                paths += path\n",
    "    title = '<text x=\"0\" y=\"20\">{}</text>'.format(keystone)\n",
    "    title = ''\n",
    "    return title + paths + circles"
   ]
  },
  {
   "cell_type": "code",
   "execution_count": 6,
   "metadata": {},
   "outputs": [],
   "source": [
    "legend = '<circle cx=\"250\" cy=\"20\" r=\"12\" stroke=\"black\" stroke-width=\"1\" fill=\"red\" /> \\n \\\n",
    "<text x=\"280\" y=\"25\" class=\"legend\">keystone</text>\\n \\\n",
    "<circle cx=\"250\" cy=\"50\" r=\"12\" stroke=\"black\" stroke-width=\"1\" fill=\"#85D696\" />\\n \\\n",
    "<text x=\"280\" y=\"55\" class=\"legend\">Bacteroidaceae</text>\\n \\\n",
    "<circle cx=\"250\" cy=\"80\" r=\"12\" stroke=\"black\" stroke-width=\"1\" fill=\"#FFC68A\" />\\n \\\n",
    "<text x=\"280\" y=\"85\" class=\"legend\">Lachnospiraceae</text>\\n \\\n",
    "<circle cx=\"250\" cy=\"110\" r=\"12\" stroke=\"black\" stroke-width=\"1\" fill=\"#999FDB\" />\\n \\\n",
    "<text x=\"280\" y=\"115\" class=\"legend\">Ruminococcaceae</text>\\n \\\n",
    "<circle cx=\"250\" cy=\"140\" r=\"12\" stroke=\"black\" stroke-width=\"1\" fill=\"#CC99DB\" />\\n \\\n",
    "<text x=\"280\" y=\"145\" class=\"legend\">Family XI</text>\\n \\\n",
    "<circle cx=\"250\" cy=\"170\" r=\"12\" stroke=\"black\" stroke-width=\"1\" fill=\"#AAAAAA\" />\\n \\\n",
    "<text x=\"280\" y=\"175\" class=\"legend\">Other</text>'\n",
    "\n",
    "def draw(content, legend):\n",
    "    width = 400\n",
    "    height = 240\n",
    "    return sd.canvas(width, height, content+legend)"
   ]
  },
  {
   "cell_type": "code",
   "execution_count": 7,
   "metadata": {},
   "outputs": [],
   "source": [
    "def reindex(fr_df):\n",
    "    rename = {}\n",
    "    for idx in fr_df.index:\n",
    "        if idx.startswith('s__'):\n",
    "            rename[idx] = idx.split('s__')[-1]\n",
    "    return rename"
   ]
  },
  {
   "cell_type": "code",
   "execution_count": 9,
   "metadata": {},
   "outputs": [],
   "source": [
    "\n",
    "layout_df = pd.read_csv('NAFLD_layout.tsv', sep='\\t', header=0, index_col=0)\n",
    "outer_dir = '../result/NAFLD/'\n",
    "\n",
    "\n",
    "for dir in os.listdir(outer_dir):\n",
    "    if os.path.isfile(os.path.join(outer_dir, dir)):\n",
    "        continue\n",
    "    keystone_df = pd.read_csv(os.path.join(outer_dir, dir, 'keystone_node.tsv'), sep='\\t', header=0, index_col=0)\n",
    "    fr_df = pd.read_csv(os.path.join(outer_dir, dir, 'layer_0', 'fr.tsv'), sep='\\t', header=0, index_col=0)\n",
    "    rename = reindex(fr_df)\n",
    "    fr_df.rename(index=rename, columns=rename, inplace=True)\n",
    "    keystone_df.rename(index=rename, inplace=True)\n",
    "    s_sector= draw(draw_network(fr_df, keystone_df, layout_df), legend)\n",
    "    svg_dir = os.path.join(outer_dir, dir, 'network.svg')\n",
    "    with open(svg_dir, 'w') as fp:\n",
    "        fp.write(s_sector)\n",
    "\n",
    "    drawing = svg2rlg(svg_dir)\n",
    "    pdf_path = os.path.join(outer_dir, dir, 'network.pdf')\n",
    "    renderPDF.drawToFile(drawing, pdf_path)\n"
   ]
  },
  {
   "cell_type": "code",
   "execution_count": null,
   "metadata": {},
   "outputs": [],
   "source": []
  }
 ],
 "metadata": {
  "kernelspec": {
   "display_name": "meta_fr_r",
   "language": "python",
   "name": "python3"
  },
  "language_info": {
   "codemirror_mode": {
    "name": "ipython",
    "version": 3
   },
   "file_extension": ".py",
   "mimetype": "text/x-python",
   "name": "python",
   "nbconvert_exporter": "python",
   "pygments_lexer": "ipython3",
   "version": "3.8.20"
  },
  "orig_nbformat": 4
 },
 "nbformat": 4,
 "nbformat_minor": 2
}
