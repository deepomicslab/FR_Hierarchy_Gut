{
 "cells": [
  {
   "cell_type": "markdown",
   "metadata": {},
   "source": [
    "Plot keystone figures"
   ]
  },
  {
   "cell_type": "code",
   "execution_count": 11,
   "metadata": {},
   "outputs": [],
   "source": [
    "import os \n",
    "import sys\n",
    "#id pheno\n",
    "indir = \"../result/large_scale_cohort\"\n",
    "leave_path = \"../result/GCN_fix_tree/leaves_cluster.tsv\"\n",
    "outdir = \"../result/keystone\"\n",
    "if not os.path.exists(outdir):\n",
    "    os.makedirs(outdir)\n",
    "plist = ['ACVD',\n",
    " 'BD',\n",
    " 'CRC',\n",
    " 'IBD',\n",
    " 'IGT',\n",
    " 'CFS',\n",
    " 'STH',\n",
    " 'T2D',\n",
    " 'adenoma',\n",
    " 'asthma',\n",
    " 'carcinoma_surgery_history',\n",
    " 'hypertension',\n",
    " 'migraine',\n",
    " 'schizofrenia']    \n"
   ]
  },
  {
   "cell_type": "code",
   "execution_count": null,
   "metadata": {},
   "outputs": [],
   "source": [
    "for disease in plist:\n",
    "    dir_path = os.path.join(indir, disease)\n",
    "    for id in os.listdir(dir_path):\n",
    "        cohort_dir = os.path.join(dir_path, id)\n",
    "        if not os.path.isdir(cohort_dir):\n",
    "            continue\n",
    "        e = os.system(\"perl 1.mk_eigen_stat.pl {} {} {} {} {} {}\".format(id, disease, indir, indir, leave_path, outdir))\n"
   ]
  },
  {
   "cell_type": "code",
   "execution_count": 12,
   "metadata": {},
   "outputs": [
    {
     "name": "stdout",
     "output_type": "stream",
     "text": [
      "Rscript path: /home/chelijia/anaconda3/envs/meta_fr_r/bin/Rscript\n"
     ]
    }
   ],
   "source": [
    "# check if Rscript exists\n",
    "python_executable = sys.executable\n",
    "python_dir = os.path.dirname(python_executable)\n",
    "rscript_path = os.path.join(python_dir, 'Rscript')\n",
    "if os.path.exists(rscript_path):\n",
    "    print(f\"Rscript path: {rscript_path}\")\n",
    "else:\n",
    "    print(f\"Could not find Rscript in Python directory: {rscript_path}\")\n",
    "    print(\"Please ensure R is installed in your conda environment\")"
   ]
  },
  {
   "cell_type": "code",
   "execution_count": 16,
   "metadata": {},
   "outputs": [],
   "source": [
    "for disease in plist:\n",
    "    dir_path = os.path.join(indir, disease)\n",
    "    for id in os.listdir(dir_path):\n",
    "        cohort_dir = os.path.join(dir_path, id)\n",
    "        if not os.path.isdir(cohort_dir):\n",
    "            continue\n",
    "        prefix = \"{}/{}\".format(outdir, id)\n",
    "        e = os.system(\"Rscript page_rank.2.R {} {}\".format(prefix, id))\n",
    "        "
   ]
  },
  {
   "cell_type": "code",
   "execution_count": null,
   "metadata": {},
   "outputs": [],
   "source": []
  }
 ],
 "metadata": {
  "kernelspec": {
   "display_name": "meta_fr_r",
   "language": "python",
   "name": "python3"
  },
  "language_info": {
   "codemirror_mode": {
    "name": "ipython",
    "version": 3
   },
   "file_extension": ".py",
   "mimetype": "text/x-python",
   "name": "python",
   "nbconvert_exporter": "python",
   "pygments_lexer": "ipython3",
   "version": "3.8.20"
  }
 },
 "nbformat": 4,
 "nbformat_minor": 2
}
