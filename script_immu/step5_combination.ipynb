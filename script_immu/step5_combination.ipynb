{
 "cells": [
  {
   "cell_type": "code",
   "execution_count": 1,
   "metadata": {},
   "outputs": [],
   "source": [
    "# this is the pipeline of phenotype analysis\n",
    "import sys\n",
    "sys.path.append('..')\n",
    "import abd_profile\n",
    "import os\n",
    "import pandas as pd\n",
    "import GCN\n",
    "import copy\n",
    "import numpy as np\n",
    "import tree_util\n",
    "import se\n",
    "from scipy.stats import mannwhitneyu\n",
    "import seaborn as sns \n",
    "import matplotlib.pyplot as plt\n",
    "import matplotlib as mpl\n",
    "from statsmodels.stats.multitest import fdrcorrection as fdr\n",
    "import json"
   ]
  },
  {
   "cell_type": "code",
   "execution_count": 2,
   "metadata": {},
   "outputs": [],
   "source": [
    "outer = '../result/GCN_fix_tree'\n",
    "outdir = '../result/immu/SE'\n",
    "ori_GCN = GCN.input_GCN('../data/gcn2008.tsv', transfer=True)\n",
    "d_df = pd.read_csv('../data/sp_d.tsv', sep='\\t', header=0, index_col=0)\n",
    "with open(os.path.join(outer, 'renamed_GCN_tree.newick')) as fp:\n",
    "    newick_tree = fp.read()"
   ]
  },
  {
   "cell_type": "code",
   "execution_count": 3,
   "metadata": {},
   "outputs": [],
   "source": [
    "json_tree = tree_util.parse(newick_tree)\n",
    "largest = {'largest': 0}\n",
    "leaf_list, l = tree_util.recu_compute(json_tree, 0, largest)\n",
    "largest_level = largest['largest']\n",
    "nlayer = largest_level\n",
    "leaf_list, l = tree_util.recu_compute(json_tree, 0, largest)\n",
    "layer_leaves_dict = tree_util.make_layer_dict(nlayer)\n",
    "\n",
    "tree_util.recu_layer(json_tree, layer_leaves_dict)\n",
    "tree_util.to_layer_leaves(layer_leaves_dict, nlayer)\n",
    "name_dict = {}\n",
    "for sp in d_df.columns:\n",
    "        name_dict[sp] = sp.replace('_', '-')\n",
    "renamed_GCN = ori_GCN[list(d_df.columns)].rename(columns=name_dict)\n",
    "renamed_d = d_df.rename(columns=name_dict, index=name_dict)\n",
    "result = {}\n",
    "# compute leaf layer\n",
    "result['leaves_dict'] = copy.deepcopy(layer_leaves_dict)\n",
    "parent_dict = {}\n",
    "tree_util.parents(json_tree, parent_dict)\n",
    "node_leaves = {}\n",
    "for level in layer_leaves_dict.keys():\n",
    "    for node, sp_list in layer_leaves_dict[level].items():\n",
    "        if node in node_leaves.keys():\n",
    "            continue\n",
    "        node_leaves[node] = copy.deepcopy(sp_list)\n",
    "subtree_nodes = {}\n",
    "for l in leaf_list:\n",
    "    parent = parent_dict[l]\n",
    "    if parent not in subtree_nodes.keys():\n",
    "        subtree_nodes[parent] = []\n",
    "    subtree_nodes[parent].append(l)\n",
    "\n",
    "for node in node_leaves.keys():\n",
    "    parent = parent_dict[node]\n",
    "    if parent not in subtree_nodes.keys():\n",
    "        subtree_nodes[parent] = []\n",
    "    subtree_nodes[parent] += subtree_nodes[node]\n",
    "    subtree_nodes[parent].append(node)\n",
    "\n",
    "for node in subtree_nodes.keys():\n",
    "    subtree_nodes[node].append(node)\n",
    "\n",
    "direct_children_dict = {}\n",
    "for node, parent in parent_dict.items():\n",
    "    if parent not in direct_children_dict:\n",
    "        direct_children_dict[parent] = []\n",
    "    direct_children_dict[parent].append(node)"
   ]
  },
  {
   "cell_type": "code",
   "execution_count": 4,
   "metadata": {},
   "outputs": [],
   "source": [
    "result['leaves_dict']['root'] = {'root': list(name_dict.values())}\n",
    "node_leaves['root'] = list(name_dict.values())"
   ]
  },
  {
   "cell_type": "code",
   "execution_count": 5,
   "metadata": {},
   "outputs": [],
   "source": [
    "def fr(d_df, profile, sname):\n",
    "    #print(profile.columns, d_df.index)\n",
    "    sp_list = list(set(profile.columns).intersection(set(d_df.index)))\n",
    "    #print(sp_list)\n",
    "    sp_d_df = d_df.loc[sp_list, sp_list]\n",
    "    #print(profile)\n",
    "    sp_profile = np.array(profile.loc[sname, sp_list])\n",
    "    value = np.dot(sp_profile.reshape(len(sp_profile), 1),sp_profile.reshape(1, len(sp_profile)))\n",
    "    width = value.shape[0]\n",
    "    cor_df = np.ones(shape=(width, width)) - sp_d_df.values\n",
    "    for i in range(width):\n",
    "        cor_df[i][i] = 0\n",
    "    value = np.multiply(value, cor_df)\n",
    "    fr_df = pd.DataFrame(value, index=sp_list, columns=sp_list)\n",
    "    return fr_df\n",
    "\n",
    "def multisample_se(profile, d_df, parent_dict, node_leaves, child_dict, direct_children_dict, param):\n",
    "    result = pd.DataFrame(index=profile.index, columns=(list(node_leaves.keys())))\n",
    "    for sname in profile.index:\n",
    "        # print(sname)\n",
    "        edge_df = fr(d_df, profile, sname)\n",
    "        tmp = se.subtree_se_adj(edge_df, parent_dict, node_leaves, child_dict, direct_children_dict, param)\n",
    "        for node in tmp.keys():\n",
    "                value = tmp[node]\n",
    "                result.loc[sname, node] = value\n",
    "    return result\n"
   ]
  },
  {
   "cell_type": "code",
   "execution_count": 6,
   "metadata": {},
   "outputs": [],
   "source": [
    "def main(indir, GCN_df, sp_d, result, name_dict, parent_dict, node_leaves, child_dict, direct_children_dict, param, cohort):\n",
    "    #input dir: including metadata.tsv and abd.tsv\n",
    "    # output result to dir\n",
    "    abd_path = os.path.join(indir, 'merged_species.txt')\n",
    "    metadata_path = os.path.join(indir, 'metadata.txt')\n",
    "\n",
    "    # first process data from gutmeta\n",
    "    raw_profile = abd_profile.input_profile(abd_path, transfer=True)\n",
    "    metadata = pd.read_csv(metadata_path, sep=',', header=0)\n",
    "    metadata.fillna('NA', inplace=True)\n",
    "    metadata = metadata[(metadata['Cohort'] == cohort)] #  \n",
    "    metadata = metadata[metadata['Sample Name'].isin(list(raw_profile.index))]\n",
    "    \n",
    "\n",
    "    selected_raw_profile = raw_profile.loc[list(metadata['Sample Name']), :]\n",
    "    crc_profile = abd_profile.check(selected_raw_profile, GCN_df, name_dict)\n",
    "\n",
    "    pheno_list = {}\n",
    "    pheno_profiles = {}\n",
    "    for i in metadata.index:\n",
    "        pheno = metadata.loc[i, 'OS12']\n",
    "        if pheno == 'NA':\n",
    "            continue\n",
    "        if pheno not in pheno_list.keys():\n",
    "            pheno_list[pheno] = []\n",
    "        if metadata.loc[i, 'Sample Name'] in list(crc_profile.index):\n",
    "            pheno_list[pheno].append(metadata.loc[i, 'Sample Name'])\n",
    "\n",
    "    for c, clist in pheno_list.items():\n",
    "        pheno_profiles[c] = copy.deepcopy(crc_profile.loc[clist, :])\n",
    "    # seperate by enterotypes\n",
    "\n",
    "    \n",
    "    level_se_result = {}   \n",
    "    for p, profile in pheno_profiles.items():\n",
    "        p_result = multisample_se(profile, sp_d, parent_dict, node_leaves, child_dict, direct_children_dict, param)\n",
    "        for level, cluster_sp_dict in result['leaves_dict'].items():\n",
    "            if level not in level_se_result.keys():\n",
    "                level_se_result[level] = {}\n",
    "            l_se = p_result.loc[:, list(cluster_sp_dict.keys())]\n",
    "            level_se_result[level][p] = copy.deepcopy(l_se)\n",
    " \n",
    "    return level_se_result"
   ]
  },
  {
   "cell_type": "code",
   "execution_count": 7,
   "metadata": {},
   "outputs": [],
   "source": [
    "se_result = {}\n",
    "outer = '../data'\n",
    "cohort_list = ['Disc', 'Valid'] \n",
    "param = 0.5\n",
    "indir= os.path.join(outer, 'immu')\n"
   ]
  },
  {
   "cell_type": "code",
   "execution_count": 8,
   "metadata": {},
   "outputs": [
    {
     "name": "stdout",
     "output_type": "stream",
     "text": [
      "different sp: {'s__Ruminococcus_champanellensis', 's__Collinsella_stercoris', 's__Campylobacter_peloridis', 's__Candida_albicans', 's__Gemella_bergeri', 's__Giardia_intestinalis', 's__Granulicatella_elegans', 's__Blastocystis_sp_subtype_1', 's__Saccharomyces_cerevisiae', 's__Sutterella_parvirubra', 's__Bacillus_circulans', 's__Cloacibacillus_evryensis', 's__[Collinsella]_massiliensis', 's__Olsenella_profusa', 's__Bulleidia_extructa'}\n",
      "!!!difference species are deleted\n",
      "different sp: {'s__Ruminococcus_champanellensis', 's__Collinsella_stercoris', 's__Campylobacter_peloridis', 's__Candida_albicans', 's__Gemella_bergeri', 's__Giardia_intestinalis', 's__Granulicatella_elegans', 's__Blastocystis_sp_subtype_1', 's__Saccharomyces_cerevisiae', 's__Sutterella_parvirubra', 's__Bacillus_circulans', 's__Cloacibacillus_evryensis', 's__[Collinsella]_massiliensis', 's__Olsenella_profusa', 's__Bulleidia_extructa'}\n",
      "!!!difference species are deleted\n"
     ]
    }
   ],
   "source": [
    "se_result = {}\n",
    "for cohort in cohort_list:\n",
    "    level_b = main(indir, renamed_GCN, renamed_d, result, name_dict, parent_dict, node_leaves, subtree_nodes, direct_children_dict, param, cohort)\n",
    "    se_result[cohort] = copy.deepcopy(level_b)\n"
   ]
  },
  {
   "cell_type": "code",
   "execution_count": 9,
   "metadata": {},
   "outputs": [],
   "source": [
    "def output_se(se_result, outdir, cohort):\n",
    "    odir = os.path.join(outdir, cohort)\n",
    "    if not os.path.exists(odir):\n",
    "        os.makedirs(odir)\n",
    "    \n",
    "    phenos = list(se_result[cohort]['root'].keys())\n",
    "    \n",
    "    for pheno in phenos:\n",
    "        pheno_df = pd.DataFrame()\n",
    "        for level, level_result in se_result[cohort].items():\n",
    "            pheno_result = level_result[pheno]\n",
    "            for node in pheno_result.columns:\n",
    "                if node not in pheno_df.columns:\n",
    "                    for sname in pheno_result.index:\n",
    "                        pheno_df.loc[sname, node] = pheno_result.loc[sname, node]\n",
    "        pheno_df.to_csv(os.path.join(odir, 'se_{}.tsv'.format(pheno)), sep='\\t')"
   ]
  },
  {
   "cell_type": "code",
   "execution_count": 10,
   "metadata": {},
   "outputs": [],
   "source": [
    "for cohort in se_result.keys():\n",
    "    output_se(se_result, outdir, cohort)"
   ]
  },
  {
   "cell_type": "code",
   "execution_count": 11,
   "metadata": {},
   "outputs": [],
   "source": [
    "if not os.path.exists(outdir):\n",
    "    os.makedirs(outdir)\n",
    "p_cutoff = 0.05\n",
    "\n",
    "\n",
    "p_df = pd.DataFrame()\n",
    "mean_df = pd.DataFrame()\n",
    "valid_dict = {}\n",
    "show_node = []\n",
    "for level in result['leaves_dict'].keys():\n",
    "    for cohort in se_result.keys():\n",
    "        \n",
    "        if 'NR' not in se_result[cohort][level].keys():\n",
    "            continue\n",
    "        if 'R' not in se_result[cohort][level].keys():\n",
    "            continue\n",
    "        if cohort not in valid_dict.keys():\n",
    "            valid_dict[cohort] = []\n",
    "        l_se1 = se_result[cohort][level]['NR']\n",
    "        l_se2 = se_result[cohort][level]['R']\n",
    "        for inode in l_se1.columns:\n",
    "            if (list(l_se1[inode]).count(0) > len(list(l_se1[inode]))*0.8) and (list(l_se2[inode]).count(0) > len(list(l_se2[inode]))*0.8):\n",
    "                continue\n",
    "            valid_dict[cohort].append(inode)\n",
    "            t, p1 = mannwhitneyu(list(l_se1[inode]), list(l_se2[inode]))\n",
    "            p_df.loc[cohort, inode] = p1\n",
    "            mean_df.loc[cohort, inode] = np.mean(l_se1[inode]) - np.mean(l_se2[inode])\n",
    "p_df.fillna(np.nan, inplace=True)"
   ]
  },
  {
   "cell_type": "code",
   "execution_count": 12,
   "metadata": {},
   "outputs": [],
   "source": [
    "for dir in p_df.index:\n",
    "    valid_nodes = valid_dict[dir]\n",
    "    p_vector = list(p_df.loc[dir, valid_nodes])\n",
    "    p_adj = fdr(p_vector, p_cutoff)[1]\n",
    "    for i, node in enumerate(valid_nodes):\n",
    "        p_df.loc[dir, node] = p_adj[i]\n",
    "p_df.to_csv(os.path.join(outdir, 'p_all_cohorts.tsv'), sep='\\t')"
   ]
  },
  {
   "cell_type": "code",
   "execution_count": 13,
   "metadata": {},
   "outputs": [],
   "source": [
    "node_plot = pd.DataFrame()\n",
    "for dir in p_df.index:\n",
    "    for inode in p_df.columns:\n",
    "        p1 = p_df.loc[dir, inode]\n",
    "        if pd.isna(p1):\n",
    "            node_plot.loc[dir, inode] = np.nan\n",
    "        elif p1 < p_cutoff:\n",
    "            if mean_df.loc[dir, inode] > 0:\n",
    "                node_plot.loc[dir, inode] = 1\n",
    "            else:\n",
    "                node_plot.loc[dir, inode] = -1\n",
    "        else:\n",
    "            node_plot.loc[dir, inode] = 0\n"
   ]
  },
  {
   "cell_type": "code",
   "execution_count": 14,
   "metadata": {},
   "outputs": [
    {
     "data": {
      "image/png": "[encoded data removed]",
      "text/plain": [
       "<Figure size 360x864 with 1 Axes>"
      ]
     },
     "metadata": {
      "needs_background": "light"
     },
     "output_type": "display_data"
    }
   ],
   "source": [
    "show_node = []   \n",
    "part_df = node_plot\n",
    "for inode in part_df.columns:\n",
    "    all_zero = True\n",
    "    all_nan = True\n",
    "    for dir in part_df.index:\n",
    "        if not pd.isna(node_plot.loc[dir, inode]):\n",
    "            all_nan = False\n",
    "        if node_plot.loc[dir, inode] != 0:\n",
    "            all_zero = False\n",
    "    if not (all_zero or all_nan):\n",
    "        show_node.append(inode)\n",
    "plt.figure(figsize=(5, 12))\n",
    "part_df = part_df[show_node]\n",
    "non_zero_count = part_df.astype(bool).sum(axis=0) - part_df.isnull().sum(axis=0)\n",
    "sorted_df = part_df.iloc[:, non_zero_count.argsort()]\n",
    "#show_node = sorted(show_node)\n",
    "sns.heatmap(sorted_df.T, vmax=1, vmin=-1, square=True, linecolor='black', cbar=False, xticklabels=True, yticklabels=True, linewidths=1, cmap=\"coolwarm\")\n",
    "plt.title('Different SE of NSCLC cohorts')\n",
    "plt.xticks(rotation=90)\n",
    "ax = plt.gca()\n",
    "\n",
    "ax.spines['top'].set_visible(True)\n",
    "ax.spines['bottom'].set_visible(True)\n",
    "ax.spines['left'].set_visible(True)\n",
    "ax.spines['right'].set_visible(True)\n",
    "opath = os.path.join(outdir, 'NSCLC.pdf')\n",
    "plt.tight_layout()\n",
    "plt.savefig(opath, dpi=300, format='pdf')\n",
    "part_df[show_node].to_csv(os.path.join(outdir, 'NSCLC.tsv'), sep='\\t')\n",
    "#plt.show()\n",
    "#print(part_df[show_node].shape)"
   ]
  },
  {
   "cell_type": "code",
   "execution_count": 67,
   "metadata": {},
   "outputs": [],
   "source": [
    "# supercluster_S3 \n",
    "# cluster_S1-C20\n",
    "\n",
    "# binary disc set and find Score\n",
    "\n",
    "\n",
    "abd_path = os.path.join(indir, 'merged_species.txt')\n",
    "raw_profile = abd_profile.input_profile(abd_path, transfer=True)\n",
    "raw_profile = raw_profile[list(set(d_df.index).intersection(set(raw_profile.columns)))]\n",
    "metadata_path = os.path.join(indir, 'metadata.txt')\n",
    "metadata = pd.read_csv(metadata_path, sep=',', header=0)\n",
    "metadata.fillna('NA', inplace=True)\n",
    "metadata_cohort = metadata[(metadata['Cohort'] == 'Disc')] #  \n",
    "metadata_cohort = metadata_cohort[metadata_cohort['Sample Name'].isin(list(raw_profile.index))]\n",
    "selected_raw_profile = raw_profile.loc[list(metadata_cohort['Sample Name']), :]\n",
    "disc_profile = abd_profile.check(selected_raw_profile, d_df)\n",
    "delete_sp = []\n",
    "binary_disc = copy.deepcopy(disc_profile)\n",
    "binary_disc[binary_disc > 0] = 1\n",
    "for sp in disc_profile.columns:\n",
    "    if binary_disc[sp].sum() < len(disc_profile)*2.5/100:\n",
    "        delete_sp.append(sp)\n",
    "disc_profile.drop(columns=delete_sp, inplace=True)"
   ]
  },
  {
   "cell_type": "code",
   "execution_count": 68,
   "metadata": {},
   "outputs": [],
   "source": [
    "clusters = ['supercluster_S3', 'cluster_S1-C20']\n",
    "interested_dict = {}\n",
    "num_dict = {}\n",
    "\n",
    "for cluster in clusters:\n",
    "    leaves = node_leaves[cluster]\n",
    "    leaves = [leaf.replace('-', '_') for leaf in leaves]\n",
    "    common_sp = list(set(disc_profile.columns).intersection(set(leaves)))\n",
    "    interested_dict[cluster] = copy.deepcopy(disc_profile[common_sp])\n",
    "    num_dict[cluster] = len(common_sp)\n",
    "\n",
    "with open(os.path.join(outdir, 'cluster.tsv'), 'w') as fp:\n",
    "    s = 'cluster\\tsize\\tleaves\\n'\n",
    "    for cluster in clusters:\n",
    "        s += '{}\\t{}\\t{}\\n'.format(cluster, num_dict[cluster], ','.join(list(interested_dict[cluster].columns)))\n",
    "    fp.write(s)\n",
    "    "
   ]
  },
  {
   "cell_type": "code",
   "execution_count": 69,
   "metadata": {},
   "outputs": [],
   "source": [
    "# binary disc set and find Score\n",
    "cluster_ratio = {}\n",
    "for cluster in clusters:\n",
    "    cluster_p = interested_dict[cluster]\n",
    "    column_medians = cluster_p.median()\n",
    "    for sp in cluster_p.columns:\n",
    "        cluster_p.loc[:, sp] = cluster_p.loc[:, sp] - column_medians[sp]\n",
    "    cluster_p[cluster_p > 0] = 1\n",
    "    cluster_p[cluster_p < 0] = 0\n",
    "    total_n = num_dict[cluster]\n",
    "    # sum by row\n",
    "    sum_result = cluster_p.sum(axis=1)\n",
    "    ratio = sum_result/total_n\n",
    "    cluster_ratio[cluster] = copy.deepcopy(ratio)\n",
    "result_score = (cluster_ratio[clusters[1]]-cluster_ratio[clusters[0]][cluster_ratio[clusters[0]].index]+1)/2\n",
    "result_score.to_csv(os.path.join(outdir, 'score_disc.tsv'), sep='\\t')"
   ]
  },
  {
   "cell_type": "code",
   "execution_count": 43,
   "metadata": {},
   "outputs": [],
   "source": [
    "metadata_cohort = metadata[(metadata['Cohort'] == 'Valid')] #  \n",
    "metadata_cohort = metadata_cohort[metadata_cohort['Sample Name'].isin(list(raw_profile.index))]\n",
    "selected_raw_profile = raw_profile.loc[list(metadata_cohort['Sample Name']), :]\n",
    "valid_profile = abd_profile.check(selected_raw_profile, d_df)\n",
    "# binary valid set and find Score\n",
    "cluster_ratio = {}\n",
    "for cluster in clusters:\n",
    "    cluster_sp = list(set(interested_dict[cluster].columns).intersection(set(valid_profile.columns)))\n",
    "    cluster_p = copy.deepcopy(valid_profile[cluster_sp])\n",
    "    column_medians = cluster_p.median()\n",
    "    for sp in cluster_p.columns:\n",
    "        cluster_p.loc[:, sp] = cluster_p.loc[:, sp] - column_medians[sp]\n",
    "    cluster_p[cluster_p > 0] = 1\n",
    "    cluster_p[cluster_p < 0] = 0\n",
    "    total_n = num_dict[cluster]\n",
    "    # sum by row\n",
    "    sum_result = cluster_p.sum(axis=1)\n",
    "    ratio = sum_result/total_n\n",
    "    cluster_ratio[cluster] = copy.deepcopy(ratio)\n",
    "result_score = (cluster_ratio[clusters[1]]-cluster_ratio[clusters[0]][cluster_ratio[clusters[0]].index]+1)/2\n",
    "result_score.to_csv(os.path.join(outdir, 'score_valid.tsv'), sep='\\t')"
   ]
  },
  {
   "cell_type": "code",
   "execution_count": 77,
   "metadata": {},
   "outputs": [],
   "source": [
    "# Cohort OS Sample_id TOPOB01 OS12\n",
    "DS1 = pd.read_csv('../data/immu/DS1_oncology_clinical_data.csv', header=0)\n",
    "DS1 = DS1[DS1['Cohort']=='Disc']\n",
    "DS1.set_index('Sample_id', inplace=True)\n",
    "DS1.dropna(subset=['OS12'], inplace=True)\n",
    "DS1['Sample_id'] = DS1.index\n",
    "\n",
    "pred_disc = pd.read_csv(os.path.join(outdir, 'score_disc.tsv'), sep='\\t', header=0, index_col=0)\n",
    "DS1['TOPOB01'] = pred_disc.loc[DS1.index, '0']\n",
    "DS1.to_csv(os.path.join(outdir, 'pred_disc.tsv'), sep='\\t', index=False)\n"
   ]
  },
  {
   "cell_type": "code",
   "execution_count": 76,
   "metadata": {},
   "outputs": [],
   "source": [
    "DS1.loc[DS1[DS1['TOPOB01'] < 0.498].index, 'TOPOB01'] = 0\n",
    "DS1.loc[DS1[DS1['TOPOB01'] >= 0.629].index, 'TOPOB01'] = 1\n",
    "pred_DS1 = DS1[(DS1['TOPOB01'] == 0) | (DS1['TOPOB01'] == 1)]\n",
    "pred_DS1.to_csv(os.path.join(outdir, 'pred_binary_disc.tsv'), sep='\\t', index=False)"
   ]
  },
  {
   "cell_type": "code",
   "execution_count": 98,
   "metadata": {},
   "outputs": [
    {
     "name": "stdout",
     "output_type": "stream",
     "text": [
      "13\n",
      "34\n",
      "56\n",
      "34\n"
     ]
    }
   ],
   "source": [
    "print(len(pred_DS1[(pred_DS1['TOPOB01'] == 0) & (pred_DS1['OS12'] == 'R')]))\n",
    "print(len(pred_DS1[(pred_DS1['TOPOB01'] == 0) & (pred_DS1['OS12'] == 'NR')]))\n",
    "print(len(pred_DS1[(pred_DS1['TOPOB01'] == 1) & (pred_DS1['OS12'] == 'R')]))\n",
    "print(len(pred_DS1[(pred_DS1['TOPOB01'] == 1) & (pred_DS1['OS12'] == 'NR')]))"
   ]
  },
  {
   "cell_type": "code",
   "execution_count": 100,
   "metadata": {},
   "outputs": [
    {
     "data": {
      "text/plain": [
       "0.723404255319149"
      ]
     },
     "execution_count": 100,
     "metadata": {},
     "output_type": "execute_result"
    }
   ],
   "source": [
    "34/(34+13)"
   ]
  },
  {
   "cell_type": "code",
   "execution_count": 101,
   "metadata": {},
   "outputs": [
    {
     "data": {
      "text/plain": [
       "0.6222222222222222"
      ]
     },
     "execution_count": 101,
     "metadata": {},
     "output_type": "execute_result"
    }
   ],
   "source": [
    "56/(56+34)"
   ]
  },
  {
   "cell_type": "code",
   "execution_count": null,
   "metadata": {},
   "outputs": [],
   "source": [
    "pred_valid = pd.read_csv(os.path.join(outdir, 'score_valid.tsv'), sep='\\t', header=0, index_col=0)"
   ]
  },
  {
   "cell_type": "code",
   "execution_count": 70,
   "metadata": {},
   "outputs": [
    {
     "data": {
      "text/plain": [
       "{'supercluster_S3': 11, 'cluster_S1-C20': 19}"
      ]
     },
     "execution_count": 70,
     "metadata": {},
     "output_type": "execute_result"
    }
   ],
   "source": [
    "num_dict"
   ]
  },
  {
   "cell_type": "code",
   "execution_count": 79,
   "metadata": {},
   "outputs": [],
   "source": [
    "related_abd_df = pd.read_csv('../data/immu/sig.txt', sep='\\t', header=0, index_col=None)\n",
    "sig_dict = {}\n",
    "sig_dict['sig1'] = list(related_abd_df[related_abd_df['SIG'] == 'SIG1']['MGS'])\n",
    "sig_dict['sig1'] = [x.replace(' ', '_') for x in sig_dict['sig1']]\n",
    "sig_dict['sig1'] = ['s__{}'.format(x) for x in sig_dict['sig1']]\n",
    "sig_dict['sig2'] = list(related_abd_df[related_abd_df['SIG'] == 'SIG2']['MGS'])\n",
    "sig_dict['sig2'] = [x.replace(' ', '_') for x in sig_dict['sig2']]\n",
    "sig_dict['sig2'] = ['s__{}'.format(x) for x in sig_dict['sig2']]\n",
    "sig_dict['sig3'] = list(set(raw_profile.columns).difference(set(sig_dict['sig1'] + sig_dict['sig2'])))"
   ]
  },
  {
   "cell_type": "code",
   "execution_count": 81,
   "metadata": {},
   "outputs": [
    {
     "data": {
      "text/plain": [
       "26"
      ]
     },
     "execution_count": 81,
     "metadata": {},
     "output_type": "execute_result"
    }
   ],
   "source": [
    "len(list(set(sig_dict['sig1']).intersection(set(raw_profile.columns))))"
   ]
  },
  {
   "cell_type": "code",
   "execution_count": 82,
   "metadata": {},
   "outputs": [
    {
     "data": {
      "text/plain": [
       "37"
      ]
     },
     "execution_count": 82,
     "metadata": {},
     "output_type": "execute_result"
    }
   ],
   "source": [
    "len(sig_dict['sig1'])"
   ]
  },
  {
   "cell_type": "code",
   "execution_count": 85,
   "metadata": {},
   "outputs": [
    {
     "data": {
      "text/plain": [
       "0"
      ]
     },
     "execution_count": 85,
     "metadata": {},
     "output_type": "execute_result"
    }
   ],
   "source": [
    "len(list(set(sig_dict['sig2']).intersection(set(interested_dict[clusters[0]].columns))))"
   ]
  },
  {
   "cell_type": "code",
   "execution_count": 86,
   "metadata": {},
   "outputs": [
    {
     "data": {
      "text/plain": [
       "0"
      ]
     },
     "execution_count": 86,
     "metadata": {},
     "output_type": "execute_result"
    }
   ],
   "source": [
    "len(list(set(sig_dict['sig1']).intersection(set(interested_dict[clusters[0]].columns))))"
   ]
  },
  {
   "cell_type": "code",
   "execution_count": 87,
   "metadata": {},
   "outputs": [
    {
     "data": {
      "text/plain": [
       "0"
      ]
     },
     "execution_count": 87,
     "metadata": {},
     "output_type": "execute_result"
    }
   ],
   "source": [
    "len(list(set(sig_dict['sig1']).intersection(set(interested_dict[clusters[1]].columns))))"
   ]
  },
  {
   "cell_type": "code",
   "execution_count": 88,
   "metadata": {},
   "outputs": [
    {
     "data": {
      "text/plain": [
       "0"
      ]
     },
     "execution_count": 88,
     "metadata": {},
     "output_type": "execute_result"
    }
   ],
   "source": [
    "len(list(set(sig_dict['sig2']).intersection(set(interested_dict[clusters[0]].columns))))"
   ]
  },
  {
   "cell_type": "code",
   "execution_count": 95,
   "metadata": {},
   "outputs": [
    {
     "name": "stdout",
     "output_type": "stream",
     "text": [
      "s__Actinomyces_graevenitzii,s__Alloscardovia_omnicolens,s__Anaerostipes_caccae,s__Bifidobacterium_dentium,s__Blautia_producta,s__Campylobacter_concisus,s__Campylobacter_gracilis,s__Clostridium_innocuum,s__Clostridium_perfringens,s__Clostridium_scindens,s__Clostridium_symbiosum,s__Collinsella_SGB14754,s__Enorma_massiliensis,s__Enterocloster_aldensis,s__Enterocloster_bolteae,s__Enterocloster_clostridioformis,s__Erysipelatoclostridium_ramosum,s__Fournierella_massiliensis,s__Granulicatella_adiacens,s__Hungatella_hathewayi,s__Lacticaseibacillus_paracasei,s__Lactobacillus_gasseri,s__Lactobacillus_vaginalis,s__Ligilactobacillus_salivarius,s__Limosilactobacillus_fermentum,s__Limosilactobacillus_oris,s__Megasphaera_micronuciformis,s__Proteus_mirabilis,s__Streptococcus_anginosus,s__Streptococcus_gordonii,s__Streptococcus_mutans,s__Streptococcus_oralis,s__Streptococcus_parasanguinis,s__Streptococcus_salivarius,s__Veillonella_atypica,s__Veillonella_dispar,s__Veillonella_parvula\n",
      "s__Agathobaculum_butyriciproducens,s__Anaerobutyricum_hallii,s__Anaerostipes_hadrus,s__Anaerotignum_faecicola,s__Blautia_massiliensis,s__Blautia_wexlerae,s__Candidatus_Cibiobacter_qucibialis,s__Clostridiaceae_bacterium,s__Clostridiaceae_bacterium_OM08_6BH,s__Clostridiaceae_unclassified_SGB4769,s__Clostridiales_bacterium_KLE1615,s__Clostridiales_unclassified_SGB15145,s__Clostridium_fessum,s__Clostridium_sp_AF34_10BH,s__Clostridium_sp_AM22_11AC,s__Clostridium_sp_AM33_3,s__Clostridium_sp_AM49_4BH,s__Coprobacter_fastidiosus,s__Coprococcus_comes,s__Coprococcus_eutactus,s__Dorea_formicigenerans,s__Dorea_longicatena,s__Eubacterium_ramulus,s__Eubacterium_rectale,s__Eubacterium_ventriosum,s__Faecalibacillus_intestinalis,s__Faecalibacterium_SGB15346,s__Faecalibacterium_prausnitzii,s__Firmicutes_bacterium_AF16_15,s__Gemmiger_formicilis,s__Lachnospira_eligens,s__Lachnospira_pectinoschiza,s__Lachnospira_sp_NSJ_43,s__Lachnospiraceae_bacterium_OM04_12BH,s__Lachnospiraceae_bacterium_WCA3_601_WT_6H,s__Lacrimispora_amygdalina,s__Mediterraneibacter_butyricigenes,s__Oscillibacter_sp_ER4,s__Phocaeicola_massiliensis,s__Roseburia_hominis,s__Roseburia_intestinalis,s__Roseburia_inulinivorans,s__Roseburia_sp_AF02_12,s__Ruminococcus_bicirculans,s__Ruminococcus_lactaris\n"
     ]
    }
   ],
   "source": [
    "print(','.join(sig_dict['sig1']))\n",
    "print(','.join(sig_dict['sig2']))"
   ]
  },
  {
   "cell_type": "code",
   "execution_count": 91,
   "metadata": {},
   "outputs": [
    {
     "name": "stdout",
     "output_type": "stream",
     "text": [
      "s__Escherichia_coli,s__Klebsiella_michiganensis,s__Enterobacter_cloacae_complex,s__Klebsiella_oxytoca,s__Klebsiella_quasipneumoniae,s__Klebsiella_variicola,s__Citrobacter_freundii,s__Hafnia_paralvei,s__Citrobacter_youngae,s__Hafnia_alvei,s__Klebsiella_pneumoniae\n",
      "s__Lachnospira_pectinoschiza,s__Butyrivibrio_sp_CAG_318,s__Eubacterium_rectale,s__Firmicutes_bacterium_CAG_95,s__Roseburia_sp_CAG_309,s__Clostridium_sp_CAG_167,s__Roseburia_sp_CAG_303,s__Butyrivibrio_crossotus,s__Roseburia_sp_CAG_182,s__Roseburia_intestinalis,s__Eubacterium_eligens,s__Lactobacillus_rogosae,s__Bacteroides_galacturonicus,s__Roseburia_faecis,s__Clostridium_sp_CAG_253,s__Roseburia_hominis,s__Coprococcus_eutactus,s__Roseburia_inulinivorans,s__Eubacterium_sp_CAG_38\n"
     ]
    }
   ],
   "source": [
    "print(','.join(interested_dict[clusters[0]].columns))\n",
    "print(','.join(interested_dict[clusters[1]].columns))"
   ]
  },
  {
   "cell_type": "code",
   "execution_count": null,
   "metadata": {},
   "outputs": [],
   "source": []
  }
 ],
 "metadata": {
  "kernelspec": {
   "display_name": "base",
   "language": "python",
   "name": "python3"
  },
  "language_info": {
   "codemirror_mode": {
    "name": "ipython",
    "version": 3
   },
   "file_extension": ".py",
   "mimetype": "text/x-python",
   "name": "python",
   "nbconvert_exporter": "python",
   "pygments_lexer": "ipython3",
   "version": "3.8.5"
  }
 },
 "nbformat": 4,
 "nbformat_minor": 2
}
