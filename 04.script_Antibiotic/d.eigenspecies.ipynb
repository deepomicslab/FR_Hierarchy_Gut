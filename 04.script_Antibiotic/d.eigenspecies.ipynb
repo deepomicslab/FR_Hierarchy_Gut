{
 "cells": [
  {
   "cell_type": "markdown",
   "metadata": {},
   "source": [
    "Eigenspecies analysis of antibiotic cohort\n",
    "- prepare group file for comparison pairs, two groups in one comparison\n",
    "- calculate eigenspecies of all FRCs in all samples in two groups\n",
    "- construct eigenspecies correlation network for two groups respectively\n",
    "- preservation matrix of correlation matrices between two groups\n",
    "- compare eigenspecies networks difference between two groups\n"
   ]
  },
  {
   "cell_type": "code",
   "execution_count": 1,
   "metadata": {},
   "outputs": [
    {
     "name": "stdout",
     "output_type": "stream",
     "text": [
      "Created file: ../result/Anti/eigenspecies/Health_0.Health_7.group.tsv with 12 samples\n",
      "Created file: ../result/Anti/eigenspecies/Health_0.Health_90.group.tsv with 12 samples\n",
      "Created file: ../result/Anti/eigenspecies/Health_7.Health_90.group.tsv with 12 samples\n",
      "Created file: ../result/Anti/eigenspecies/Exposed_0.Exposed_7.group.tsv with 36 samples\n",
      "Created file: ../result/Anti/eigenspecies/Exposed_0.Exposed_90.group.tsv with 36 samples\n",
      "Created file: ../result/Anti/eigenspecies/Exposed_7.Exposed_90.group.tsv with 36 samples\n",
      "Created file: ../result/Anti/eigenspecies/EB_0.EB_7.group.tsv with 12 samples\n",
      "Created file: ../result/Anti/eigenspecies/EB_0.EB_90.group.tsv with 12 samples\n",
      "Created file: ../result/Anti/eigenspecies/EB_7.EB_90.group.tsv with 12 samples\n",
      "Created file: ../result/Anti/eigenspecies/EN_0.EN_7.group.tsv with 24 samples\n",
      "Created file: ../result/Anti/eigenspecies/EN_0.EN_90.group.tsv with 24 samples\n",
      "Created file: ../result/Anti/eigenspecies/EN_7.EN_90.group.tsv with 24 samples\n",
      "Created file: ../result/Anti/eigenspecies/EB_0.EN_0.group.tsv with 18 samples\n",
      "Created file: ../result/Anti/eigenspecies/EB_7.EN_7.group.tsv with 18 samples\n",
      "Created file: ../result/Anti/eigenspecies/EB_90.EN_90.group.tsv with 18 samples\n",
      "Created file: ../result/Anti/eigenspecies/Health_0.EB_0.group.tsv with 12 samples\n",
      "Created file: ../result/Anti/eigenspecies/Health_0.EN_0.group.tsv with 18 samples\n"
     ]
    }
   ],
   "source": [
    "import pandas as pd\n",
    "import os\n",
    "import numpy as np\n",
    "\n",
    "\n",
    "# Create group file for every comparison\n",
    "os.makedirs(\"../result/Anti/eigenspecies\", exist_ok=True)\n",
    "\n",
    "anti_df = pd.read_csv(\"../data/Anti/Anti.group.tsv\", sep=\"\\t\")\n",
    "\n",
    "all_dict = {}\n",
    "for _, row in anti_df.iterrows():\n",
    "    disease_day = row['disease_day']\n",
    "    ecc_day = row['ECC_day']\n",
    "    sample_id = row['sample_id']\n",
    "    \n",
    "    if disease_day not in all_dict:\n",
    "        all_dict[disease_day] = {}\n",
    "    all_dict[disease_day][sample_id] = 1\n",
    "    \n",
    "    if pd.notna(ecc_day):\n",
    "        if ecc_day not in all_dict:\n",
    "            all_dict[ecc_day] = {}\n",
    "        all_dict[ecc_day][sample_id] = 1\n",
    "\n",
    "compare_df = pd.read_csv(\"../data/Anti/Anti.compare.list\", sep=\"\\t\", header=None, names=['g1', 'g2'])\n",
    "\n",
    "# Process each comparison\n",
    "for _, row in compare_df.iterrows():\n",
    "    g1, g2 = row['g1'], row['g2']\n",
    "    \n",
    "    # Create output dataframe\n",
    "    output_data = []\n",
    "    \n",
    "    # Process each group\n",
    "    for g in [g1, g2]:\n",
    "        # Get samples for this group\n",
    "        if g in all_dict:\n",
    "            samples = sorted(all_dict[g].keys())\n",
    "            \n",
    "            # Add each sample to output data\n",
    "            for sample in samples:\n",
    "                output_data.append({\n",
    "                    'sample_id': sample,\n",
    "                    'group': g\n",
    "                })\n",
    "    \n",
    "    # Create and save the output dataframe\n",
    "    output_df = pd.DataFrame(output_data)\n",
    "    output_path = f\"../result/Anti/eigenspecies/{g1}.{g2}.group.tsv\"\n",
    "    output_df.to_csv(output_path, sep=\"\\t\", index=False)\n",
    "    \n",
    "    print(f\"Created file: {output_path} with {len(output_df)} samples\")"
   ]
  },
  {
   "cell_type": "code",
   "execution_count": 2,
   "metadata": {},
   "outputs": [],
   "source": [
    "from eigenspecies_utils import calculate_eigenspecies, eigenspecies_correlation_network, get_preserv_matrix, compare_eigenspecies_networks, calculate_eigenspecies_together\n",
    "\n",
    "\n",
    "# load data\n",
    "\n",
    "species_FRC = pd.read_csv('../result/GCN_fix_tree/leaves_cluster.tsv', sep='\\t')\n",
    "expr_df = pd.read_csv('../data/Anti/abd.tsv', sep='\\t', index_col=0)\n",
    "expr_df.index = expr_df.index.str.split('|').str[-1]\n",
    "\n",
    "g1 = 'Exposed_0'\n",
    "g2 = 'Exposed_90'\n",
    "prefix = f'../result/Anti/eigenspecies/{g1}.{g2}'\n",
    "meta_df = pd.read_csv(f'{prefix}.group.tsv', sep='\\t')\n",
    "\n"
   ]
  },
  {
   "cell_type": "code",
   "execution_count": 3,
   "metadata": {},
   "outputs": [],
   "source": [
    "\n",
    "\n",
    "\n",
    "g1_samples = meta_df[meta_df['group'] == g1]['sample_id'].tolist()\n",
    "g2_samples = meta_df[meta_df['group'] == g2]['sample_id'].tolist()\n",
    "\n",
    "\n",
    "g1_expr = expr_df.loc[:, g1_samples]\n",
    "g2_expr = expr_df.loc[:, g2_samples]\n",
    "# compute eigenspecies\n",
    "eigenspecies_results = []\n",
    "eigenspecies_results.extend(calculate_eigenspecies(g1_expr, species_FRC, g1))\n",
    "eigenspecies_results.extend(calculate_eigenspecies(g2_expr, species_FRC, g2))\n",
    "\n",
    "# create eigenspecies DataFrame\n",
    "eigenspecies_df = pd.DataFrame(eigenspecies_results)\n",
    "eigenspecies_df.to_csv(f\"{prefix}.eigenspecies.csv\", sep='\\t')\n"
   ]
  },
  {
   "cell_type": "code",
   "execution_count": 4,
   "metadata": {},
   "outputs": [],
   "source": [
    "\n",
    "\n",
    "\n",
    "g1_samples = meta_df[meta_df['group'] == g1]['sample_id'].tolist()\n",
    "g2_samples = meta_df[meta_df['group'] == g2]['sample_id'].tolist()\n",
    "\n",
    "all_samples = g1_samples + g2_samples\n",
    "\n",
    "\n",
    "expr_df = expr_df.loc[:, all_samples]\n",
    "\n",
    "eigenspecies_results = calculate_eigenspecies_together(expr_df, species_FRC, meta_df, g1_samples, g2_samples, g1, g2)\n",
    "eigenspecies_df = pd.DataFrame(eigenspecies_results)\n",
    "eigenspecies_df.to_csv(f\"{prefix}.together.eigenspecies.csv\", sep='\\t')\n"
   ]
  },
  {
   "cell_type": "code",
   "execution_count": 5,
   "metadata": {},
   "outputs": [],
   "source": [
    "# Create health network\n",
    "g1_network, g1_sample_cluster_matrix = eigenspecies_correlation_network(\n",
    "    eigenspecies_df, g1, prefix\n",
    ")\n",
    "\n",
    "# Create disease network\n",
    "g2_network, g2_sample_cluster_matrix = eigenspecies_correlation_network(\n",
    "    eigenspecies_df, g2, prefix\n",
    ")"
   ]
  },
  {
   "cell_type": "code",
   "execution_count": 6,
   "metadata": {},
   "outputs": [
    {
     "name": "stdout",
     "output_type": "stream",
     "text": [
      "0.8011442823528266\n"
     ]
    }
   ],
   "source": [
    "import seaborn as sns\n",
    "from matplotlib import pyplot as plt\n",
    "\n",
    "# compute Preserv(1,2) matrix for disease and control group\n",
    "preserv_matrix = get_preserv_matrix(g1_network, g2_network)\n",
    "\n",
    "preserv_matrix = preserv_matrix.astype(float)\n",
    "preserv_matrix.to_csv(\"{}.preserv_matrix.tsv\".format(prefix),sep='\\t')\n",
    "\n",
    "plt.figure(figsize=(12, 10))\n",
    "sns.clustermap(preserv_matrix, annot=True, cmap='YlOrRd')\n",
    "plt.title('Eigenspecies Matrix')\n",
    "plt.savefig(\"{}.preserv_matrix.png\".format(prefix))\n",
    "\n",
    "n = preserv_matrix.shape[0]\n",
    "if n > 1:  # Avoid division by zero\n",
    "    # Exclude diagonal elements (self-connections) from calculation\n",
    "    density = (preserv_matrix.sum().sum() - np.trace(preserv_matrix)) / (n * (n - 1))\n",
    "else:\n",
    "    density = 0\n",
    "\n",
    "print(density) "
   ]
  },
  {
   "cell_type": "code",
   "execution_count": 7,
   "metadata": {},
   "outputs": [],
   "source": [
    "\n",
    "results = compare_eigenspecies_networks(g1_sample_cluster_matrix,g2_sample_cluster_matrix)\n",
    "results\n",
    "\n",
    "results.to_csv(\"{}.compare_eigenspecies_networks.tsv\".format(prefix), sep='\\t')"
   ]
  },
  {
   "cell_type": "code",
   "execution_count": null,
   "metadata": {},
   "outputs": [],
   "source": []
  }
 ],
 "metadata": {
  "kernelspec": {
   "display_name": "meta_fr_r",
   "language": "python",
   "name": "python3"
  },
  "language_info": {
   "codemirror_mode": {
    "name": "ipython",
    "version": 3
   },
   "file_extension": ".py",
   "mimetype": "text/x-python",
   "name": "python",
   "nbconvert_exporter": "python",
   "pygments_lexer": "ipython3",
   "version": "3.8.20"
  }
 },
 "nbformat": 4,
 "nbformat_minor": 2
}
