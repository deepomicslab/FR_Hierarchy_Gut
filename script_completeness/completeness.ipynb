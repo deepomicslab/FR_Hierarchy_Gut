{
 "cells": [
  {
   "cell_type": "code",
   "execution_count": 1,
   "metadata": {},
   "outputs": [],
   "source": [
    "# This script computes the completeness for the GCN2008\n",
    "import pandas as pd\n",
    "import os\n",
    "import sys\n",
    "sys.path.append('..')\n",
    "import completeness as cplt\n",
    "\n",
    "# load module defination and GCN\n",
    "input_df = pd.read_csv('../data/module_def0507.tsv', sep='\\t', header=0, index_col=0)\n",
    "df = pd.read_csv('../data/gcn2008.tsv', sep='\\t', header=0, index_col=0)"
   ]
  },
  {
   "cell_type": "code",
   "execution_count": 2,
   "metadata": {},
   "outputs": [],
   "source": [
    "out_df = pd.DataFrame(index=df.index,columns=input_df.index) \n",
    "for index, row in df.iterrows():\n",
    "  # print(index)\n",
    "  ko_list = []\n",
    "  for col, value in row.items():\n",
    "    #print(col,value)\n",
    "    if value != 0:\n",
    "      ko_list.append(col)\n",
    "  if not ko_list:  \n",
    "    continue\n",
    "\n",
    "  for idx in input_df.index:\n",
    "    definition = input_df.loc[idx, 'def']\n",
    "    node_dict, nid = cplt.replace_branket(definition)\n",
    "    definition, mdict = cplt.replace_module(input_df, definition)\n",
    "    new_node_dict, nid = cplt.replace_branket(definition, nid)\n",
    "    node_dict = {**mdict, **node_dict, **new_node_dict}\n",
    "    path = cplt.main(definition,ko_list, node_dict)\n",
    "    value = path['exist']/path['length']\n",
    "    value = round(value, 4)\n",
    "    out_df.loc[index, idx] = value\n",
    "    \n",
    "odir = '../result/completeness'\n",
    "if not os.path.exists(odir):\n",
    "  os.makedirs(odir)\n",
    "out_df.to_csv(os.path.join(odir, 'genome_module.completeness.tsv'), sep='\\t')\n"
   ]
  },
  {
   "cell_type": "code",
   "execution_count": null,
   "metadata": {},
   "outputs": [],
   "source": []
  }
 ],
 "metadata": {
  "kernelspec": {
   "display_name": "meta_fr_win",
   "language": "python",
   "name": "python3"
  },
  "language_info": {
   "codemirror_mode": {
    "name": "ipython",
    "version": 3
   },
   "file_extension": ".py",
   "mimetype": "text/x-python",
   "name": "python",
   "nbconvert_exporter": "python",
   "pygments_lexer": "ipython3",
   "version": "3.8.20"
  }
 },
 "nbformat": 4,
 "nbformat_minor": 2
}
