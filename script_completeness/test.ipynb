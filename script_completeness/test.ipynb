{
 "cells": [
  {
   "cell_type": "code",
   "execution_count": 10,
   "metadata": {},
   "outputs": [],
   "source": [
    "import pandas as pd\n",
    "from copy import deepcopy as dc\n",
    "import math\n",
    "import os\n",
    "import sys\n",
    "sys.path.append('..')\n",
    "import completeness as cplt\n"
   ]
  },
  {
   "cell_type": "code",
   "execution_count": 11,
   "metadata": {},
   "outputs": [],
   "source": [
    "input_df = pd.read_csv('../data/module_def0507.tsv', sep='\\t', header=0, index_col=0)\n",
    "df = pd.read_csv('../data/gcn2008.tsv', sep='\\t', header=0, index_col=0)"
   ]
  },
  {
   "cell_type": "code",
   "execution_count": 12,
   "metadata": {},
   "outputs": [
    {
     "name": "stdout",
     "output_type": "stream",
     "text": [
      "{'length': 2, 'exist': 1}\n",
      "{'length': 3, 'exist': 1}\n",
      "{'length': 3, 'exist': 1}\n",
      "{'length': 3, 'exist': 2}\n",
      "{'length': 2, 'exist': 1}\n",
      "{'length': 2, 'exist': 1}\n",
      "{'length': 2, 'exist': 1}\n",
      "{'length': 2, 'exist': 1}\n"
     ]
    }
   ],
   "source": [
    "definition = 'K00000 (K00003,(K00001 K00002))'\n",
    "node_dict, nid = cplt.replace_branket(definition)\n",
    "definition, mdict = cplt.replace_module(input_df, definition)\n",
    "new_node_dict, nid = cplt.replace_branket(definition, nid)\n",
    "node_dict = {**mdict, **node_dict, **new_node_dict}\n",
    "for k, v in node_dict.items():\n",
    "    if definition.find(v) >= 0:\n",
    "        definition = definition.replace(v, k, 1)\n",
    "print(cplt.completeness(definition, ['K00003'], node_dict))\n",
    "print(cplt.completeness(definition, ['K00002'], node_dict))\n",
    "print(cplt.completeness(definition, ['K00001'], node_dict))\n",
    "print(cplt.completeness(definition, ['K00001', 'K00002'], node_dict))\n",
    "print(cplt.completeness(definition, ['K00001', 'K00003'], node_dict))\n",
    "print(cplt.completeness(definition, ['K00001', 'K00003'], node_dict))\n",
    "print(cplt.completeness(definition, ['K00002', 'K00003'], node_dict))\n",
    "print(cplt.completeness(definition, ['K00001', 'K00002', 'K00003'], node_dict))"
   ]
  },
  {
   "cell_type": "code",
   "execution_count": 13,
   "metadata": {},
   "outputs": [
    {
     "name": "stdout",
     "output_type": "stream",
     "text": [
      "K01745 K01712 K01468 (K01479,K00603,K13990,(K05603 K01458))\n",
      "{'length': 4, 'exist': 1}\n",
      "{'length': 4, 'exist': 1}\n",
      "{'length': 4, 'exist': 1}\n",
      "{'length': 4, 'exist': 1}\n",
      "{'length': 5, 'exist': 1}\n",
      "{'length': 4, 'exist': 1}\n",
      "{'length': 5, 'exist': 2}\n",
      "{'length': 4, 'exist': 1}\n"
     ]
    }
   ],
   "source": [
    "idx = 'M00045'\n",
    "definition = input_df.loc[idx, 'def']\n",
    "print(definition)\n",
    "node_dict, nid = cplt.replace_branket(definition)\n",
    "definition, mdict = cplt.replace_module(input_df, definition)\n",
    "new_node_dict, nid = cplt.replace_branket(definition, nid)\n",
    "node_dict = {**mdict, **node_dict, **new_node_dict}\n",
    "for k, v in node_dict.items():\n",
    "    if definition.find(v) >= 0:\n",
    "        definition = definition.replace(v, k, 1)\n",
    "print(cplt.completeness(definition, ['K01745'], node_dict))\n",
    "print(cplt.completeness(definition, ['K01712'], node_dict))\n",
    "print(cplt.completeness(definition, ['K01468'], node_dict))\n",
    "print(cplt.completeness(definition, ['K01479'], node_dict))\n",
    "print(cplt.completeness(definition, ['K05603'], node_dict))\n",
    "print(cplt.completeness(definition, ['K01458', 'K05603', 'K13990'], node_dict))\n",
    "print(cplt.completeness(definition, ['K01458', 'K05603'], node_dict))\n",
    "print(cplt.completeness(definition, ['K01458',  'K13990'], node_dict))"
   ]
  },
  {
   "cell_type": "code",
   "execution_count": 14,
   "metadata": {},
   "outputs": [
    {
     "name": "stdout",
     "output_type": "stream",
     "text": [
      "{'length': 5, 'exist': 1}\n",
      "{'length': 4, 'exist': 1}\n",
      "{'length': 4, 'exist': 1}\n",
      "{'length': 4, 'exist': 1}\n"
     ]
    }
   ],
   "source": [
    "\n",
    "print(cplt.completeness(definition, ['K01458'], node_dict))\n",
    "print(cplt.completeness(definition, ['K13990'], node_dict))\n",
    "print(cplt.completeness(definition, ['K01458',  'K13990'], node_dict))\n",
    "print(cplt.completeness(definition, ['K01458', 'K05603', 'K13990'], node_dict))\n"
   ]
  },
  {
   "cell_type": "code",
   "execution_count": 15,
   "metadata": {},
   "outputs": [
    {
     "name": "stdout",
     "output_type": "stream",
     "text": [
      "(K00525+K00526,K10807+K10808) (K00940,K18533)\n",
      "{'length': 2, 'exist': 0}\n",
      "{'length': 2, 'exist': 1}\n",
      "{'length': 2, 'exist': 2}\n",
      "{'length': 2, 'exist': 2}\n",
      "{'length': 2, 'exist': 1}\n"
     ]
    }
   ],
   "source": [
    "idx = 'M00053'\n",
    "definition = input_df.loc[idx, 'def']\n",
    "print(definition)\n",
    "node_dict, nid = cplt.replace_branket(definition)\n",
    "definition, mdict = cplt.replace_module(input_df, definition)\n",
    "new_node_dict, nid = cplt.replace_branket(definition, nid)\n",
    "node_dict = {**mdict, **node_dict, **new_node_dict}\n",
    "#print(node_dict)\n",
    "for k, v in node_dict.items():\n",
    "    if definition.find(v) >= 0:\n",
    "        definition = definition.replace(v, k, 1)\n",
    "print(cplt.completeness(definition, ['K00526', 'K10808'], node_dict))\n",
    "print(cplt.completeness(definition, ['K00525', 'K00526', 'K10808'], node_dict))\n",
    "print(cplt.completeness(definition, ['K00525', 'K00526', 'K18533'], node_dict))\n",
    "print(cplt.completeness(definition, ['K00525', 'K00526', 'K00940','K18533'], node_dict))\n",
    "print(cplt.completeness(definition, ['K00525', 'K00526', 'K10807','K10808'], node_dict))"
   ]
  }
 ],
 "metadata": {
  "kernelspec": {
   "display_name": "base",
   "language": "python",
   "name": "python3"
  },
  "language_info": {
   "codemirror_mode": {
    "name": "ipython",
    "version": 3
   },
   "file_extension": ".py",
   "mimetype": "text/x-python",
   "name": "python",
   "nbconvert_exporter": "python",
   "pygments_lexer": "ipython3",
   "version": "3.8.5"
  }
 },
 "nbformat": 4,
 "nbformat_minor": 2
}
