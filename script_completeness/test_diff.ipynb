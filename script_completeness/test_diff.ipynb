{
 "cells": [
  {
   "cell_type": "code",
   "execution_count": 1,
   "metadata": {},
   "outputs": [],
   "source": [
    "# This script calls Rscript to run cluster_completeness_testing.R\n",
    "import os\n",
    "import pandas as pd\n",
    "\n",
    "outdir = '../result/completeness'\n",
    "cluster_df = pd.read_csv('../result/GCN_fix_tree/leaves_cluster.tsv', sep='\\t', index_col=0, header=0)\n",
    "cluster_df.fillna('NA', inplace=True)\n"
   ]
  },
  {
   "cell_type": "code",
   "execution_count": null,
   "metadata": {},
   "outputs": [],
   "source": [
    "# extract all superclusters' completeness\n",
    "sclusters = set(cluster_df['supercluster'])\n",
    "super_d = pd.DataFrame(columns=['scluster', 'sp'])\n",
    "for sp in cluster_df.index:\n",
    "    if cluster_df.loc[sp, 'supercluster'] == 'NA':\n",
    "        continue\n",
    "    super_d.loc[super_d.shape[0], ] = [cluster_df.loc[sp, 'supercluster'], sp.replace('-', '_')]\n",
    "super_d.to_csv(os.path.join(outdir, 'super_species.tsv'), sep='\\t', index=False, header=False)"
   ]
  },
  {
   "cell_type": "code",
   "execution_count": null,
   "metadata": {},
   "outputs": [],
   "source": [
    "# extract all subclusters' completeness under each supercluster\n",
    "completeness_d = pd.read_csv(os.path.join(outdir, 'genome_module.completeness.tsv'), sep='\\t', header=0, index_col=0)\n",
    "for scluter in sclusters:\n",
    "    species = cluster_df[cluster_df['supercluster'] == scluter].index\n",
    "    opath = os.path.join(outdir, scluter + '.cluster_species.tsv')\n",
    "    c_df = pd.DataFrame(columns=['cluster', 'sp'])\n",
    "    for sp in cluster_df[cluster_df['supercluster'] == scluter].index:\n",
    "        c_df.loc[c_df.shape[0], ] = [cluster_df.loc[sp, 'cluster'].replace('-', '_'), sp.replace('-', '_')]\n",
    "    sp_list = list(c_df['sp'])\n",
    "    part_completeness = completeness_d.loc[sp_list, :]\n",
    "    part_completeness.to_csv(os.path.join(outdir, scluter + '.genome_module.completeness.tsv'), sep='\\t', index=True, header=True)\n",
    "    c_df.to_csv(opath, sep='\\t', index=False, header=False)\n",
    "    "
   ]
  },
  {
   "cell_type": "code",
   "execution_count": 4,
   "metadata": {},
   "outputs": [
    {
     "data": {
      "text/plain": [
       "0"
      ]
     },
     "execution_count": 4,
     "metadata": {},
     "output_type": "execute_result"
    }
   ],
   "source": [
    "# call Rscript for supercluster completeness testing\n",
    "cmd = 'Rscript cluster_completeness_testing.R genome_module.completeness.tsv super_species.tsv super_cluster.module_comp.wilcox.testing.tsv {}'.format(outdir)\n",
    "os.system(cmd)"
   ]
  },
  {
   "cell_type": "code",
   "execution_count": 5,
   "metadata": {},
   "outputs": [],
   "source": [
    "# call Rscript for supercluster completeness testing\n",
    "for scluster in sclusters:\n",
    "    cmd = 'Rscript cluster_completeness_testing.R {}.genome_module.completeness.tsv {}.cluster_species.tsv {}.cluster.module_comp.wilcox.testing.tsv {}'.format(scluster, scluster, scluster, outdir)\n",
    "    os.system(cmd)\n"
   ]
  },
  {
   "cell_type": "code",
   "execution_count": null,
   "metadata": {},
   "outputs": [],
   "source": []
  }
 ],
 "metadata": {
  "kernelspec": {
   "display_name": "meta_fr_win",
   "language": "python",
   "name": "python3"
  },
  "language_info": {
   "codemirror_mode": {
    "name": "ipython",
    "version": 3
   },
   "file_extension": ".py",
   "mimetype": "text/x-python",
   "name": "python",
   "nbconvert_exporter": "python",
   "pygments_lexer": "ipython3",
   "version": "3.8.20"
  }
 },
 "nbformat": 4,
 "nbformat_minor": 2
}
