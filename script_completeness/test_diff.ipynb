{
 "cells": [
  {
   "cell_type": "code",
   "execution_count": 8,
   "metadata": {},
   "outputs": [],
   "source": [
    "import os\n",
    "import sys\n",
    "import pandas as pd\n",
    "\n",
    "outdir = '../result/completeness'\n",
    "cluster_df = pd.read_csv('../result/GCN_fix_tree/leaves_cluster.tsv', sep='\\t', index_col=0, header=0)\n",
    "cluster_df.fillna('NA', inplace=True)\n"
   ]
  },
  {
   "cell_type": "code",
   "execution_count": 16,
   "metadata": {},
   "outputs": [],
   "source": [
    "sclusters = set(cluster_df['super-cluster'])"
   ]
  },
  {
   "cell_type": "code",
   "execution_count": 17,
   "metadata": {},
   "outputs": [],
   "source": [
    "super_d = pd.DataFrame(columns=['scluster', 'sp'])\n",
    "for sp in cluster_df.index:\n",
    "    if cluster_df.loc[sp, 'super-cluster'] == 'NA':\n",
    "        continue\n",
    "    super_d.loc[super_d.shape[0], ] = [cluster_df.loc[sp, 'super-cluster'], sp.replace('-', '_')]\n",
    "super_d.to_csv(os.path.join(outdir, 'super_species.tsv'), sep='\\t', index=False, header=False)"
   ]
  },
  {
   "cell_type": "code",
   "execution_count": 21,
   "metadata": {},
   "outputs": [],
   "source": [
    "completeness_d = pd.read_csv(os.path.join(outdir, 'genome_module.completeness.tsv'), sep='\\t', header=0, index_col=0)\n",
    "for scluter in sclusters:\n",
    "    species = cluster_df[cluster_df['super-cluster'] == scluter].index\n",
    "    opath = os.path.join(outdir, scluter + '.cluster_species.tsv')\n",
    "    c_df = pd.DataFrame(columns=['cluster', 'sp'])\n",
    "    for sp in cluster_df[cluster_df['super-cluster'] == scluter].index:\n",
    "        c_df.loc[c_df.shape[0], ] = [cluster_df.loc[sp, 'cluster'].replace('-', '_'), sp.replace('-', '_')]\n",
    "    sp_list = list(c_df['sp'])\n",
    "    part_completeness = completeness_d.loc[sp_list, :]\n",
    "    part_completeness.to_csv(os.path.join(outdir, scluter + '.genome_module.completeness.tsv'), sep='\\t', index=True, header=True)\n",
    "    c_df.to_csv(opath, sep='\\t', index=False, header=False)\n",
    "    "
   ]
  },
  {
   "cell_type": "code",
   "execution_count": 23,
   "metadata": {},
   "outputs": [
    {
     "name": "stdout",
     "output_type": "stream",
     "text": [
      "Rscript cluster_completeness_testing.R genome_module.completeness.tsv super_species.tsv super_cluster.module_comp.wilcox.testing.tsv ../result/completeness\n"
     ]
    },
    {
     "data": {
      "text/plain": [
       "0"
      ]
     },
     "execution_count": 23,
     "metadata": {},
     "output_type": "execute_result"
    }
   ],
   "source": [
    "cmd = 'Rscript cluster_completeness_testing.R genome_module.completeness.tsv super_species.tsv super_cluster.module_comp.wilcox.testing.tsv {}'.format(outdir)\n",
    "os.system(cmd)"
   ]
  },
  {
   "cell_type": "code",
   "execution_count": 24,
   "metadata": {},
   "outputs": [],
   "source": [
    "for scluster in sclusters:\n",
    "    cmd = 'Rscript cluster_completeness_testing.R {}.genome_module.completeness.tsv {}.cluster_species.tsv {}.cluster.module_comp.wilcox.testing.tsv {}'.format(scluster, scluster, scluster, outdir)\n",
    "    os.system(cmd)\n"
   ]
  }
 ],
 "metadata": {
  "kernelspec": {
   "display_name": "base",
   "language": "python",
   "name": "python3"
  },
  "language_info": {
   "codemirror_mode": {
    "name": "ipython",
    "version": 3
   },
   "file_extension": ".py",
   "mimetype": "text/x-python",
   "name": "python",
   "nbconvert_exporter": "python",
   "pygments_lexer": "ipython3",
   "version": "3.8.5"
  }
 },
 "nbformat": 4,
 "nbformat_minor": 2
}
