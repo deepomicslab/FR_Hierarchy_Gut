{
 "cells": [
  {
   "cell_type": "code",
   "execution_count": 1,
   "metadata": {},
   "outputs": [],
   "source": [
    "import os\n",
    "import sys\n",
    "import pandas as pd\n",
    "\n",
    "outdir = '../result/completeness'\n",
    "cluster_df = pd.read_csv('../result/GCN_fix_tree/leaves_cluster.tsv', sep='\\t', index_col=0, header=0)\n",
    "cluster_df.fillna('NA', inplace=True)\n"
   ]
  },
  {
   "cell_type": "code",
   "execution_count": 4,
   "metadata": {},
   "outputs": [
    {
     "data": {
      "text/html": [
       "<div>\n",
       "<style scoped>\n",
       "    .dataframe tbody tr th:only-of-type {\n",
       "        vertical-align: middle;\n",
       "    }\n",
       "\n",
       "    .dataframe tbody tr th {\n",
       "        vertical-align: top;\n",
       "    }\n",
       "\n",
       "    .dataframe thead th {\n",
       "        text-align: right;\n",
       "    }\n",
       "</style>\n",
       "<table border=\"1\" class=\"dataframe\">\n",
       "  <thead>\n",
       "    <tr style=\"text-align: right;\">\n",
       "      <th></th>\n",
       "      <th>cluster</th>\n",
       "      <th>supercluster</th>\n",
       "    </tr>\n",
       "    <tr>\n",
       "      <th>species</th>\n",
       "      <th></th>\n",
       "      <th></th>\n",
       "    </tr>\n",
       "  </thead>\n",
       "  <tbody>\n",
       "    <tr>\n",
       "      <th>s__Massilia_sp_LC238</th>\n",
       "      <td>C10</td>\n",
       "      <td>NA</td>\n",
       "    </tr>\n",
       "    <tr>\n",
       "      <th>s__Duganella_sp_Leaf126</th>\n",
       "      <td>C10</td>\n",
       "      <td>NA</td>\n",
       "    </tr>\n",
       "    <tr>\n",
       "      <th>s__Massilia_oculi</th>\n",
       "      <td>C10</td>\n",
       "      <td>NA</td>\n",
       "    </tr>\n",
       "    <tr>\n",
       "      <th>s__Massilia_timonae</th>\n",
       "      <td>C10</td>\n",
       "      <td>NA</td>\n",
       "    </tr>\n",
       "    <tr>\n",
       "      <th>s__Janthinobacterium_sp_64</th>\n",
       "      <td>C10</td>\n",
       "      <td>NA</td>\n",
       "    </tr>\n",
       "    <tr>\n",
       "      <th>...</th>\n",
       "      <td>...</td>\n",
       "      <td>...</td>\n",
       "    </tr>\n",
       "    <tr>\n",
       "      <th>s__Veillonella_atypica</th>\n",
       "      <td>S6_C3</td>\n",
       "      <td>S6</td>\n",
       "    </tr>\n",
       "    <tr>\n",
       "      <th>s__Veillonella_tobetsuensis</th>\n",
       "      <td>S6_C3</td>\n",
       "      <td>S6</td>\n",
       "    </tr>\n",
       "    <tr>\n",
       "      <th>s__Veillonella_infantium</th>\n",
       "      <td>S6_C3</td>\n",
       "      <td>S6</td>\n",
       "    </tr>\n",
       "    <tr>\n",
       "      <th>s__Veillonella_sp_T11011_6</th>\n",
       "      <td>S6_C3</td>\n",
       "      <td>S6</td>\n",
       "    </tr>\n",
       "    <tr>\n",
       "      <th>s__Veillonella_dispar</th>\n",
       "      <td>S6_C3</td>\n",
       "      <td>S6</td>\n",
       "    </tr>\n",
       "  </tbody>\n",
       "</table>\n",
       "<p>2008 rows × 2 columns</p>\n",
       "</div>"
      ],
      "text/plain": [
       "                            cluster supercluster\n",
       "species                                         \n",
       "s__Massilia_sp_LC238            C10           NA\n",
       "s__Duganella_sp_Leaf126         C10           NA\n",
       "s__Massilia_oculi               C10           NA\n",
       "s__Massilia_timonae             C10           NA\n",
       "s__Janthinobacterium_sp_64      C10           NA\n",
       "...                             ...          ...\n",
       "s__Veillonella_atypica        S6_C3           S6\n",
       "s__Veillonella_tobetsuensis   S6_C3           S6\n",
       "s__Veillonella_infantium      S6_C3           S6\n",
       "s__Veillonella_sp_T11011_6    S6_C3           S6\n",
       "s__Veillonella_dispar         S6_C3           S6\n",
       "\n",
       "[2008 rows x 2 columns]"
      ]
     },
     "execution_count": 4,
     "metadata": {},
     "output_type": "execute_result"
    }
   ],
   "source": [
    "cluster_df"
   ]
  },
  {
   "cell_type": "code",
   "execution_count": 5,
   "metadata": {},
   "outputs": [],
   "source": [
    "sclusters = set(cluster_df['supercluster'])"
   ]
  },
  {
   "cell_type": "code",
   "execution_count": 7,
   "metadata": {},
   "outputs": [],
   "source": [
    "super_d = pd.DataFrame(columns=['scluster', 'sp'])\n",
    "for sp in cluster_df.index:\n",
    "    if cluster_df.loc[sp, 'supercluster'] == 'NA':\n",
    "        continue\n",
    "    super_d.loc[super_d.shape[0], ] = [cluster_df.loc[sp, 'supercluster'], sp.replace('-', '_')]\n",
    "super_d.to_csv(os.path.join(outdir, 'super_species.tsv'), sep='\\t', index=False, header=False)"
   ]
  },
  {
   "cell_type": "code",
   "execution_count": 8,
   "metadata": {},
   "outputs": [],
   "source": [
    "completeness_d = pd.read_csv(os.path.join(outdir, 'genome_module.completeness.tsv'), sep='\\t', header=0, index_col=0)\n",
    "for scluter in sclusters:\n",
    "    species = cluster_df[cluster_df['supercluster'] == scluter].index\n",
    "    opath = os.path.join(outdir, scluter + '.cluster_species.tsv')\n",
    "    c_df = pd.DataFrame(columns=['cluster', 'sp'])\n",
    "    for sp in cluster_df[cluster_df['supercluster'] == scluter].index:\n",
    "        c_df.loc[c_df.shape[0], ] = [cluster_df.loc[sp, 'cluster'].replace('-', '_'), sp.replace('-', '_')]\n",
    "    sp_list = list(c_df['sp'])\n",
    "    part_completeness = completeness_d.loc[sp_list, :]\n",
    "    part_completeness.to_csv(os.path.join(outdir, scluter + '.genome_module.completeness.tsv'), sep='\\t', index=True, header=True)\n",
    "    c_df.to_csv(opath, sep='\\t', index=False, header=False)\n",
    "    "
   ]
  },
  {
   "cell_type": "code",
   "execution_count": 9,
   "metadata": {},
   "outputs": [
    {
     "data": {
      "text/plain": [
       "0"
      ]
     },
     "execution_count": 9,
     "metadata": {},
     "output_type": "execute_result"
    }
   ],
   "source": [
    "cmd = 'Rscript cluster_completeness_testing.R genome_module.completeness.tsv super_species.tsv super_cluster.module_comp.wilcox.testing.tsv {}'.format(outdir)\n",
    "os.system(cmd)"
   ]
  },
  {
   "cell_type": "code",
   "execution_count": 10,
   "metadata": {},
   "outputs": [],
   "source": [
    "for scluster in sclusters:\n",
    "    cmd = 'Rscript cluster_completeness_testing.R {}.genome_module.completeness.tsv {}.cluster_species.tsv {}.cluster.module_comp.wilcox.testing.tsv {}'.format(scluster, scluster, scluster, outdir)\n",
    "    os.system(cmd)\n"
   ]
  },
  {
   "cell_type": "code",
   "execution_count": null,
   "metadata": {},
   "outputs": [],
   "source": []
  }
 ],
 "metadata": {
  "kernelspec": {
   "display_name": "base",
   "language": "python",
   "name": "python3"
  },
  "language_info": {
   "codemirror_mode": {
    "name": "ipython",
    "version": 3
   },
   "file_extension": ".py",
   "mimetype": "text/x-python",
   "name": "python",
   "nbconvert_exporter": "python",
   "pygments_lexer": "ipython3",
   "version": "3.8.5"
  }
 },
 "nbformat": 4,
 "nbformat_minor": 2
}
