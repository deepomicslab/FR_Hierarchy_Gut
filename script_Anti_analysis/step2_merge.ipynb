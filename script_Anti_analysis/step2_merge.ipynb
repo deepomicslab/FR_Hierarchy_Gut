{
 "cells": [
  {
   "cell_type": "code",
   "execution_count": 1,
   "metadata": {},
   "outputs": [],
   "source": [
    "# merge and plot nFR and SE difference\n",
    "import pandas as pd\n",
    "import numpy as np\n",
    "import seaborn as sns\n",
    "import matplotlib.pyplot as plt\n",
    "\n",
    "nfr = pd.read_csv('../result/Anti/nFR/p_value.tsv', sep='\\t', index_col=0, header=0)\n",
    "se = pd.read_csv('../result/Anti/SE/p_value.tsv', sep='\\t', index_col=0, header=0)\n",
    "p_cutoff = 0.05\n"
   ]
  },
  {
   "cell_type": "code",
   "execution_count": 2,
   "metadata": {},
   "outputs": [],
   "source": [
    "nfr[nfr>=p_cutoff] = 2\n",
    "se[se>=p_cutoff] = 2\n",
    "\n",
    "nfr[nfr<0.05] = 1\n",
    "se[se<0.05] = 1\n",
    "\n",
    "nfr[nfr==2] = 0\n",
    "se[se==2] = 0\n"
   ]
  },
  {
   "cell_type": "code",
   "execution_count": 3,
   "metadata": {},
   "outputs": [],
   "source": [
    "\n",
    "nfr.dropna(how='all', inplace=True)\n",
    "se.dropna(how='all', inplace=True)\n",
    "\n",
    "new_ids = set(nfr.index).union(set(se.index))\n",
    "\n",
    "new_row = pd.DataFrame(columns=nfr.columns, index=list(new_ids.difference(set(nfr.index))))\n",
    "nfr = pd.concat([nfr, new_row], ignore_index=False)\n",
    "\n",
    "new_row = pd.DataFrame(columns=nfr.columns, index=list(new_ids.difference(set(se.index))))\n",
    "se = pd.concat([se, new_row], ignore_index=False)\n",
    "\n",
    "nfr.fillna(np.nan, inplace=True)\n",
    "se.fillna(np.nan, inplace=True)\n",
    "ids = sorted(list(new_ids))"
   ]
  },
  {
   "cell_type": "code",
   "execution_count": 4,
   "metadata": {},
   "outputs": [
    {
     "data": {
      "text/plain": [
       "<Figure size 2000x5000 with 0 Axes>"
      ]
     },
     "metadata": {},
     "output_type": "display_data"
    },
    {
     "data": {
      "image/png": "[encoded data removed]",
      "text/plain": [
       "<Figure size 640x480 with 2 Axes>"
      ]
     },
     "metadata": {
      "needs_background": "light"
     },
     "output_type": "display_data"
    }
   ],
   "source": [
    "plt.figure(figsize=(20, 50))\n",
    "fig, (ax1, ax2) = plt.subplots(1, 2, sharey=True)\n",
    "sns_plot = sns.heatmap(nfr.loc[ids, ], ax=ax1,square=True, linecolor='black', cbar=False, xticklabels=True, yticklabels=True, linewidths=1, cmap=\"coolwarm\", vmin=-1, center=0, vmax=1)\n",
    "sns_plot.tick_params(labelsize=8)\n",
    "ax1.set_title('nFR')\n",
    "ax1.set_yticklabels(ax1.get_yticklabels(), fontsize=5)\n",
    "sns_plot = sns.heatmap(se.loc[ids, ], ax=ax2, square=True, linecolor='black', cbar=False, xticklabels=True, yticklabels=True, linewidths=1, cmap=\"coolwarm\", vmin=-1, center=0, vmax=1)\n",
    "sns_plot.tick_params(labelsize=8)\n",
    "ax2.set_title('SE')\n",
    "fig.suptitle('p-value')\n",
    "plt.subplots_adjust(hspace=0.1)\n",
    "plt.tight_layout()\n",
    "plt.savefig('../result/Anti/p_value.pdf', dpi=300, format='pdf')\n",
    "plt.show()"
   ]
  },
  {
   "cell_type": "code",
   "execution_count": null,
   "metadata": {},
   "outputs": [],
   "source": []
  }
 ],
 "metadata": {
  "kernelspec": {
   "display_name": "meta_fr_win",
   "language": "python",
   "name": "python3"
  },
  "language_info": {
   "codemirror_mode": {
    "name": "ipython",
    "version": 3
   },
   "file_extension": ".py",
   "mimetype": "text/x-python",
   "name": "python",
   "nbconvert_exporter": "python",
   "pygments_lexer": "ipython3",
   "version": "3.8.20"
  }
 },
 "nbformat": 4,
 "nbformat_minor": 2
}
