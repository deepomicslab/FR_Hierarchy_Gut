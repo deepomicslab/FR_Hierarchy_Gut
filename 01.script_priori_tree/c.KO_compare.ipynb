{
 "cells": [
  {
   "cell_type": "markdown",
   "metadata": {},
   "source": [
    "#### Detect FRC/supercluster enriched/depleted KOs"
   ]
  },
  {
   "cell_type": "code",
   "execution_count": 1,
   "metadata": {},
   "outputs": [],
   "source": [
    "import pandas as pd\n",
    "gcn_df = pd.read_csv('../data/gcn2008.tsv', sep='\\t', index_col=0)\n",
    "cluster_df = pd.read_csv('../result/GCN_fix_tree/leaves_cluster.tsv', sep='\\t', index_col=0, header=0)\n",
    "cluster_df.fillna('NA', inplace=True)\n",
    "outdir = '../result/GCN_fix_tree'\n",
    "interested_cluster = 'S1_C8'\n"
   ]
  },
  {
   "cell_type": "code",
   "execution_count": 2,
   "metadata": {},
   "outputs": [
    {
     "name": "stdout",
     "output_type": "stream",
     "text": [
      "S1_C8 contains interested_species_count species.\n"
     ]
    }
   ],
   "source": [
    "interested_species = cluster_df.index[\n",
    "    (cluster_df['cluster'] == interested_cluster) | \n",
    "    (cluster_df['supercluster'] == interested_cluster)\n",
    "].tolist()\n",
    "\n",
    "interested_species_count = len(interested_species)\n",
    "print(f\"{interested_cluster} contains interested_species_count species.\")\n"
   ]
  },
  {
   "cell_type": "code",
   "execution_count": 3,
   "metadata": {},
   "outputs": [
    {
     "name": "stdout",
     "output_type": "stream",
     "text": [
      "KO occurrence statistics saved to: ../result/GCN_fix_tree/S1_C8.kos_summary.tsv\n"
     ]
    }
   ],
   "source": [
    "# Count the total number of species\n",
    "total_species_count = gcn_df.shape[0]\n",
    "\n",
    "# Calculate KO occurrence statistics for these species in gcn2008.tsv\n",
    "column_names = {\n",
    "    'KO': 'KO',\n",
    "    'interested_present': f'{interested_cluster} Present', \n",
    "    'interested_occurrence': f'{interested_cluster} Occurrence', \n",
    "    'all_present': 'All Present', \n",
    "    'all_occurrence': 'All Occurrence'\n",
    "}\n",
    "\n",
    "kos_df1 = pd.DataFrame(columns=list(column_names.values()))\n",
    "\n",
    "for ko in gcn_df.columns:\n",
    "    # Calculate presence rate and occurrence rate in the cluster of interest\n",
    "    ko_interested_present = (gcn_df.loc[interested_species, ko] > 0).sum() / interested_species_count\n",
    "    ko_interested_counts = gcn_df.loc[interested_species, ko].sum()\n",
    "    ko_interested_occurrence = ko_interested_counts / interested_species_count\n",
    "    \n",
    "    # Calculate presence rate and occurrence rate across all species\n",
    "    ko_all_present = (gcn_df[ko] > 0).sum() / total_species_count\n",
    "    ko_all_occurrence = gcn_df[ko].sum() / total_species_count\n",
    "    \n",
    "    # Create a new row\n",
    "    new_row = {\n",
    "        column_names['KO']: ko,\n",
    "        column_names['interested_present']: ko_interested_present,\n",
    "        column_names['interested_occurrence']: ko_interested_occurrence,\n",
    "        column_names['all_present']: ko_all_present,\n",
    "        column_names['all_occurrence']: ko_all_occurrence\n",
    "    }\n",
    "    \n",
    "    # Add to DataFrame\n",
    "    kos_df1 = pd.concat([kos_df1, pd.DataFrame([new_row])], ignore_index=True)\n",
    "\n",
    "# Sort by occurrence rate in the cluster of interest (descending)\n",
    "kos_df1 = kos_df1.sort_values(by=column_names['interested_occurrence'], ascending=False)\n",
    "\n",
    "# Output to file\n",
    "output_file1 = f'{outdir}/{interested_cluster}.kos_summary.tsv'\n",
    "kos_df1.to_csv(output_file1, sep='\\t', index=False)\n",
    "print(f\"KO occurrence statistics saved to: {output_file1}\")\n"
   ]
  },
  {
   "cell_type": "code",
   "execution_count": 4,
   "metadata": {},
   "outputs": [
    {
     "name": "stdout",
     "output_type": "stream",
     "text": [
      "Fisher's exact test results saved to: ../result/GCN_fix_tree/S1_C8.kos_fisher.tsv\n"
     ]
    }
   ],
   "source": [
    "# Fisher's exact test analysis\n",
    "from scipy.stats import fisher_exact\n",
    "from statsmodels.stats.multitest import fdrcorrection\n",
    "\n",
    "# Create result DataFrame\n",
    "column_names2 = {\n",
    "    'KO': 'KO',\n",
    "    'interested_present': f'{interested_cluster} Present',\n",
    "    'interested_absent': f'{interested_cluster} Absent',\n",
    "    'non_interested_present': f'Non {interested_cluster} Present',\n",
    "    'non_interested_absent': f'Non {interested_cluster} Absent',\n",
    "    'odds_ratio': 'Odds Ratio',\n",
    "    'pvalue': 'P-value',\n",
    "    'adjusted_pvalue': 'Adjusted P-value'\n",
    "}\n",
    "\n",
    "kos_df2 = pd.DataFrame(columns=list(column_names2.values()))\n",
    "pvalues = []\n",
    "\n",
    "for ko in gcn_df.columns:\n",
    "    # Count species in the cluster of interest with and without this KO\n",
    "    ko_interested_present = (gcn_df.loc[interested_species, ko] > 0).sum()\n",
    "    ko_interested_absent = interested_species_count - ko_interested_present\n",
    "    \n",
    "    # Count species not in the cluster of interest with and without this KO\n",
    "    ko_non_interested_present = (gcn_df.loc[~gcn_df.index.isin(interested_species), ko] > 0).sum()\n",
    "    ko_non_interested_absent = total_species_count - interested_species_count - ko_non_interested_present\n",
    "    \n",
    "    # Perform Fisher's exact test\n",
    "    contingency_table = [\n",
    "        [ko_interested_present, ko_interested_absent], \n",
    "        [ko_non_interested_present, ko_non_interested_absent]\n",
    "    ]\n",
    "    oddsratio, pvalue = fisher_exact(contingency_table, alternative='two-sided')\n",
    "    pvalues.append(pvalue)\n",
    "    \n",
    "    # Create a new row\n",
    "    new_row = {\n",
    "        column_names2['KO']: ko,\n",
    "        column_names2['interested_present']: ko_interested_present,\n",
    "        column_names2['interested_absent']: ko_interested_absent,\n",
    "        column_names2['non_interested_present']: ko_non_interested_present,\n",
    "        column_names2['non_interested_absent']: ko_non_interested_absent,\n",
    "        column_names2['odds_ratio']: oddsratio,\n",
    "        column_names2['pvalue']: pvalue\n",
    "    }\n",
    "    \n",
    "    # Add to DataFrame\n",
    "    kos_df2 = pd.concat([kos_df2, pd.DataFrame([new_row])], ignore_index=True)\n",
    "\n",
    "# Apply FDR correction to p-values\n",
    "_, adjusted_pvalues = fdrcorrection(pvalues, alpha=0.05, method='indep')\n",
    "kos_df2[column_names2['adjusted_pvalue']] = adjusted_pvalues\n",
    "\n",
    "# Sort by adjusted p-value (ascending)\n",
    "kos_df2 = kos_df2.sort_values(by=column_names2['adjusted_pvalue'], ascending=True)\n",
    "\n",
    "# Output to file\n",
    "\n",
    "output_file2 = f'{outdir}/{interested_cluster}.kos_fisher.tsv'\n",
    "kos_df2.to_csv(output_file2, sep='\\t', index=False)\n",
    "print(f\"Fisher's exact test results saved to: {output_file2}\")\n"
   ]
  },
  {
   "cell_type": "code",
   "execution_count": 5,
   "metadata": {},
   "outputs": [
    {
     "name": "stdout",
     "output_type": "stream",
     "text": [
      "\n",
      "Analysis Summary:\n",
      "After statistical filtering (adjusted p-value < 0.05, odds ratio > 2 or < 0.5):\n",
      "- Found 281 significantly enriched KOs (odds ratio > 2)\n",
      "- Found 1388 significantly depleted KOs (odds ratio < 0.5)\n",
      "- Total 1669 differentially abundant KOs\n"
     ]
    }
   ],
   "source": [
    "# Identify significantly enriched and depleted KOs\n",
    "enriched_kos = kos_df2[(kos_df2[column_names2['adjusted_pvalue']] < 0.05) & \n",
    "                       (kos_df2[column_names2['odds_ratio']] > 2)]\n",
    "\n",
    "depleted_kos = kos_df2[(kos_df2[column_names2['adjusted_pvalue']] < 0.05) & \n",
    "                       (kos_df2[column_names2['odds_ratio']] < 0.5)]  # 0.5 = 1/2\n",
    "\n",
    "# Print comprehensive statistics summary\n",
    "print(f\"\\nAnalysis Summary:\")\n",
    "print(f\"After statistical filtering (adjusted p-value < 0.05, odds ratio > 2 or < 0.5):\")\n",
    "print(f\"- Found {len(enriched_kos)} significantly enriched KOs (odds ratio > 2)\")\n",
    "print(f\"- Found {len(depleted_kos)} significantly depleted KOs (odds ratio < 0.5)\")\n",
    "print(f\"- Total {len(enriched_kos) + len(depleted_kos)} differentially abundant KOs\")"
   ]
  },
  {
   "cell_type": "code",
   "execution_count": null,
   "metadata": {},
   "outputs": [],
   "source": []
  }
 ],
 "metadata": {
  "kernelspec": {
   "display_name": "meta_fr_r",
   "language": "python",
   "name": "python3"
  },
  "language_info": {
   "codemirror_mode": {
    "name": "ipython",
    "version": 3
   },
   "file_extension": ".py",
   "mimetype": "text/x-python",
   "name": "python",
   "nbconvert_exporter": "python",
   "pygments_lexer": "ipython3",
   "version": "3.8.20"
  }
 },
 "nbformat": 4,
 "nbformat_minor": 2
}
