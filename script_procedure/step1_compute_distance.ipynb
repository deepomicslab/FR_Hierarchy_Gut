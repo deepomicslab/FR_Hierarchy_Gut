{
 "cells": [
  {
   "cell_type": "markdown",
   "metadata": {},
   "source": [
    "This script computes the distance matrix for the GCN2008"
   ]
  },
  {
   "cell_type": "code",
   "execution_count": 1,
   "metadata": {},
   "outputs": [],
   "source": [
    "# This script computes the distance matrix for the GCN2008\n",
    "import sys\n",
    "sys.path.append('..')\n",
    "import GCN\n",
    "\n",
    "ori_GCN = GCN.input_GCN('../data/gcn2008.tsv', transfer=True)\n",
    "sp_d = GCN.sp_d(ori_GCN)\n",
    "sp_d.to_csv('../data/sp_d.tsv', sep='\\t')\n"
   ]
  }
 ],
 "metadata": {
  "kernelspec": {
   "display_name": "meta_fr",
   "language": "python",
   "name": "python3"
  },
  "language_info": {
   "codemirror_mode": {
    "name": "ipython",
    "version": 3
   },
   "file_extension": ".py",
   "mimetype": "text/x-python",
   "name": "python",
   "nbconvert_exporter": "python",
   "pygments_lexer": "ipython3",
   "version": "3.8.20"
  },
  "orig_nbformat": 4
 },
 "nbformat": 4,
 "nbformat_minor": 2
}
