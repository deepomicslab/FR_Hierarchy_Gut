{
 "cells": [
  {
   "cell_type": "code",
   "execution_count": 1,
   "metadata": {},
   "outputs": [],
   "source": [
    "# this is the pipeline of phenotype analysis\n",
    "import sys\n",
    "sys.path.append('..')\n",
    "import analysis\n",
    "import abd_profile\n",
    "import os\n",
    "import pandas as pd\n",
    "import GCN\n",
    "import copy\n",
    "\n",
    "def main(indir, outdir, GCN_df, d_df, params):\n",
    "    #input dir: including metadata.tsv and abd.tsv\n",
    "    # output result to dir\n",
    "    abd_path = os.path.join(indir, 'abd.tsv')\n",
    "    metadata_path = os.path.join(indir, 'metadata.tsv')\n",
    "\n",
    "    sp_outdir = os.path.join(outdir, 'sp')\n",
    "    if not os.path.exists(sp_outdir):\n",
    "        os.makedirs(sp_outdir)\n",
    "\n",
    "    # first process data from gutmeta\n",
    "    raw_profile = abd_profile.input_profile(abd_path, transfer=True)\n",
    "    metadata = pd.read_csv(metadata_path, sep='\\t', header=0)\n",
    "    selected_raw_profile = raw_profile.loc[list(metadata['sample_id']), :]\n",
    "    crc_profile = abd_profile.check(selected_raw_profile, GCN_df)\n",
    "\n",
    "    # classify according to the metadata\n",
    "    pheno_list = {}\n",
    "    pheno_profiles = {}\n",
    "    for i in range(metadata.shape[0]):\n",
    "        pheno = metadata.loc[i, 'disease']\n",
    "        if pheno not in pheno_list.keys():\n",
    "            pheno_list[pheno] = []\n",
    "        if metadata.loc[i, 'sample_id'] in list(crc_profile.index):\n",
    "            pheno_list[pheno].append(metadata.loc[i, 'sample_id'])\n",
    "\n",
    "    for c, clist in pheno_list.items():\n",
    "        pheno_profiles[c] = copy.deepcopy(crc_profile.loc[clist, :])\n",
    "\n",
    "    print(\"phenotypes: {}\".format(list(pheno_profiles.keys())))\n",
    "    # seperate by enterotypes\n",
    "\n",
    "    analysis.main(GCN_df, crc_profile, sp_outdir, params, d_df, pheno_profiles)"
   ]
  },
  {
   "cell_type": "code",
   "execution_count": 2,
   "metadata": {},
   "outputs": [],
   "source": [
    "\n",
    "GCN_df = GCN.input_GCN('../data/gcn2008.tsv', transfer=True)\n",
    "d_df = pd.read_csv('../data/sp_d.tsv', sep='\\t', header=0, index_col=0)\n"
   ]
  },
  {
   "cell_type": "code",
   "execution_count": 3,
   "metadata": {},
   "outputs": [],
   "source": [
    "def run(projects_dir, result_dir):\n",
    "    params = {\n",
    "        'sample cluster': 'enterotype', # 'enterotype', # can be 'seat'\n",
    "        'max_cluster': 10,\n",
    "        'max_depth': 6\n",
    "    }\n",
    "    for dir in os.listdir(projects_dir):\n",
    "        outdir = os.path.join(result_dir, dir)\n",
    "        indir = os.path.join(projects_dir, dir)\n",
    "        main(indir, outdir, GCN_df, d_df, params)"
   ]
  },
  {
   "cell_type": "code",
   "execution_count": 4,
   "metadata": {},
   "outputs": [
    {
     "name": "stdout",
     "output_type": "stream",
     "text": [
      "different sp: {'s__Blastocystis_sp_subtype_1', 's__Saccharomyces_cerevisiae'}\n",
      "!!!difference species are deleted\n",
      "phenotypes: ['ACVD', 'Health']\n",
      "different sp: {'s__Blastocystis_sp_subtype_1'}\n",
      "!!!difference species are deleted\n",
      "phenotypes: ['Health', 'BD']\n",
      "phenotypes: ['Health', 'CRC']\n",
      "different sp: {'s__Blastocystis_sp_subtype_1'}\n",
      "!!!difference species are deleted\n",
      "phenotypes: ['CRC', 'Health']\n",
      "different sp: {'s__Blastocystis_sp_subtype_1', 's__Saccharomyces_cerevisiae'}\n",
      "!!!difference species are deleted\n",
      "phenotypes: ['Health', 'CRC']\n",
      "different sp: {'s__Saccharomyces_cerevisiae'}\n",
      "!!!difference species are deleted\n",
      "phenotypes: ['CRC', 'Health']\n",
      "different sp: {'s__Blastocystis_sp_subtype_1', 's__Saccharomyces_cerevisiae'}\n",
      "!!!difference species are deleted\n",
      "phenotypes: ['Health', 'CRC']\n",
      "different sp: {'s__Candida_albicans', 's__Candida_tropicalis', 's__Saccharomyces_cerevisiae'}\n",
      "!!!difference species are deleted\n",
      "phenotypes: ['Health', 'CRC']\n",
      "different sp: {'s__Blastocystis_sp_subtype_1', 's__Saccharomyces_cerevisiae'}\n",
      "!!!difference species are deleted\n",
      "phenotypes: ['CRC', 'Health']\n",
      "different sp: {'s__Blastocystis_sp_subtype_1', 's__Saccharomyces_cerevisiae'}\n",
      "!!!difference species are deleted\n",
      "phenotypes: ['CRC', 'Health']\n",
      "different sp: {'s__Malassezia_restricta', 's__Blastocystis_sp_subtype_1', 's__Saccharomyces_cerevisiae'}\n",
      "!!!difference species are deleted\n",
      "phenotypes: ['CRC', 'Health']\n",
      "different sp: {'s__Entamoeba_histolytica', 's__Entamoeba_dispar', 's__Blastocystis_sp_subtype_1', 's__Saccharomyces_cerevisiae'}\n",
      "!!!difference species are deleted\n",
      "phenotypes: ['Health', 'IBD']\n",
      "phenotypes: ['IBD', 'Health']\n",
      "different sp: {'s__Blastocystis_sp_subtype_1', 's__Saccharomyces_cerevisiae'}\n",
      "!!!difference species are deleted\n",
      "phenotypes: ['IBD', 'Health']\n",
      "different sp: {'s__Blastocystis_sp_subtype_1', 's__Saccharomyces_cerevisiae'}\n",
      "!!!difference species are deleted\n",
      "phenotypes: ['IGT', 'Health']\n",
      "different sp: {'s__Saccharomyces_cerevisiae'}\n",
      "!!!difference species are deleted\n",
      "phenotypes: ['IGT', 'Health']\n",
      "different sp: {'s__Blastocystis_sp_subtype_1', 's__Saccharomyces_cerevisiae'}\n",
      "!!!difference species are deleted\n",
      "phenotypes: ['Health', 'CFS']\n",
      "different sp: {'s__Blastocystis_sp_subtype_1', 's__Aspergillus_cristatus', 's__Saccharomyces_cerevisiae'}\n",
      "!!!difference species are deleted\n",
      "phenotypes: ['STH', 'Health']\n",
      "different sp: {'s__Blastocystis_sp_subtype_1', 's__Saccharomyces_cerevisiae'}\n",
      "!!!difference species are deleted\n",
      "phenotypes: ['Health', 'T2D']\n",
      "different sp: {'s__Blastocystis_sp_subtype_1'}\n",
      "!!!difference species are deleted\n",
      "phenotypes: ['Health', 'T2D']\n",
      "phenotypes: ['adenoma', 'Health']\n",
      "different sp: {'s__Candida_albicans', 's__Candida_tropicalis', 's__Saccharomyces_cerevisiae'}\n",
      "!!!difference species are deleted\n",
      "phenotypes: ['Health', 'adenoma']\n",
      "different sp: {'s__Blastocystis_sp_subtype_1', 's__Saccharomyces_cerevisiae'}\n",
      "!!!difference species are deleted\n",
      "phenotypes: ['Health', 'adenoma']\n",
      "different sp: {'s__Candida_albicans', 's__Blastocystis_sp_subtype_1', 's__Saccharomyces_cerevisiae'}\n",
      "!!!difference species are deleted\n",
      "phenotypes: ['Health', 'asthma']\n",
      "different sp: {'s__Blastocystis_sp_subtype_1', 's__Saccharomyces_cerevisiae'}\n",
      "!!!difference species are deleted\n",
      "phenotypes: ['Health', 'carcinoma_surgery_history']\n",
      "different sp: {'s__Blastocystis_sp_subtype_1'}\n",
      "!!!difference species are deleted\n",
      "phenotypes: ['Health', 'hypertension']\n",
      "different sp: {'s__Candida_albicans', 's__Blastocystis_sp_subtype_1', 's__Saccharomyces_cerevisiae'}\n",
      "!!!difference species are deleted\n",
      "phenotypes: ['Health', 'migraine']\n",
      "different sp: {'s__Saccharomyces_cerevisiae'}\n",
      "!!!difference species are deleted\n",
      "phenotypes: ['Health', 'schizofrenia']\n"
     ]
    },
    {
     "data": {
      "text/plain": [
       "<Figure size 1296x1080 with 0 Axes>"
      ]
     },
     "metadata": {},
     "output_type": "display_data"
    },
    {
     "data": {
      "text/plain": [
       "<Figure size 1296x1080 with 0 Axes>"
      ]
     },
     "metadata": {},
     "output_type": "display_data"
    },
    {
     "data": {
      "text/plain": [
       "<Figure size 1296x1080 with 0 Axes>"
      ]
     },
     "metadata": {},
     "output_type": "display_data"
    },
    {
     "data": {
      "text/plain": [
       "<Figure size 1296x1080 with 0 Axes>"
      ]
     },
     "metadata": {},
     "output_type": "display_data"
    },
    {
     "data": {
      "text/plain": [
       "<Figure size 1296x1080 with 0 Axes>"
      ]
     },
     "metadata": {},
     "output_type": "display_data"
    },
    {
     "data": {
      "text/plain": [
       "<Figure size 1296x1080 with 0 Axes>"
      ]
     },
     "metadata": {},
     "output_type": "display_data"
    },
    {
     "data": {
      "text/plain": [
       "<Figure size 1296x1080 with 0 Axes>"
      ]
     },
     "metadata": {},
     "output_type": "display_data"
    },
    {
     "data": {
      "text/plain": [
       "<Figure size 1296x1080 with 0 Axes>"
      ]
     },
     "metadata": {},
     "output_type": "display_data"
    },
    {
     "data": {
      "text/plain": [
       "<Figure size 1296x1080 with 0 Axes>"
      ]
     },
     "metadata": {},
     "output_type": "display_data"
    },
    {
     "data": {
      "text/plain": [
       "<Figure size 1296x1080 with 0 Axes>"
      ]
     },
     "metadata": {},
     "output_type": "display_data"
    },
    {
     "data": {
      "text/plain": [
       "<Figure size 1296x1080 with 0 Axes>"
      ]
     },
     "metadata": {},
     "output_type": "display_data"
    },
    {
     "data": {
      "text/plain": [
       "<Figure size 1296x1080 with 0 Axes>"
      ]
     },
     "metadata": {},
     "output_type": "display_data"
    },
    {
     "data": {
      "text/plain": [
       "<Figure size 1296x1080 with 0 Axes>"
      ]
     },
     "metadata": {},
     "output_type": "display_data"
    },
    {
     "data": {
      "text/plain": [
       "<Figure size 1296x1080 with 0 Axes>"
      ]
     },
     "metadata": {},
     "output_type": "display_data"
    },
    {
     "data": {
      "text/plain": [
       "<Figure size 1296x1080 with 0 Axes>"
      ]
     },
     "metadata": {},
     "output_type": "display_data"
    },
    {
     "data": {
      "text/plain": [
       "<Figure size 1296x1080 with 0 Axes>"
      ]
     },
     "metadata": {},
     "output_type": "display_data"
    },
    {
     "data": {
      "text/plain": [
       "<Figure size 1296x1080 with 0 Axes>"
      ]
     },
     "metadata": {},
     "output_type": "display_data"
    },
    {
     "data": {
      "text/plain": [
       "<Figure size 1296x1080 with 0 Axes>"
      ]
     },
     "metadata": {},
     "output_type": "display_data"
    },
    {
     "data": {
      "text/plain": [
       "<Figure size 1296x1080 with 0 Axes>"
      ]
     },
     "metadata": {},
     "output_type": "display_data"
    },
    {
     "data": {
      "text/plain": [
       "<Figure size 1296x1080 with 0 Axes>"
      ]
     },
     "metadata": {},
     "output_type": "display_data"
    },
    {
     "data": {
      "text/plain": [
       "<Figure size 1296x1080 with 0 Axes>"
      ]
     },
     "metadata": {},
     "output_type": "display_data"
    },
    {
     "data": {
      "text/plain": [
       "<Figure size 1296x1080 with 0 Axes>"
      ]
     },
     "metadata": {},
     "output_type": "display_data"
    },
    {
     "data": {
      "text/plain": [
       "<Figure size 1296x1080 with 0 Axes>"
      ]
     },
     "metadata": {},
     "output_type": "display_data"
    },
    {
     "data": {
      "text/plain": [
       "<Figure size 1296x1080 with 0 Axes>"
      ]
     },
     "metadata": {},
     "output_type": "display_data"
    },
    {
     "data": {
      "text/plain": [
       "<Figure size 1296x1080 with 0 Axes>"
      ]
     },
     "metadata": {},
     "output_type": "display_data"
    },
    {
     "data": {
      "text/plain": [
       "<Figure size 1296x1080 with 0 Axes>"
      ]
     },
     "metadata": {},
     "output_type": "display_data"
    },
    {
     "data": {
      "text/plain": [
       "<Figure size 1296x1080 with 0 Axes>"
      ]
     },
     "metadata": {},
     "output_type": "display_data"
    },
    {
     "data": {
      "text/plain": [
       "<Figure size 1296x1080 with 0 Axes>"
      ]
     },
     "metadata": {},
     "output_type": "display_data"
    },
    {
     "data": {
      "text/plain": [
       "<Figure size 1296x1080 with 0 Axes>"
      ]
     },
     "metadata": {},
     "output_type": "display_data"
    },
    {
     "data": {
      "text/plain": [
       "<Figure size 1296x1080 with 0 Axes>"
      ]
     },
     "metadata": {},
     "output_type": "display_data"
    },
    {
     "data": {
      "text/plain": [
       "<Figure size 1296x1080 with 0 Axes>"
      ]
     },
     "metadata": {},
     "output_type": "display_data"
    },
    {
     "data": {
      "text/plain": [
       "<Figure size 1296x1080 with 0 Axes>"
      ]
     },
     "metadata": {},
     "output_type": "display_data"
    },
    {
     "data": {
      "text/plain": [
       "<Figure size 1296x1080 with 0 Axes>"
      ]
     },
     "metadata": {},
     "output_type": "display_data"
    },
    {
     "data": {
      "text/plain": [
       "<Figure size 1296x1080 with 0 Axes>"
      ]
     },
     "metadata": {},
     "output_type": "display_data"
    },
    {
     "data": {
      "text/plain": [
       "<Figure size 1296x1080 with 0 Axes>"
      ]
     },
     "metadata": {},
     "output_type": "display_data"
    },
    {
     "data": {
      "text/plain": [
       "<Figure size 1296x1080 with 0 Axes>"
      ]
     },
     "metadata": {},
     "output_type": "display_data"
    },
    {
     "data": {
      "text/plain": [
       "<Figure size 1296x1080 with 0 Axes>"
      ]
     },
     "metadata": {},
     "output_type": "display_data"
    },
    {
     "data": {
      "text/plain": [
       "<Figure size 1296x1080 with 0 Axes>"
      ]
     },
     "metadata": {},
     "output_type": "display_data"
    },
    {
     "data": {
      "text/plain": [
       "<Figure size 1296x1080 with 0 Axes>"
      ]
     },
     "metadata": {},
     "output_type": "display_data"
    },
    {
     "data": {
      "text/plain": [
       "<Figure size 1296x1080 with 0 Axes>"
      ]
     },
     "metadata": {},
     "output_type": "display_data"
    },
    {
     "data": {
      "text/plain": [
       "<Figure size 1296x1080 with 0 Axes>"
      ]
     },
     "metadata": {},
     "output_type": "display_data"
    },
    {
     "data": {
      "text/plain": [
       "<Figure size 1296x1080 with 0 Axes>"
      ]
     },
     "metadata": {},
     "output_type": "display_data"
    },
    {
     "data": {
      "text/plain": [
       "<Figure size 1296x1080 with 0 Axes>"
      ]
     },
     "metadata": {},
     "output_type": "display_data"
    },
    {
     "data": {
      "text/plain": [
       "<Figure size 1296x1080 with 0 Axes>"
      ]
     },
     "metadata": {},
     "output_type": "display_data"
    },
    {
     "data": {
      "text/plain": [
       "<Figure size 1296x1080 with 0 Axes>"
      ]
     },
     "metadata": {},
     "output_type": "display_data"
    },
    {
     "data": {
      "text/plain": [
       "<Figure size 1296x1080 with 0 Axes>"
      ]
     },
     "metadata": {},
     "output_type": "display_data"
    },
    {
     "data": {
      "text/plain": [
       "<Figure size 1296x1080 with 0 Axes>"
      ]
     },
     "metadata": {},
     "output_type": "display_data"
    },
    {
     "data": {
      "text/plain": [
       "<Figure size 1296x1080 with 0 Axes>"
      ]
     },
     "metadata": {},
     "output_type": "display_data"
    },
    {
     "data": {
      "text/plain": [
       "<Figure size 1296x1080 with 0 Axes>"
      ]
     },
     "metadata": {},
     "output_type": "display_data"
    },
    {
     "data": {
      "text/plain": [
       "<Figure size 1296x1080 with 0 Axes>"
      ]
     },
     "metadata": {},
     "output_type": "display_data"
    },
    {
     "data": {
      "text/plain": [
       "<Figure size 1296x1080 with 0 Axes>"
      ]
     },
     "metadata": {},
     "output_type": "display_data"
    },
    {
     "data": {
      "text/plain": [
       "<Figure size 1296x1080 with 0 Axes>"
      ]
     },
     "metadata": {},
     "output_type": "display_data"
    },
    {
     "data": {
      "text/plain": [
       "<Figure size 1296x1080 with 0 Axes>"
      ]
     },
     "metadata": {},
     "output_type": "display_data"
    },
    {
     "data": {
      "text/plain": [
       "<Figure size 1296x1080 with 0 Axes>"
      ]
     },
     "metadata": {},
     "output_type": "display_data"
    },
    {
     "data": {
      "text/plain": [
       "<Figure size 1296x1080 with 0 Axes>"
      ]
     },
     "metadata": {},
     "output_type": "display_data"
    },
    {
     "data": {
      "text/plain": [
       "<Figure size 1296x1080 with 0 Axes>"
      ]
     },
     "metadata": {},
     "output_type": "display_data"
    }
   ],
   "source": [
    "plist = ['ACVD',\n",
    " 'BD',\n",
    " 'CRC',\n",
    " 'IBD',\n",
    " 'IGT',\n",
    " 'CFS',\n",
    " 'STH',\n",
    " 'T2D',\n",
    " 'adenoma',\n",
    " 'asthma',\n",
    " 'carcinoma_surgery_history',\n",
    " 'hypertension',\n",
    " 'migraine',\n",
    " 'schizofrenia']\n",
    "\n",
    "for pheno in plist:\n",
    "    projects_dir = os.path.join('../data', pheno)\n",
    "    result_dir = os.path.join('../result/pheno_result', pheno)\n",
    "    run(projects_dir, result_dir)\n"
   ]
  }
 ],
 "metadata": {
  "kernelspec": {
   "display_name": "base",
   "language": "python",
   "name": "python3"
  },
  "language_info": {
   "codemirror_mode": {
    "name": "ipython",
    "version": 3
   },
   "file_extension": ".py",
   "mimetype": "text/x-python",
   "name": "python",
   "nbconvert_exporter": "python",
   "pygments_lexer": "ipython3",
   "version": "3.8.5"
  },
  "orig_nbformat": 4
 },
 "nbformat": 4,
 "nbformat_minor": 2
}
