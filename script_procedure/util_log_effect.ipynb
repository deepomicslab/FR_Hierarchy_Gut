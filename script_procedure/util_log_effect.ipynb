{
 "cells": [
  {
   "cell_type": "code",
   "execution_count": 1,
   "metadata": {},
   "outputs": [],
   "source": [
    "# this is the pipeline of phenotype analysis\n",
    "import sys\n",
    "sys.path.append('..')\n",
    "import os\n",
    "import pandas as pd\n",
    "import GCN\n",
    "import copy\n",
    "import vis_function as vf\n",
    "import FR\n",
    "import abd_profile\n",
    "import warnings"
   ]
  },
  {
   "cell_type": "code",
   "execution_count": 5,
   "metadata": {},
   "outputs": [],
   "source": [
    "# avoid log warning\n",
    "warnings.filterwarnings('ignore')\n",
    "\n",
    "ori_profile = abd_profile.input_profile('../data/CRC/CRC1/abd.tsv' , transfer=True)\n",
    "metadata = pd.read_csv('../data/CRC/CRC1/metadata.tsv', sep='\\t', header=0)\n",
    "selected_raw_profile = ori_profile.loc[list(metadata['sample_id']), :]\n",
    "GCN_df = GCN.input_GCN('../data/gcn2008.tsv', transfer=True)\n",
    "crc_profile = abd_profile.check(selected_raw_profile, GCN_df)\n",
    "# load the distance\n",
    "d_df = pd.read_csv('../data/sp_d.tsv', sep='\\t', header=0, index_col=0)\n"
   ]
  },
  {
   "cell_type": "code",
   "execution_count": 6,
   "metadata": {},
   "outputs": [
    {
     "data": {
      "image/png": "[encoded data removed]",
      "text/plain": [
       "<Figure size 432x288 with 1 Axes>"
      ]
     },
     "metadata": {
      "needs_background": "light"
     },
     "output_type": "display_data"
    }
   ],
   "source": [
    "cfr, log_max, log_min = FR.fr_df_without_log(crc_profile, d_df)\n",
    "vf.fr_frequency(cfr.values, 'Distribution of CFR')"
   ]
  },
  {
   "cell_type": "code",
   "execution_count": 7,
   "metadata": {},
   "outputs": [
    {
     "data": {
      "image/png": "[encoded data removed]",
      "text/plain": [
       "<Figure size 432x288 with 1 Axes>"
      ]
     },
     "metadata": {
      "needs_background": "light"
     },
     "output_type": "display_data"
    }
   ],
   "source": [
    "lcfr, log_max, log_min = FR.fr_df(crc_profile, d_df)\n",
    "vf.fr_frequency(lcfr.values, 'Distribution of lCFR')\n"
   ]
  },
  {
   "cell_type": "code",
   "execution_count": null,
   "metadata": {},
   "outputs": [],
   "source": []
  }
 ],
 "metadata": {
  "kernelspec": {
   "display_name": "base",
   "language": "python",
   "name": "python3"
  },
  "language_info": {
   "codemirror_mode": {
    "name": "ipython",
    "version": 3
   },
   "file_extension": ".py",
   "mimetype": "text/x-python",
   "name": "python",
   "nbconvert_exporter": "python",
   "pygments_lexer": "ipython3",
   "version": "3.8.5"
  }
 },
 "nbformat": 4,
 "nbformat_minor": 2
}
