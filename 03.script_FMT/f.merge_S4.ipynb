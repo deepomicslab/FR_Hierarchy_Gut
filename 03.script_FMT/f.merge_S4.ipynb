{
 "cells": [
  {
   "cell_type": "markdown",
   "id": "1141b50c",
   "metadata": {},
   "source": [
    "This script merge SE and nFR regression result to form the table in supplementary."
   ]
  },
  {
   "cell_type": "code",
   "execution_count": 9,
   "id": "3c8c9ab8",
   "metadata": {},
   "outputs": [],
   "source": [
    "import pandas as pd\n",
    "import os\n",
    "\n",
    "indir = '../result/FMT'\n",
    "\n",
    "df = pd.DataFrame(columns=['cluster', 'cohort', 'type', 'F-pvalue',\n",
    "                           'nfr/se_co', 't_co', 'const_co',\n",
    "                           'nfr/se_p', 't_p', 'const_p'])\n",
    "\n",
    "\n",
    "input_dir = ['nFR', 'SE']\n",
    "for dtype in input_dir:\n",
    "    if dtype == 'nFR':\n",
    "        co_header = 'nfr_co'\n",
    "    else:\n",
    "        co_header = 'se_co'\n",
    "\n",
    "    if dtype == 'nFR':\n",
    "        p_header = 'nfr_p'\n",
    "    else:\n",
    "        p_header = 'se_p'\n",
    "    idir = os.path.join(indir, dtype)\n",
    "    \n",
    "        \n",
    "    for cohort in os.listdir(idir):\n",
    "        cidir = os.path.join(idir, cohort)\n",
    "        p_df = pd.read_csv(os.path.join(cidir, 'p_values.tsv'), sep='\\t', header=0, index_col=0)\n",
    "        for cluster in p_df.index:\n",
    "            idx = len(df)\n",
    "            df.loc[idx] = [cluster, cohort, dtype,\n",
    "                        p_df.loc[cluster, 'F-pvalue'],\n",
    "                        p_df.loc[cluster, co_header],\n",
    "                        p_df.loc[cluster, 't_co'],\n",
    "                        p_df.loc[cluster, 'const_co'],\n",
    "                        p_df.loc[cluster, p_header],\n",
    "                        p_df.loc[cluster, 't_p'],\n",
    "                        p_df.loc[cluster, 'const_p']]\n",
    "df.to_csv(os.path.join(indir, 'supp_FMT.tsv'), sep='\\t', index=False)"
   ]
  }
 ],
 "metadata": {
  "kernelspec": {
   "display_name": "meta_fr_r",
   "language": "python",
   "name": "python3"
  },
  "language_info": {
   "codemirror_mode": {
    "name": "ipython",
    "version": 3
   },
   "file_extension": ".py",
   "mimetype": "text/x-python",
   "name": "python",
   "nbconvert_exporter": "python",
   "pygments_lexer": "ipython3",
   "version": "3.8.20"
  }
 },
 "nbformat": 4,
 "nbformat_minor": 5
}
