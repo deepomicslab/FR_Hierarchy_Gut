{
 "cells": [
  {
   "cell_type": "code",
   "execution_count": 1,
   "metadata": {},
   "outputs": [],
   "source": [
    "import os\n",
    "plist = ['ACVD',\n",
    " 'BD',\n",
    " 'CRC',\n",
    " 'IBD',\n",
    " 'IGT',\n",
    " 'CFS',\n",
    " 'STH',\n",
    " 'T2D',\n",
    " 'adenoma',\n",
    " 'asthma',\n",
    " 'carcinoma_surgery_history',\n",
    " 'hypertension',\n",
    " 'migraine',\n",
    " 'schizofrenia']\n",
    "outer = '../data'\n",
    "\n",
    "outdir = '../result/eigen'\n",
    "if not os.path.exists(outdir):\n",
    "    os.makedirs(outdir)\n",
    "for p in plist:\n",
    "    for cohort in os.listdir(os.path.join(outer, p)):\n",
    "        prefix = os.path.join(outdir, cohort)\n",
    "        os.system('python run_eigenspecies_COHORT.py --pheno {} --prefix {} --oprefix {}'.format(p, cohort, prefix))\n",
    "        os.system('python run_presev.py --n1 {}.health --n2 {}.disease'.format(prefix, prefix))\n",
    "\n",
    "        os.system('Rscript run_preservation_COHORT.R {}.health {}.disease {}'.format(cohort, cohort, outdir))\n",
    "\n",
    "        os.system('python run_eigenspecies_together_COHORT.py  --pheno {} --prefix {} --oprefix {}'.format(p, cohort, prefix))"
   ]
  },
  {
   "cell_type": "code",
   "execution_count": null,
   "metadata": {},
   "outputs": [],
   "source": []
  }
 ],
 "metadata": {
  "kernelspec": {
   "display_name": "base",
   "language": "python",
   "name": "python3"
  },
  "language_info": {
   "codemirror_mode": {
    "name": "ipython",
    "version": 3
   },
   "file_extension": ".py",
   "mimetype": "text/x-python",
   "name": "python",
   "nbconvert_exporter": "python",
   "pygments_lexer": "ipython3",
   "version": "3.8.5"
  }
 },
 "nbformat": 4,
 "nbformat_minor": 2
}
