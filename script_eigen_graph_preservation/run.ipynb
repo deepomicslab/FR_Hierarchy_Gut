{
 "cells": [
  {
   "cell_type": "markdown",
   "metadata": {},
   "source": [
    "This script finds eigen species and plot the result"
   ]
  },
  {
   "cell_type": "code",
   "execution_count": 3,
   "metadata": {},
   "outputs": [],
   "source": [
    "# This script finds eigen species and plot the result\n",
    "import os\n",
    "plist = ['ACVD',\n",
    " 'BD',\n",
    " 'CRC',\n",
    " 'IBD',\n",
    " 'IGT',\n",
    " 'CFS',\n",
    " 'STH',\n",
    " 'T2D',\n",
    " 'adenoma',\n",
    " 'asthma',\n",
    " 'carcinoma_surgery_history',\n",
    " 'hypertension',\n",
    " 'migraine',\n",
    " 'schizofrenia']\n",
    "outer = '../data'\n",
    "cluster = '../result/GCN_fix_tree/leaves_cluster.tsv'\n",
    "outdir = '../result/eigen'\n",
    "if not os.path.exists(outdir):\n",
    "    os.makedirs(outdir)\n",
    "\n",
    "for p in plist:\n",
    "    for cohort in os.listdir(os.path.join(outer, p)):\n",
    "        od = os.path.join(outdir, p)\n",
    "        if not os.path.exists(od):\n",
    "            os.makedirs(od)\n",
    "        tmp1 = 'python run_eigenspecies_COHORT.py --pheno {} --prefix {} --idir {} --odir {} --cluster {}'.format(p, cohort, outer, outdir, cluster)\n",
    "        e = os.system(tmp1)\n",
    "        # print(e, tmp1)\n",
    "        prefix = os.path.join(od, cohort)\n",
    "        tmp2 = 'python run_presev.py --n1 {}.health --n2 {}.disease --odir {}'.format(prefix, prefix, od)\n",
    "        e = os.system(tmp2)\n",
    "        # print(e, tmp2)\n",
    "        tmp3 = 'Rscript run_preservation_COHORT.R {}.health {}.disease {}'.format(cohort, cohort, od)\n",
    "        e = os.system(tmp3)\n",
    "        # print(e, tmp3)\n",
    "        \n",
    "        tmp4 = 'python run_eigenspecies_together_COHORT.py --pheno {} --prefix {} --idir {} --odir {} --cluster {}'.format(p, cohort, outer, outdir, cluster)\n",
    "        e = os.system(tmp4)\n",
    "        # print(e, tmp4)\n",
    "        tmp5 = 'python run_numeric_eigen_COHORT.py --pheno {} --prefix {} --idir {} --odir {}'.format(p, cohort, outer, outdir)\n",
    "        e = os.system(tmp5)\n",
    "        # print(e, tmp5)"
   ]
  },
  {
   "cell_type": "code",
   "execution_count": null,
   "metadata": {},
   "outputs": [],
   "source": []
  }
 ],
 "metadata": {
  "kernelspec": {
   "display_name": "meta_fr_r",
   "language": "python",
   "name": "python3"
  },
  "language_info": {
   "codemirror_mode": {
    "name": "ipython",
    "version": 3
   },
   "file_extension": ".py",
   "mimetype": "text/x-python",
   "name": "python",
   "nbconvert_exporter": "python",
   "pygments_lexer": "ipython3",
   "version": "3.8.20"
  }
 },
 "nbformat": 4,
 "nbformat_minor": 2
}
