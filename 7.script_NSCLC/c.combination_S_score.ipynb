{
 "cells": [
  {
   "cell_type": "markdown",
   "metadata": {},
   "source": [
    "Compute combined S score for each sample."
   ]
  },
  {
   "cell_type": "code",
   "execution_count": 1,
   "metadata": {},
   "outputs": [],
   "source": [
    "# Compute combined S score for each sample\n",
    "import sys\n",
    "import os\n",
    "import pandas as pd\n",
    "import json\n",
    "sys.path.append('../src')\n",
    "import abd_profile\n",
    "from lifelines import KaplanMeierFitter\n",
    "from lifelines.utils import median_survival_times\n",
    "import matplotlib.pyplot as plt"
   ]
  },
  {
   "cell_type": "code",
   "execution_count": 2,
   "metadata": {},
   "outputs": [],
   "source": [
    "# load data\n",
    "sig_dir = '../result/immu/SE_sig'\n",
    "se_dir = '../result/immu/SE'\n",
    "outdir = '../result/immu/combine'\n",
    "if not os.path.exists(outdir):\n",
    "    os.makedirs(outdir)\n",
    "sig_sp_dict = json.load(open(os.path.join(sig_dir,'cluster_sp.json')))\n",
    "se_sp_dict = json.load(open(os.path.join(se_dir,'cluster_sp.json')))\n",
    "sig_sp_dict['sig1'] = sig_sp_dict['sig1'].split(',')\n",
    "sig_sp_dict['sig2'] = sig_sp_dict['sig2'].split(',')\n",
    "se_sp_dict['supercluster_S3'] = se_sp_dict['supercluster_S3'].split(',')\n",
    "se_sp_dict['cluster_S1-C20'] = se_sp_dict['cluster_S1-C20'].split(',')\n",
    "\n",
    "# load size of sig\n",
    "sig_sps = json.load(open(os.path.join(sig_dir,'existed_sp.json')))\n",
    "se_sps = json.load(open(os.path.join(se_dir,'existed_sp.json')))\n"
   ]
  },
  {
   "cell_type": "code",
   "execution_count": 17,
   "metadata": {},
   "outputs": [
    {
     "name": "stdout",
     "output_type": "stream",
     "text": [
      "SIG1 ∩ SIG_FR1: 0\n",
      "SIG2 ∩ SIG_FR2: 6\n",
      "\n",
      "SIG2 ∩ SIG_FR2 elements:\n",
      "  s__Eubacterium_rectale\n",
      "  s__Roseburia_inulinivorans\n",
      "  s__Roseburia_intestinalis\n",
      "  s__Roseburia_hominis\n",
      "  s__Coprococcus_eutactus\n",
      "  s__Lachnospira_pectinoschiza\n"
     ]
    }
   ],
   "source": [
    "# Compare species list of SIG1/SIG_FR1, SIG2/SIG_FR2\n",
    "\n",
    "SIG1 = set(sig_sp_dict['sig1'])\n",
    "SIG2 = set(sig_sp_dict['sig2'])\n",
    "SIG_FR1 = set(se_sp_dict['supercluster_S3'])\n",
    "SIG_FR2 = set(se_sp_dict['cluster_S1-C20'])\n",
    "\n",
    "intersection1 = SIG1.intersection(SIG_FR1)\n",
    "intersection2 = SIG2.intersection(SIG_FR2)\n",
    "\n",
    "print(f\"SIG1 ∩ SIG_FR1: {len(intersection1)}\")\n",
    "print(f\"SIG2 ∩ SIG_FR2: {len(intersection2)}\")\n",
    "\n",
    "if len(intersection1) > 0:\n",
    "    print(f\"\\nSIG1 ∩ SIG_FR1 elements:\")\n",
    "    for item in intersection1:\n",
    "        print(f\"  {item}\")\n",
    "\n",
    "if len(intersection2) > 0:\n",
    "    print(f\"\\nSIG2 ∩ SIG_FR2 elements:\")\n",
    "    for item in intersection2:\n",
    "        print(f\"  {item}\")"
   ]
  },
  {
   "cell_type": "code",
   "execution_count": 3,
   "metadata": {},
   "outputs": [],
   "source": [
    "# combine sig and cluster\n",
    "new_sp_dict = {}\n",
    "new_sp_dict['pos'] = list(set(sig_sp_dict['sig2']).union(set(se_sp_dict['cluster_S1-C20'])))\n",
    "new_sp_dict['neg'] = list(set(sig_sp_dict['sig1']).union(set(se_sp_dict['supercluster_S3'])))\n",
    "\n",
    "sample_sps = {'pos':{}, 'neg':{}}\n",
    "# neg\n",
    "for sample in sig_sps['sig1'].keys():\n",
    "    sp_list_sig = sig_sps['sig1'][sample].split(',')\n",
    "    sp_list_se = se_sps['supercluster_S3'][sample].split(',')\n",
    "    all_sp = list(set(sp_list_sig).union(set(sp_list_se)))\n",
    "    sample_sps['neg'][sample] = all_sp\n",
    "\n",
    "# pos \n",
    "for sample in sig_sps['sig2'].keys():\n",
    "    sp_list_sig = sig_sps['sig2'][sample].split(',')\n",
    "    sp_list_se = se_sps['cluster_S1-C20'][sample].split(',')\n",
    "    all_sp = list(set(sp_list_sig).union(set(sp_list_se)))\n",
    "    sample_sps['pos'][sample] = all_sp\n"
   ]
  },
  {
   "cell_type": "code",
   "execution_count": null,
   "metadata": {},
   "outputs": [],
   "source": []
  },
  {
   "cell_type": "code",
   "execution_count": 4,
   "metadata": {},
   "outputs": [],
   "source": [
    "# compute FR S score of combined sig'\n",
    "score_df = pd.DataFrame(index= sample_sps['pos'].keys(), columns=['score'])\n",
    "for sample in sample_sps['pos'].keys():\n",
    "    pos = len(set(sample_sps['pos'][sample]).intersection(set(new_sp_dict['pos'])))/len(new_sp_dict['pos'])\n",
    "    neg = len(set(sample_sps['neg'][sample]).intersection(set(new_sp_dict['neg'])))/len(new_sp_dict['neg'])\n",
    "    score_df.loc[sample, 'score'] = (pos - neg +1)/2\n",
    "score_df.to_csv(os.path.join(outdir, 'score_disc.tsv'), sep='\\t')"
   ]
  },
  {
   "cell_type": "code",
   "execution_count": 5,
   "metadata": {},
   "outputs": [
    {
     "name": "stdout",
     "output_type": "stream",
     "text": [
      "0.65625 42 64\n",
      "0.2948717948717949 23 78\n"
     ]
    }
   ],
   "source": [
    "# merge FR S score to metadata and binary classification TOPOB01 0 for NR, 1 for R\n",
    "DS1 = pd.read_csv('../data/immu/DS1_oncology_clinical_data.csv', header=0)\n",
    "DS1 = DS1[DS1['Cohort']=='Disc']\n",
    "DS1.set_index('Sample_id', inplace=True)\n",
    "DS1.dropna(subset=['OS12'], inplace=True)\n",
    "DS1['Sample_id'] = DS1.index\n",
    "\n",
    "pred_disc = pd.read_csv(os.path.join(outdir, 'score_disc.tsv'), sep='\\t', header=0, index_col=0)\n",
    "DS1['TOPOB01'] = pred_disc.loc[DS1.index, 'score']\n",
    "DS1.to_csv(os.path.join(outdir, 'pred_disc.tsv'), sep='\\t', index=False)\n",
    "pred_DS1 = DS1[(DS1['TOPOB01'] <= 0.499) | (DS1['TOPOB01'] > 0.643)]\n",
    "pred_DS1.to_csv(os.path.join(outdir, 'pred_valid.tsv'), sep='\\t', index=False)\n",
    "\n",
    "DS1.loc[DS1[DS1['TOPOB01'] <= 0.499].index, 'TOPOB01'] = 0\n",
    "DS1.loc[DS1[DS1['TOPOB01'] > 0.643].index, 'TOPOB01'] = 1\n",
    "pred_DS1 = DS1[(DS1['TOPOB01'] == 0) | (DS1['TOPOB01'] == 1)]\n",
    "pred_DS1.to_csv(os.path.join(outdir, 'pred_binary_disc.tsv'), sep='\\t', index=False)\n",
    "print(len(pred_DS1[((pred_DS1['OS12']=='NR')&(pred_DS1['TOPOB01'] == 0))])/len(pred_DS1[pred_DS1['TOPOB01'] == 0]), len(pred_DS1[((pred_DS1['OS12']=='NR')&(pred_DS1['TOPOB01'] == 0))]), len(pred_DS1[pred_DS1['TOPOB01'] == 0]))\n",
    "print(len(pred_DS1[((pred_DS1['OS12']=='NR')&(pred_DS1['TOPOB01'] == 1))])/len(pred_DS1[pred_DS1['TOPOB01'] == 1]), len(pred_DS1[((pred_DS1['OS12']=='NR')&(pred_DS1['TOPOB01'] == 1))]), len(pred_DS1[pred_DS1['TOPOB01'] == 1]))\n",
    "\n",
    "# NR [64] < 0.50 < gray_zone [88] < 0.64 < R [78]\n",
    "# auc = 0.680\n",
    "# Prediction discovery: HR = 0.41 [0.28-0.61], p = 1.3e-05"
   ]
  },
  {
   "cell_type": "code",
   "execution_count": 6,
   "metadata": {},
   "outputs": [
    {
     "name": "stdout",
     "output_type": "stream",
     "text": [
      "SIG2:       SIG2_lower_0.95  SIG2_upper_0.95\n",
      "0.5        15.713346        30.703485\n",
      "SIG1:       SIG1_lower_0.95  SIG1_upper_0.95\n",
      "0.5         3.287311             10.8\n"
     ]
    }
   ],
   "source": [
    "# plot OS curve\n",
    "\n",
    "kmf = KaplanMeierFitter()\n",
    "kmf.fit(pred_DS1[pred_DS1['TOPOB01']==1]['OS'], event_observed=pred_DS1[pred_DS1['TOPOB01']==1]['Death'], label='SIG2')\n",
    "ax = kmf.plot(figsize =(4.2,4))\n",
    "treatment_median_confidence_interval_ = median_survival_times(kmf.confidence_interval_)\n",
    "print('SIG2: ', treatment_median_confidence_interval_)\n",
    "kmf.fit(pred_DS1[pred_DS1['TOPOB01']==0]['OS'], event_observed=pred_DS1[pred_DS1['TOPOB01']==0]['Death'], label = 'SIG1')\n",
    "ax = kmf.plot(ax=ax)\n",
    "\n",
    "control_median_confidence_interval_ = median_survival_times(kmf.confidence_interval_)\n",
    "print('SIG1: ', control_median_confidence_interval_)\n",
    "\n",
    "plt.ylabel('Overall Survival')\n",
    "plt.xlabel('Time (Months)')\n",
    "plt.title('Combined S Score')\n",
    "plt.savefig(os.path.join(outdir, 'OS_curve.pdf'), dpi=300, format='pdf')\n",
    "plt.clf()"
   ]
  },
  {
   "cell_type": "code",
   "execution_count": 7,
   "metadata": {},
   "outputs": [
    {
     "name": "stdout",
     "output_type": "stream",
     "text": [
      "28 60 0.3181818181818182\n",
      "0.12173913043478261 0.2608695652173913\n",
      "0.21304347826086956 0.04782608695652174\n",
      "0.5887096774193549\n",
      "0.36792452830188677\n",
      "124\n",
      "106\n"
     ]
    }
   ],
   "source": [
    "# add akk\n",
    "normal_n = 0\n",
    "abnormal_n = 0\n",
    "zero_n = 0\n",
    "for sample in DS1.index:\n",
    "    if DS1.loc[sample, 'TOPOB01'] < 1 and DS1.loc[sample, 'TOPOB01'] > 0:\n",
    "        if DS1.loc[sample, 'AKK_TRICHO'] == 'Low':\n",
    "            DS1.loc[sample, 'TOPOB01'] = 1\n",
    "            normal_n += 1\n",
    "        else:\n",
    "            DS1.loc[sample, 'TOPOB01'] = 0\n",
    "            if DS1.loc[sample, 'AKK_TRICHO'] == 'Zero':\n",
    "                zero_n += 1\n",
    "            abnormal_n += 1\n",
    "DS1.to_csv(os.path.join(outdir, 'pred_disc_akk.tsv'), sep='\\t', index=False)\n",
    "print(normal_n, abnormal_n, normal_n/(normal_n+abnormal_n))\n",
    "print(normal_n/230, abnormal_n/230)\n",
    "print(zero_n/230, (abnormal_n-zero_n)/230)\n",
    "print(len(DS1[((DS1['OS12']=='NR')&(DS1['TOPOB01'] == 0))])/len(DS1[DS1['TOPOB01'] == 0]))\n",
    "print(len(DS1[((DS1['OS12']=='NR')&(DS1['TOPOB01'] == 1))])/len(DS1[DS1['TOPOB01'] == 1]))\n",
    "print(len(DS1[DS1['TOPOB01'] == 0]))\n",
    "print(len(DS1[DS1['TOPOB01'] == 1]))\n",
    "# auc = 0.61"
   ]
  },
  {
   "cell_type": "code",
   "execution_count": null,
   "metadata": {},
   "outputs": [],
   "source": []
  }
 ],
 "metadata": {
  "kernelspec": {
   "display_name": "Python (meta_fr)",
   "language": "python",
   "name": "meta_fr"
  },
  "language_info": {
   "codemirror_mode": {
    "name": "ipython",
    "version": 3
   },
   "file_extension": ".py",
   "mimetype": "text/x-python",
   "name": "python",
   "nbconvert_exporter": "python",
   "pygments_lexer": "ipython3",
   "version": "3.8.20"
  }
 },
 "nbformat": 4,
 "nbformat_minor": 2
}
