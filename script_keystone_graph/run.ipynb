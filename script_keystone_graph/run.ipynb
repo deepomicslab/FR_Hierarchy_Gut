{
 "cells": [
  {
   "cell_type": "code",
   "execution_count": 1,
   "metadata": {},
   "outputs": [],
   "source": [
    "import os \n",
    "#id pheno\n",
    "indir = \"../result/pheno_result\"\n",
    "diff_dir = \"../result/taxa_abd_check\"\n",
    "leave_path = \"../result/GCN_fix_tree/leaves_cluster.tsv\"\n",
    "outdir = \"../result/keystone\"\n",
    "if not os.path.exists(outdir):\n",
    "    os.makedirs(outdir)\n",
    "    \n",
    "for pheno in os.listdir(indir):\n",
    "    for id in os.listdir(indir+\"/\"+pheno):\n",
    "        os.system(\"perl 1.mk_eigen_stat.pl {} {} {} {} {} {}\".format(id, pheno, indir, diff_dir, leave_path, outdir))"
   ]
  },
  {
   "cell_type": "code",
   "execution_count": 2,
   "metadata": {},
   "outputs": [],
   "source": [
    "\n",
    "for pheno in os.listdir(indir):\n",
    "    for id in os.listdir(indir+\"/\"+pheno):\n",
    "        prefix = \"{}/{}\".format(outdir, id)\n",
    "        os.system(\"Rscript page_rank.2.R {}\".format(prefix))"
   ]
  },
  {
   "cell_type": "code",
   "execution_count": null,
   "metadata": {},
   "outputs": [],
   "source": []
  }
 ],
 "metadata": {
  "kernelspec": {
   "display_name": "base",
   "language": "python",
   "name": "python3"
  },
  "language_info": {
   "codemirror_mode": {
    "name": "ipython",
    "version": 3
   },
   "file_extension": ".py",
   "mimetype": "text/x-python",
   "name": "python",
   "nbconvert_exporter": "python",
   "pygments_lexer": "ipython3",
   "version": "3.8.5"
  }
 },
 "nbformat": 4,
 "nbformat_minor": 2
}
