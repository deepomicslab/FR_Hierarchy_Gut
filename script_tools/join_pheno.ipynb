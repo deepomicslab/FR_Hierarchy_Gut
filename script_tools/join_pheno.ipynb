{
 "cells": [
  {
   "cell_type": "code",
   "execution_count": 1,
   "metadata": {},
   "outputs": [],
   "source": [
    "import os\n",
    "import copy\n",
    "\n",
    "outdir = \"../result/pheno_plot_supp\"\n",
    "if not os.path.exists(outdir):\n",
    "    os.mkdir(outdir)\n",
    "\n",
    "pheno_dir = \"../result/pheno_result\"\n",
    "kdir = \"../2.keystone_graph\"\n",
    "edir = \"../3.eigen_graph_preservation\"\n",
    "\n",
    "with open('com_temp.html', 'r') as f:\n",
    "    tmp = f.read()\n",
    "\n",
    "for pheno in os.listdir(pheno_dir):\n",
    "    for id in os.listdir(pheno_dir+\"/\"+pheno):\n",
    "        N0PATH = '../pheno_result/{}/{}/sp/cluster_Health/network.svg'.format(pheno, id)\n",
    "        N1PATH = '../pheno_result/{}/{}/sp/cluster_{}/network.svg'.format(pheno, id, pheno)\n",
    "        KPATH = '../keystone/{}.PR.svg'.format(id)\n",
    "        E0PATH = '../eigen/{}.health.eigengene_cor.svg'.format(id)\n",
    "        E1PATH = '../eigen/{}.disease.eigengene_cor.svg'.format(id)\n",
    "        MPATH = '../eigen/{}.health.{}.disease.preserv_matrix.svg'.format(id, id)\n",
    "        DPATH = '../eigen/{}.health.{}.disease.preserv_density.svg'.format(id, id)\n",
    "        s = copy.deepcopy(tmp)\n",
    "        s = s.replace('N0PATH', N0PATH)\n",
    "        s = s.replace('N1PATH', N1PATH)\n",
    "        s = s.replace('KPATH', KPATH)\n",
    "        s = s.replace('E0PATH', E0PATH)\n",
    "        s = s.replace('E1PATH', E1PATH)\n",
    "        s = s.replace('MPATH', MPATH)\n",
    "        s = s.replace('DPATH', DPATH)\n",
    "        s = s.replace('CID', id)\n",
    "        with open(os.path.join(outdir, \"{}.html\".format(id)), 'w') as f:\n",
    "            f.write(s)"
   ]
  },
  {
   "cell_type": "code",
   "execution_count": null,
   "metadata": {},
   "outputs": [],
   "source": []
  }
 ],
 "metadata": {
  "kernelspec": {
   "display_name": "base",
   "language": "python",
   "name": "python3"
  },
  "language_info": {
   "codemirror_mode": {
    "name": "ipython",
    "version": 3
   },
   "file_extension": ".py",
   "mimetype": "text/x-python",
   "name": "python",
   "nbconvert_exporter": "python",
   "pygments_lexer": "ipython3",
   "version": "3.8.5"
  }
 },
 "nbformat": 4,
 "nbformat_minor": 2
}
