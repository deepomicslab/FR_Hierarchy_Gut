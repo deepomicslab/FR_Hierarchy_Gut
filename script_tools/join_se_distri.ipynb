{
 "cells": [
  {
   "cell_type": "code",
   "execution_count": 1,
   "metadata": {},
   "outputs": [],
   "source": [
    "import os \n",
    "import copy\n",
    "\n",
    "row_temp = '\\\n",
    "    <div class=\"row\">\\n\\\n",
    "        <div class=\"col\">\\n\\\n",
    "            <text class=\"order\"><span class=\"bold-text\">{}</span></text>\\n\\\n",
    "        </div> \\n\\\n",
    "        <div class=\"col\"> \\n\\\n",
    "            <img src=\"{}\" width=\"1000\" height=\"288\" alt=\"{}\">\\n\\\n",
    "        </div>\\\n",
    "    </div>\\n'\n",
    "outdir = \"../result/se_distri_plot_supp\"\n",
    "if not os.path.exists(outdir):\n",
    "    os.mkdir(outdir)\n",
    "\n",
    "indir = '../result/GCN_fix_tree/SE/SE_distribution'\n",
    "cohort_dict = {}\n",
    "for cluster in os.listdir(indir):\n",
    "    for svg_file in os.listdir(os.path.join(indir, cluster)):\n",
    "        cid = svg_file.split('.')[0]\n",
    "        svg_path = '../GCN_fix_tree/SE/SE_distribution/{}/{}'\n",
    "        if cid not in cohort_dict:\n",
    "            cohort_dict[cid] = {}\n",
    "        cohort_dict[cid][cluster] = svg_path.format(cluster, svg_file)\n"
   ]
  },
  {
   "cell_type": "code",
   "execution_count": 2,
   "metadata": {},
   "outputs": [],
   "source": [
    "with open('comb_distri_temp.html', 'r') as f:\n",
    "    html_temp = f.read()\n",
    "\n",
    "for cohort in cohort_dict:\n",
    "    cohort_html = ''\n",
    "    cnumber = len(cohort_dict[cohort].keys())\n",
    "    width = 1080\n",
    "    height = 288 * cnumber\n",
    "    i = 0\n",
    "    for cluster in cohort_dict[cohort]:\n",
    "        order_c = chr(65 + i)\n",
    "        cohort_html += row_temp.format(order_c, cohort_dict[cohort][cluster], cluster)\n",
    "        i += 1\n",
    "    with open(os.path.join(outdir, '{}_SE_distri.html'.format(cohort)), 'w') as f:\n",
    "        f.write(copy.deepcopy(html_temp).replace('CONTENTS', cohort_html))"
   ]
  },
  {
   "cell_type": "code",
   "execution_count": null,
   "metadata": {},
   "outputs": [],
   "source": []
  }
 ],
 "metadata": {
  "kernelspec": {
   "display_name": "base",
   "language": "python",
   "name": "python3"
  },
  "language_info": {
   "codemirror_mode": {
    "name": "ipython",
    "version": 3
   },
   "file_extension": ".py",
   "mimetype": "text/x-python",
   "name": "python",
   "nbconvert_exporter": "python",
   "pygments_lexer": "ipython3",
   "version": "3.8.5"
  }
 },
 "nbformat": 4,
 "nbformat_minor": 2
}
