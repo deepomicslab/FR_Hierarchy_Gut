{
 "cells": [
  {
   "cell_type": "markdown",
   "metadata": {},
   "source": [
    "Output some detail statistic information of SE/nFR, including variance, mean, non zero rate, difference of mean value"
   ]
  },
  {
   "cell_type": "code",
   "execution_count": 1,
   "metadata": {},
   "outputs": [],
   "source": [
    "# output some detail statistic information of SE\n",
    "import os\n",
    "import pandas as pd\n",
    "import numpy as np\n",
    "import warnings\n",
    "warnings.filterwarnings(\"ignore\")"
   ]
  },
  {
   "cell_type": "code",
   "execution_count": 2,
   "metadata": {},
   "outputs": [],
   "source": [
    "def compare(pheno_profiles, p_line):    \n",
    "    pheno_list = list(pheno_profiles.keys())\n",
    "    disease = ''\n",
    "    for pheno in pheno_list:\n",
    "        if pheno != 'Health':\n",
    "            disease = pheno\n",
    "    p_df = pd.DataFrame(columns=['mean(case)', 'mean(control)', 'var(case)', 'var(control)', 'fc(case/control)', 'diff(case-control)', 'abs', 'non_zero(control)', 'non_zero(case)', 'non_zero%(control)', 'non_zero%(case)', 'p_adj'], index=list(pheno_profiles[disease].columns))\n",
    "\n",
    "    # check each taxon\n",
    "    for idx in pheno_profiles[disease].columns:\n",
    "        disease_v = list(pheno_profiles[disease][idx])\n",
    "        control_v = list(pheno_profiles['Health'][idx])\n",
    "        p_df.loc[idx, 'mean(case)'] = np.mean(disease_v)\n",
    "        p_df.loc[idx, 'mean(control)'] = np.mean(control_v)\n",
    "        p_df.loc[idx, 'var(case)'] = np.var(disease_v)\n",
    "        p_df.loc[idx, 'var(control)'] = np.var(control_v)\n",
    "        p_df.loc[idx, 'diff(case-control)'] = p_df.loc[idx, 'mean(case)'] - p_df.loc[idx, 'mean(control)']\n",
    "        p_df.loc[idx, 'fc(case/control)'] = p_df.loc[idx, 'mean(case)']/p_df.loc[idx, 'mean(control)']\n",
    "        p_df.loc[idx, 'non_zero(case)'] = len(disease_v) - disease_v.count(0)\n",
    "        p_df.loc[idx, 'non_zero(control)'] = len(control_v) - control_v.count(0)\n",
    "        p_df.loc[idx, 'non_zero%(case)'] = p_df.loc[idx, 'non_zero(case)']/len(disease_v)\n",
    "        p_df.loc[idx, 'non_zero%(control)'] = p_df.loc[idx, 'non_zero(control)']/len(control_v)\n",
    "    p_df['abs'] = abs(p_df['diff(case-control)'])\n",
    "\n",
    "    for cluster in p_line.index:\n",
    "        p_df.loc[cluster, 'p_adj'] = p_line[cluster]\n",
    "\n",
    "\n",
    "    return p_df\n"
   ]
  },
  {
   "cell_type": "code",
   "execution_count": 11,
   "metadata": {},
   "outputs": [],
   "source": [
    "p_cutoff = 0.05\n",
    "plist = ['ACVD',\n",
    " 'BD',\n",
    " 'CRC',\n",
    " 'IBD',\n",
    " 'IGT',\n",
    " 'CFS',\n",
    " 'STH',\n",
    " 'T2D',\n",
    " 'adenoma',\n",
    " 'asthma',\n",
    " 'carcinoma_surgery_history',\n",
    " 'hypertension',\n",
    " 'migraine',\n",
    " 'schizofrenia']\n",
    "\n",
    "# test SE\n",
    "indir = '../result/large_scale_cohort'\n",
    "all_cohort_df = pd.read_csv(os.path.join(indir, 'p_all_cohorts_se.tsv'), sep='\\t', index_col=0)\n",
    "for disease in plist:\n",
    "    d_dir = os.path.join(indir, disease)\n",
    "    for cohort in os.listdir(d_dir):\n",
    "        if os.path.isdir(os.path.join(d_dir, cohort)) == False:\n",
    "            continue\n",
    "        idir = os.path.join(d_dir, cohort, 'SE')\n",
    "        pheno_profiles = {}\n",
    "        for pheno in os.listdir(idir):\n",
    "            if not pheno.startswith('se'):\n",
    "                continue\n",
    "            pheno_short = pheno.split('.')[0].split('_')[1]\n",
    "            pheno_profiles[pheno_short] = pd.read_csv(os.path.join(idir, pheno), sep='\\t', index_col=0)\n",
    "\n",
    "        if len(list(pheno_profiles.keys())) >1:\n",
    "            p_df = compare(pheno_profiles, all_cohort_df.loc[cohort, ])\n",
    "            outpath = os.path.join(idir, 'p_detail.tsv')\n",
    "            p_df.to_csv(outpath, sep='\\t', index=True)\n"
   ]
  },
  {
   "cell_type": "code",
   "execution_count": 12,
   "metadata": {},
   "outputs": [],
   "source": [
    "# test nFR\n",
    "all_cohort_df = pd.read_csv(os.path.join(indir, 'p_all_cohorts_nfr.tsv'), sep='\\t', index_col=0)\n",
    "for disease in plist:\n",
    "    d_dir = os.path.join(indir, disease)\n",
    "    for cohort in os.listdir(d_dir):\n",
    "        if os.path.isdir(os.path.join(d_dir, cohort)) == False:\n",
    "            continue\n",
    "        idir = os.path.join(d_dir, cohort, 'nFR')\n",
    "        pheno_profiles = {}\n",
    "        for pheno in os.listdir(idir):\n",
    "            if not pheno.startswith('fr'):\n",
    "                continue\n",
    "            pheno_short = pheno.split('.')[0].split('_')[1]\n",
    "            pheno_profiles[pheno_short] = pd.read_csv(os.path.join(idir, pheno), sep='\\t', index_col=0)\n",
    "\n",
    "        if len(list(pheno_profiles.keys())) >1:\n",
    "            p_df = compare(pheno_profiles, all_cohort_df.loc[cohort, ])\n",
    "            outpath = os.path.join(idir, 'p_detail.tsv')\n",
    "            p_df.to_csv(outpath, sep='\\t', index=True)"
   ]
  },
  {
   "cell_type": "code",
   "execution_count": null,
   "metadata": {},
   "outputs": [],
   "source": []
  }
 ],
 "metadata": {
  "kernelspec": {
   "display_name": "meta_fr_r",
   "language": "python",
   "name": "python3"
  },
  "language_info": {
   "codemirror_mode": {
    "name": "ipython",
    "version": 3
   },
   "file_extension": ".py",
   "mimetype": "text/x-python",
   "name": "python",
   "nbconvert_exporter": "python",
   "pygments_lexer": "ipython3",
   "version": "3.8.20"
  }
 },
 "nbformat": 4,
 "nbformat_minor": 2
}
