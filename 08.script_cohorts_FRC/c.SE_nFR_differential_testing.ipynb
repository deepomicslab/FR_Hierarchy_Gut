{
 "cells": [
  {
   "cell_type": "markdown",
   "metadata": {},
   "source": [
    "Output some detail statistic information of SE/nFR, including variance, mean, non zero rate, difference of mean value"
   ]
  },
  {
   "cell_type": "code",
   "execution_count": 1,
   "metadata": {},
   "outputs": [],
   "source": [
    "# output some detail statistic information of SE\n",
    "import os\n",
    "import pandas as pd\n",
    "import numpy as np\n",
    "import warnings\n",
    "warnings.filterwarnings(\"ignore\")"
   ]
  },
  {
   "cell_type": "code",
   "execution_count": 2,
   "metadata": {},
   "outputs": [],
   "source": [
    "def compare(pheno_profiles, p_line):    \n",
    "    pheno_list = list(pheno_profiles.keys())\n",
    "    disease = ''\n",
    "    for pheno in pheno_list:\n",
    "        if pheno != 'Health':\n",
    "            disease = pheno\n",
    "    p_df = pd.DataFrame(columns=['mean(case)', 'mean(control)', 'var(case)', 'var(control)', 'fc(case/control)', 'diff(case-control)', 'abs', 'non_zero(control)', 'non_zero(case)', 'non_zero%(control)', 'non_zero%(case)', 'p_adj'], index=list(pheno_profiles[disease].columns))\n",
    "\n",
    "    # check each taxon\n",
    "    for idx in pheno_profiles[disease].columns:\n",
    "        disease_v = list(pheno_profiles[disease][idx])\n",
    "        control_v = list(pheno_profiles['Health'][idx])\n",
    "        p_df.loc[idx, 'mean(case)'] = np.mean(disease_v)\n",
    "        p_df.loc[idx, 'mean(control)'] = np.mean(control_v)\n",
    "        p_df.loc[idx, 'var(case)'] = np.var(disease_v)\n",
    "        p_df.loc[idx, 'var(control)'] = np.var(control_v)\n",
    "        p_df.loc[idx, 'diff(case-control)'] = p_df.loc[idx, 'mean(case)'] - p_df.loc[idx, 'mean(control)']\n",
    "        p_df.loc[idx, 'fc(case/control)'] = p_df.loc[idx, 'mean(case)']/p_df.loc[idx, 'mean(control)']\n",
    "        p_df.loc[idx, 'non_zero(case)'] = len(disease_v) - disease_v.count(0)\n",
    "        p_df.loc[idx, 'non_zero(control)'] = len(control_v) - control_v.count(0)\n",
    "        p_df.loc[idx, 'non_zero%(case)'] = p_df.loc[idx, 'non_zero(case)']/len(disease_v)\n",
    "        p_df.loc[idx, 'non_zero%(control)'] = p_df.loc[idx, 'non_zero(control)']/len(control_v)\n",
    "    p_df['abs'] = abs(p_df['diff(case-control)'])\n",
    "\n",
    "    for cluster in p_line.index:\n",
    "        p_df.loc[cluster, 'p_adj'] = p_line[cluster]\n",
    "\n",
    "\n",
    "    return p_df\n"
   ]
  },
  {
   "cell_type": "code",
   "execution_count": 3,
   "metadata": {},
   "outputs": [],
   "source": [
    "p_cutoff = 0.05\n",
    "plist = ['ACVD',\n",
    " 'BD',\n",
    " 'CRC',\n",
    " 'IBD',\n",
    " 'IGT',\n",
    " 'CFS',\n",
    " 'STH',\n",
    " 'T2D',\n",
    " 'adenoma',\n",
    " 'asthma',\n",
    " 'carcinoma_surgery_history',\n",
    " 'hypertension',\n",
    " 'migraine',\n",
    " 'schizofrenia']\n",
    "\n",
    "outer = '../result/GCN_fix_tree/SE/GCN_tree_diff'\n",
    "all_cohort_df = pd.read_csv(os.path.join(outer, 'p_all_cohorts.tsv'), sep='\\t', index_col=0)\n",
    "for project in plist:\n",
    "    out = os.path.join(outer, project)\n",
    "    projects_dir = os.path.join(outer, project)\n",
    "    for dir in os.listdir(projects_dir):\n",
    "        indir = os.path.join(projects_dir, dir)\n",
    "        pheno_profiles = {}\n",
    "        for pheno in os.listdir(indir):\n",
    "            if not pheno.startswith('se'):\n",
    "                continue\n",
    "            pheno_short = pheno.split('.')[0].split('_')[1]\n",
    "            pheno_profiles[pheno_short] = pd.read_csv(os.path.join(indir, pheno), sep='\\t', index_col=0)\n",
    "\n",
    "        if len(list(pheno_profiles.keys())) >1:\n",
    "            p_df = compare(pheno_profiles, all_cohort_df.loc[dir, ])\n",
    "            outpath = os.path.join(indir, 'p_{}.tsv'.format(dir))\n",
    "            p_df.to_csv(outpath, sep='\\t', index=True)\n",
    "            "
   ]
  },
  {
   "cell_type": "code",
   "execution_count": null,
   "metadata": {},
   "outputs": [],
   "source": [
    "p_cutoff = 0.05\n",
    "plist = ['ACVD',\n",
    " 'BD',\n",
    " 'CRC',\n",
    " 'IBD',\n",
    " 'IGT',\n",
    " 'CFS',\n",
    " 'STH',\n",
    " 'T2D',\n",
    " 'adenoma',\n",
    " 'asthma',\n",
    " 'carcinoma_surgery_history',\n",
    " 'hypertension',\n",
    " 'migraine',\n",
    " 'schizofrenia']\n",
    "\n",
    "outer = '../result/GCN_fix_tree/nFR/GCN_tree_diff'\n",
    "all_cohort_df = pd.read_csv(os.path.join(outer, 'p_all_cohorts.tsv'), sep='\\t', index_col=0)\n",
    "for project in plist:\n",
    "    out = os.path.join(outer, project)\n",
    "    projects_dir = os.path.join(outer, project)\n",
    "    for dir in os.listdir(projects_dir):\n",
    "        indir = os.path.join(projects_dir, dir)\n",
    "        pheno_profiles = {}\n",
    "        for pheno in os.listdir(indir):\n",
    "            if not pheno.startswith('fr'):\n",
    "                continue\n",
    "            pheno_short = pheno.split('.')[0].split('_')[1]\n",
    "            pheno_profiles[pheno_short] = pd.read_csv(os.path.join(indir, pheno), sep='\\t', index_col=0)\n",
    "\n",
    "        if len(list(pheno_profiles.keys())) >1:\n",
    "            p_df = compare(pheno_profiles, all_cohort_df.loc[dir, ])\n",
    "            outpath = os.path.join(indir, 'p_{}.tsv'.format(dir))\n",
    "            p_df.to_csv(outpath, sep='\\t', index=True)\n",
    "            "
   ]
  }
 ],
 "metadata": {
  "kernelspec": {
   "display_name": "meta_fr_r",
   "language": "python",
   "name": "python3"
  },
  "language_info": {
   "codemirror_mode": {
    "name": "ipython",
    "version": 3
   },
   "file_extension": ".py",
   "mimetype": "text/x-python",
   "name": "python",
   "nbconvert_exporter": "python",
   "pygments_lexer": "ipython3",
   "version": "3.8.20"
  }
 },
 "nbformat": 4,
 "nbformat_minor": 2
}
